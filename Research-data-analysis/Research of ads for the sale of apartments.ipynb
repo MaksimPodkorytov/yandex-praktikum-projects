{
 "cells": [
  {
   "cell_type": "markdown",
   "metadata": {},
   "source": [
    "# Исследование объявлений о продаже квартир\n",
    "\n",
    "Заказчиком предоставленны данные сервиса Яндекс.Недвижимость — архив объявлений о продаже квартир в Санкт-Петербурге и соседних населённых пунктов за несколько лет. Необходимо выявить ключевые факторы влияющие на стоимость недвижимости в регионе. Нужно определить среднюю рыночную стоимость квадратного метра жилья, а так же оценить влияние географической удаленности от центра на стоимость недвижимости."
   ]
  },
  {
   "cell_type": "markdown",
   "metadata": {},
   "source": [
    "### Шаг 1. Откроем файл с данными и изучим общую информацию. "
   ]
  },
  {
   "cell_type": "code",
   "execution_count": 1,
   "metadata": {
    "scrolled": false
   },
   "outputs": [
    {
     "name": "stdout",
     "output_type": "stream",
     "text": [
      "<class 'pandas.core.frame.DataFrame'>\n",
      "RangeIndex: 23699 entries, 0 to 23698\n",
      "Data columns (total 22 columns):\n",
      "total_images            23699 non-null int64\n",
      "last_price              23699 non-null float64\n",
      "total_area              23699 non-null float64\n",
      "first_day_exposition    23699 non-null object\n",
      "rooms                   23699 non-null int64\n",
      "ceiling_height          14504 non-null float64\n",
      "floors_total            23613 non-null float64\n",
      "living_area             21796 non-null float64\n",
      "floor                   23699 non-null int64\n",
      "is_apartment            2775 non-null object\n",
      "studio                  23699 non-null bool\n",
      "open_plan               23699 non-null bool\n",
      "kitchen_area            21421 non-null float64\n",
      "balcony                 12180 non-null float64\n",
      "locality_name           23650 non-null object\n",
      "airports_nearest        18157 non-null float64\n",
      "cityCenters_nearest     18180 non-null float64\n",
      "parks_around3000        18181 non-null float64\n",
      "parks_nearest           8079 non-null float64\n",
      "ponds_around3000        18181 non-null float64\n",
      "ponds_nearest           9110 non-null float64\n",
      "days_exposition         20518 non-null float64\n",
      "dtypes: bool(2), float64(14), int64(3), object(3)\n",
      "memory usage: 3.7+ MB\n"
     ]
    },
    {
     "data": {
      "text/html": [
       "<div>\n",
       "<style scoped>\n",
       "    .dataframe tbody tr th:only-of-type {\n",
       "        vertical-align: middle;\n",
       "    }\n",
       "\n",
       "    .dataframe tbody tr th {\n",
       "        vertical-align: top;\n",
       "    }\n",
       "\n",
       "    .dataframe thead th {\n",
       "        text-align: right;\n",
       "    }\n",
       "</style>\n",
       "<table border=\"1\" class=\"dataframe\">\n",
       "  <thead>\n",
       "    <tr style=\"text-align: right;\">\n",
       "      <th></th>\n",
       "      <th>total_images</th>\n",
       "      <th>last_price</th>\n",
       "      <th>total_area</th>\n",
       "      <th>first_day_exposition</th>\n",
       "      <th>rooms</th>\n",
       "      <th>ceiling_height</th>\n",
       "      <th>floors_total</th>\n",
       "      <th>living_area</th>\n",
       "      <th>floor</th>\n",
       "      <th>is_apartment</th>\n",
       "      <th>...</th>\n",
       "      <th>kitchen_area</th>\n",
       "      <th>balcony</th>\n",
       "      <th>locality_name</th>\n",
       "      <th>airports_nearest</th>\n",
       "      <th>cityCenters_nearest</th>\n",
       "      <th>parks_around3000</th>\n",
       "      <th>parks_nearest</th>\n",
       "      <th>ponds_around3000</th>\n",
       "      <th>ponds_nearest</th>\n",
       "      <th>days_exposition</th>\n",
       "    </tr>\n",
       "  </thead>\n",
       "  <tbody>\n",
       "    <tr>\n",
       "      <td>0</td>\n",
       "      <td>20</td>\n",
       "      <td>13000000.0</td>\n",
       "      <td>108.0</td>\n",
       "      <td>2019-03-07T00:00:00</td>\n",
       "      <td>3</td>\n",
       "      <td>2.70</td>\n",
       "      <td>16.0</td>\n",
       "      <td>51.0</td>\n",
       "      <td>8</td>\n",
       "      <td>NaN</td>\n",
       "      <td>...</td>\n",
       "      <td>25.0</td>\n",
       "      <td>NaN</td>\n",
       "      <td>Санкт-Петербург</td>\n",
       "      <td>18863.0</td>\n",
       "      <td>16028.0</td>\n",
       "      <td>1.0</td>\n",
       "      <td>482.0</td>\n",
       "      <td>2.0</td>\n",
       "      <td>755.0</td>\n",
       "      <td>NaN</td>\n",
       "    </tr>\n",
       "    <tr>\n",
       "      <td>1</td>\n",
       "      <td>7</td>\n",
       "      <td>3350000.0</td>\n",
       "      <td>40.4</td>\n",
       "      <td>2018-12-04T00:00:00</td>\n",
       "      <td>1</td>\n",
       "      <td>NaN</td>\n",
       "      <td>11.0</td>\n",
       "      <td>18.6</td>\n",
       "      <td>1</td>\n",
       "      <td>NaN</td>\n",
       "      <td>...</td>\n",
       "      <td>11.0</td>\n",
       "      <td>2.0</td>\n",
       "      <td>посёлок Шушары</td>\n",
       "      <td>12817.0</td>\n",
       "      <td>18603.0</td>\n",
       "      <td>0.0</td>\n",
       "      <td>NaN</td>\n",
       "      <td>0.0</td>\n",
       "      <td>NaN</td>\n",
       "      <td>81.0</td>\n",
       "    </tr>\n",
       "    <tr>\n",
       "      <td>2</td>\n",
       "      <td>10</td>\n",
       "      <td>5196000.0</td>\n",
       "      <td>56.0</td>\n",
       "      <td>2015-08-20T00:00:00</td>\n",
       "      <td>2</td>\n",
       "      <td>NaN</td>\n",
       "      <td>5.0</td>\n",
       "      <td>34.3</td>\n",
       "      <td>4</td>\n",
       "      <td>NaN</td>\n",
       "      <td>...</td>\n",
       "      <td>8.3</td>\n",
       "      <td>0.0</td>\n",
       "      <td>Санкт-Петербург</td>\n",
       "      <td>21741.0</td>\n",
       "      <td>13933.0</td>\n",
       "      <td>1.0</td>\n",
       "      <td>90.0</td>\n",
       "      <td>2.0</td>\n",
       "      <td>574.0</td>\n",
       "      <td>558.0</td>\n",
       "    </tr>\n",
       "    <tr>\n",
       "      <td>3</td>\n",
       "      <td>0</td>\n",
       "      <td>64900000.0</td>\n",
       "      <td>159.0</td>\n",
       "      <td>2015-07-24T00:00:00</td>\n",
       "      <td>3</td>\n",
       "      <td>NaN</td>\n",
       "      <td>14.0</td>\n",
       "      <td>NaN</td>\n",
       "      <td>9</td>\n",
       "      <td>NaN</td>\n",
       "      <td>...</td>\n",
       "      <td>NaN</td>\n",
       "      <td>0.0</td>\n",
       "      <td>Санкт-Петербург</td>\n",
       "      <td>28098.0</td>\n",
       "      <td>6800.0</td>\n",
       "      <td>2.0</td>\n",
       "      <td>84.0</td>\n",
       "      <td>3.0</td>\n",
       "      <td>234.0</td>\n",
       "      <td>424.0</td>\n",
       "    </tr>\n",
       "    <tr>\n",
       "      <td>4</td>\n",
       "      <td>2</td>\n",
       "      <td>10000000.0</td>\n",
       "      <td>100.0</td>\n",
       "      <td>2018-06-19T00:00:00</td>\n",
       "      <td>2</td>\n",
       "      <td>3.03</td>\n",
       "      <td>14.0</td>\n",
       "      <td>32.0</td>\n",
       "      <td>13</td>\n",
       "      <td>NaN</td>\n",
       "      <td>...</td>\n",
       "      <td>41.0</td>\n",
       "      <td>NaN</td>\n",
       "      <td>Санкт-Петербург</td>\n",
       "      <td>31856.0</td>\n",
       "      <td>8098.0</td>\n",
       "      <td>2.0</td>\n",
       "      <td>112.0</td>\n",
       "      <td>1.0</td>\n",
       "      <td>48.0</td>\n",
       "      <td>121.0</td>\n",
       "    </tr>\n",
       "  </tbody>\n",
       "</table>\n",
       "<p>5 rows × 22 columns</p>\n",
       "</div>"
      ],
      "text/plain": [
       "   total_images  last_price  total_area first_day_exposition  rooms  \\\n",
       "0            20  13000000.0       108.0  2019-03-07T00:00:00      3   \n",
       "1             7   3350000.0        40.4  2018-12-04T00:00:00      1   \n",
       "2            10   5196000.0        56.0  2015-08-20T00:00:00      2   \n",
       "3             0  64900000.0       159.0  2015-07-24T00:00:00      3   \n",
       "4             2  10000000.0       100.0  2018-06-19T00:00:00      2   \n",
       "\n",
       "   ceiling_height  floors_total  living_area  floor is_apartment  ...  \\\n",
       "0            2.70          16.0         51.0      8          NaN  ...   \n",
       "1             NaN          11.0         18.6      1          NaN  ...   \n",
       "2             NaN           5.0         34.3      4          NaN  ...   \n",
       "3             NaN          14.0          NaN      9          NaN  ...   \n",
       "4            3.03          14.0         32.0     13          NaN  ...   \n",
       "\n",
       "   kitchen_area  balcony    locality_name  airports_nearest  \\\n",
       "0          25.0      NaN  Санкт-Петербург           18863.0   \n",
       "1          11.0      2.0   посёлок Шушары           12817.0   \n",
       "2           8.3      0.0  Санкт-Петербург           21741.0   \n",
       "3           NaN      0.0  Санкт-Петербург           28098.0   \n",
       "4          41.0      NaN  Санкт-Петербург           31856.0   \n",
       "\n",
       "  cityCenters_nearest  parks_around3000  parks_nearest  ponds_around3000  \\\n",
       "0             16028.0               1.0          482.0               2.0   \n",
       "1             18603.0               0.0            NaN               0.0   \n",
       "2             13933.0               1.0           90.0               2.0   \n",
       "3              6800.0               2.0           84.0               3.0   \n",
       "4              8098.0               2.0          112.0               1.0   \n",
       "\n",
       "   ponds_nearest  days_exposition  \n",
       "0          755.0              NaN  \n",
       "1            NaN             81.0  \n",
       "2          574.0            558.0  \n",
       "3          234.0            424.0  \n",
       "4           48.0            121.0  \n",
       "\n",
       "[5 rows x 22 columns]"
      ]
     },
     "metadata": {},
     "output_type": "display_data"
    }
   ],
   "source": [
    "import pandas as pd\n",
    "data = pd.read_csv('/datasets/real_estate_data.csv', sep='\\t')\n",
    "data.info()\n",
    "display(data.head())"
   ]
  },
  {
   "cell_type": "code",
   "execution_count": 680,
   "metadata": {},
   "outputs": [
    {
     "data": {
      "text/html": [
       "<div>\n",
       "<style scoped>\n",
       "    .dataframe tbody tr th:only-of-type {\n",
       "        vertical-align: middle;\n",
       "    }\n",
       "\n",
       "    .dataframe tbody tr th {\n",
       "        vertical-align: top;\n",
       "    }\n",
       "\n",
       "    .dataframe thead th {\n",
       "        text-align: right;\n",
       "    }\n",
       "</style>\n",
       "<table border=\"1\" class=\"dataframe\">\n",
       "  <thead>\n",
       "    <tr style=\"text-align: right;\">\n",
       "      <th></th>\n",
       "      <th>total_images</th>\n",
       "      <th>last_price</th>\n",
       "      <th>total_area</th>\n",
       "      <th>rooms</th>\n",
       "      <th>ceiling_height</th>\n",
       "      <th>floors_total</th>\n",
       "      <th>living_area</th>\n",
       "      <th>floor</th>\n",
       "      <th>kitchen_area</th>\n",
       "      <th>balcony</th>\n",
       "      <th>airports_nearest</th>\n",
       "      <th>cityCenters_nearest</th>\n",
       "      <th>parks_around3000</th>\n",
       "      <th>parks_nearest</th>\n",
       "      <th>ponds_around3000</th>\n",
       "      <th>ponds_nearest</th>\n",
       "      <th>days_exposition</th>\n",
       "    </tr>\n",
       "  </thead>\n",
       "  <tbody>\n",
       "    <tr>\n",
       "      <td>count</td>\n",
       "      <td>23699.000000</td>\n",
       "      <td>2.369900e+04</td>\n",
       "      <td>23699.000000</td>\n",
       "      <td>23699.000000</td>\n",
       "      <td>14504.000000</td>\n",
       "      <td>23613.000000</td>\n",
       "      <td>21796.000000</td>\n",
       "      <td>23699.000000</td>\n",
       "      <td>21421.000000</td>\n",
       "      <td>12180.000000</td>\n",
       "      <td>18157.000000</td>\n",
       "      <td>18180.000000</td>\n",
       "      <td>18181.000000</td>\n",
       "      <td>8079.000000</td>\n",
       "      <td>18181.000000</td>\n",
       "      <td>9110.000000</td>\n",
       "      <td>20518.000000</td>\n",
       "    </tr>\n",
       "    <tr>\n",
       "      <td>mean</td>\n",
       "      <td>9.858475</td>\n",
       "      <td>6.541549e+06</td>\n",
       "      <td>60.348651</td>\n",
       "      <td>2.070636</td>\n",
       "      <td>2.771499</td>\n",
       "      <td>10.673824</td>\n",
       "      <td>34.457852</td>\n",
       "      <td>5.892358</td>\n",
       "      <td>10.569807</td>\n",
       "      <td>1.150082</td>\n",
       "      <td>28793.672193</td>\n",
       "      <td>14191.277833</td>\n",
       "      <td>0.611408</td>\n",
       "      <td>490.804555</td>\n",
       "      <td>0.770255</td>\n",
       "      <td>517.980900</td>\n",
       "      <td>180.888634</td>\n",
       "    </tr>\n",
       "    <tr>\n",
       "      <td>std</td>\n",
       "      <td>5.682529</td>\n",
       "      <td>1.088701e+07</td>\n",
       "      <td>35.654083</td>\n",
       "      <td>1.078405</td>\n",
       "      <td>1.261056</td>\n",
       "      <td>6.597173</td>\n",
       "      <td>22.030445</td>\n",
       "      <td>4.885249</td>\n",
       "      <td>5.905438</td>\n",
       "      <td>1.071300</td>\n",
       "      <td>12630.880622</td>\n",
       "      <td>8608.386210</td>\n",
       "      <td>0.802074</td>\n",
       "      <td>342.317995</td>\n",
       "      <td>0.938346</td>\n",
       "      <td>277.720643</td>\n",
       "      <td>219.727988</td>\n",
       "    </tr>\n",
       "    <tr>\n",
       "      <td>min</td>\n",
       "      <td>0.000000</td>\n",
       "      <td>1.219000e+04</td>\n",
       "      <td>12.000000</td>\n",
       "      <td>0.000000</td>\n",
       "      <td>1.000000</td>\n",
       "      <td>1.000000</td>\n",
       "      <td>2.000000</td>\n",
       "      <td>1.000000</td>\n",
       "      <td>1.300000</td>\n",
       "      <td>0.000000</td>\n",
       "      <td>0.000000</td>\n",
       "      <td>181.000000</td>\n",
       "      <td>0.000000</td>\n",
       "      <td>1.000000</td>\n",
       "      <td>0.000000</td>\n",
       "      <td>13.000000</td>\n",
       "      <td>1.000000</td>\n",
       "    </tr>\n",
       "    <tr>\n",
       "      <td>25%</td>\n",
       "      <td>6.000000</td>\n",
       "      <td>3.400000e+06</td>\n",
       "      <td>40.000000</td>\n",
       "      <td>1.000000</td>\n",
       "      <td>2.520000</td>\n",
       "      <td>5.000000</td>\n",
       "      <td>18.600000</td>\n",
       "      <td>2.000000</td>\n",
       "      <td>7.000000</td>\n",
       "      <td>0.000000</td>\n",
       "      <td>18585.000000</td>\n",
       "      <td>9238.000000</td>\n",
       "      <td>0.000000</td>\n",
       "      <td>288.000000</td>\n",
       "      <td>0.000000</td>\n",
       "      <td>294.000000</td>\n",
       "      <td>45.000000</td>\n",
       "    </tr>\n",
       "    <tr>\n",
       "      <td>50%</td>\n",
       "      <td>9.000000</td>\n",
       "      <td>4.650000e+06</td>\n",
       "      <td>52.000000</td>\n",
       "      <td>2.000000</td>\n",
       "      <td>2.650000</td>\n",
       "      <td>9.000000</td>\n",
       "      <td>30.000000</td>\n",
       "      <td>4.000000</td>\n",
       "      <td>9.100000</td>\n",
       "      <td>1.000000</td>\n",
       "      <td>26726.000000</td>\n",
       "      <td>13098.500000</td>\n",
       "      <td>0.000000</td>\n",
       "      <td>455.000000</td>\n",
       "      <td>1.000000</td>\n",
       "      <td>502.000000</td>\n",
       "      <td>95.000000</td>\n",
       "    </tr>\n",
       "    <tr>\n",
       "      <td>75%</td>\n",
       "      <td>14.000000</td>\n",
       "      <td>6.800000e+06</td>\n",
       "      <td>69.900000</td>\n",
       "      <td>3.000000</td>\n",
       "      <td>2.800000</td>\n",
       "      <td>16.000000</td>\n",
       "      <td>42.300000</td>\n",
       "      <td>8.000000</td>\n",
       "      <td>12.000000</td>\n",
       "      <td>2.000000</td>\n",
       "      <td>37273.000000</td>\n",
       "      <td>16293.000000</td>\n",
       "      <td>1.000000</td>\n",
       "      <td>612.000000</td>\n",
       "      <td>1.000000</td>\n",
       "      <td>729.000000</td>\n",
       "      <td>232.000000</td>\n",
       "    </tr>\n",
       "    <tr>\n",
       "      <td>max</td>\n",
       "      <td>50.000000</td>\n",
       "      <td>7.630000e+08</td>\n",
       "      <td>900.000000</td>\n",
       "      <td>19.000000</td>\n",
       "      <td>100.000000</td>\n",
       "      <td>60.000000</td>\n",
       "      <td>409.700000</td>\n",
       "      <td>33.000000</td>\n",
       "      <td>112.000000</td>\n",
       "      <td>5.000000</td>\n",
       "      <td>84869.000000</td>\n",
       "      <td>65968.000000</td>\n",
       "      <td>3.000000</td>\n",
       "      <td>3190.000000</td>\n",
       "      <td>3.000000</td>\n",
       "      <td>1344.000000</td>\n",
       "      <td>1580.000000</td>\n",
       "    </tr>\n",
       "  </tbody>\n",
       "</table>\n",
       "</div>"
      ],
      "text/plain": [
       "       total_images    last_price    total_area         rooms  ceiling_height  \\\n",
       "count  23699.000000  2.369900e+04  23699.000000  23699.000000    14504.000000   \n",
       "mean       9.858475  6.541549e+06     60.348651      2.070636        2.771499   \n",
       "std        5.682529  1.088701e+07     35.654083      1.078405        1.261056   \n",
       "min        0.000000  1.219000e+04     12.000000      0.000000        1.000000   \n",
       "25%        6.000000  3.400000e+06     40.000000      1.000000        2.520000   \n",
       "50%        9.000000  4.650000e+06     52.000000      2.000000        2.650000   \n",
       "75%       14.000000  6.800000e+06     69.900000      3.000000        2.800000   \n",
       "max       50.000000  7.630000e+08    900.000000     19.000000      100.000000   \n",
       "\n",
       "       floors_total   living_area         floor  kitchen_area       balcony  \\\n",
       "count  23613.000000  21796.000000  23699.000000  21421.000000  12180.000000   \n",
       "mean      10.673824     34.457852      5.892358     10.569807      1.150082   \n",
       "std        6.597173     22.030445      4.885249      5.905438      1.071300   \n",
       "min        1.000000      2.000000      1.000000      1.300000      0.000000   \n",
       "25%        5.000000     18.600000      2.000000      7.000000      0.000000   \n",
       "50%        9.000000     30.000000      4.000000      9.100000      1.000000   \n",
       "75%       16.000000     42.300000      8.000000     12.000000      2.000000   \n",
       "max       60.000000    409.700000     33.000000    112.000000      5.000000   \n",
       "\n",
       "       airports_nearest  cityCenters_nearest  parks_around3000  parks_nearest  \\\n",
       "count      18157.000000         18180.000000      18181.000000    8079.000000   \n",
       "mean       28793.672193         14191.277833          0.611408     490.804555   \n",
       "std        12630.880622          8608.386210          0.802074     342.317995   \n",
       "min            0.000000           181.000000          0.000000       1.000000   \n",
       "25%        18585.000000          9238.000000          0.000000     288.000000   \n",
       "50%        26726.000000         13098.500000          0.000000     455.000000   \n",
       "75%        37273.000000         16293.000000          1.000000     612.000000   \n",
       "max        84869.000000         65968.000000          3.000000    3190.000000   \n",
       "\n",
       "       ponds_around3000  ponds_nearest  days_exposition  \n",
       "count      18181.000000    9110.000000     20518.000000  \n",
       "mean           0.770255     517.980900       180.888634  \n",
       "std            0.938346     277.720643       219.727988  \n",
       "min            0.000000      13.000000         1.000000  \n",
       "25%            0.000000     294.000000        45.000000  \n",
       "50%            1.000000     502.000000        95.000000  \n",
       "75%            1.000000     729.000000       232.000000  \n",
       "max            3.000000    1344.000000      1580.000000  "
      ]
     },
     "execution_count": 680,
     "metadata": {},
     "output_type": "execute_result"
    }
   ],
   "source": [
    "data.describe() "
   ]
  },
  {
   "cell_type": "code",
   "execution_count": 681,
   "metadata": {},
   "outputs": [
    {
     "data": {
      "text/plain": [
       "0"
      ]
     },
     "execution_count": 681,
     "metadata": {},
     "output_type": "execute_result"
    }
   ],
   "source": [
    "data.duplicated().sum() # Проверим на наличие дубликатов"
   ]
  },
  {
   "cell_type": "code",
   "execution_count": 682,
   "metadata": {},
   "outputs": [
    {
     "data": {
      "text/plain": [
       "total_images                0\n",
       "last_price                  0\n",
       "total_area                  0\n",
       "first_day_exposition        0\n",
       "rooms                       0\n",
       "ceiling_height           9195\n",
       "floors_total               86\n",
       "living_area              1903\n",
       "floor                       0\n",
       "is_apartment            20924\n",
       "studio                      0\n",
       "open_plan                   0\n",
       "kitchen_area             2278\n",
       "balcony                 11519\n",
       "locality_name              49\n",
       "airports_nearest         5542\n",
       "cityCenters_nearest      5519\n",
       "parks_around3000         5518\n",
       "parks_nearest           15620\n",
       "ponds_around3000         5518\n",
       "ponds_nearest           14589\n",
       "days_exposition          3181\n",
       "dtype: int64"
      ]
     },
     "execution_count": 682,
     "metadata": {},
     "output_type": "execute_result"
    }
   ],
   "source": [
    "data.isnull().sum() # Проверим на наличие пропусков"
   ]
  },
  {
   "cell_type": "markdown",
   "metadata": {},
   "source": [
    "### Вывод"
   ]
  },
  {
   "cell_type": "markdown",
   "metadata": {},
   "source": [
    "Дубликаты в данных отсутствуют.\n",
    "\n",
    "В столбцах last_price, total_area, rooms, ceiling_height обнаружен ряд неадекватных значений, появившихся или ввиду ошибки или крайне не типичнх объектов недвижимости\n",
    "\n",
    "Название столбца 'cityCenters_nearest' имеет символы в верхнем регистре, для удобства переименуем столбец в 'city_centers_nearest'\n",
    "\n",
    "В столбце 'locality_name' обнаружены различные варианты написания слова \"посёлок\" и \"поселок\" приведем все к единому виду \"поселок\", причиной тому явно послужил человческий фактор при размещении объявлений\n",
    "\n",
    "Типы данных: parks_around3000, ponds_around3000, last_price, total_area, living_area, floors_total, cityCenters_nearest, balcony, days_exposition - обладают типом данных float64, для упрощения работы с данными можно привести их типу данных int64, округлив до целых значений.\n",
    "\n",
    "В столбцах ceiling_height, floors_total, living_area, is_apartment, kitchen_area, balcony, airports_nearest, cityCenters_nearest, parks_around3000, parks_nearest, ponds_around3000, ponds_nearest, days_exposition наблюдаются пропущеные значения, причиной чему могли послужить ошибки при выгрузке данных или сознательное упущение при размещении объявлений.\n",
    "\n",
    "Пропуски в столбце days_exposition в данных имеют очень большой разброс значений, стандартное отклонение намного больше среднего, а медиана и среднее далеки друг от друга. Поэтому заполнение пропусков через среднее значение нам не подходит, так как такое заполнение не поможет сохранить необходимое распределение.\n",
    " \n",
    "Пропущеные значения в столбце balcony могут говорить о том что в данных объектах недвижимости балконы отсутствуют, соответственно для того чтобы упростить последующую работу с данными можем заменить пропущенные значения на 0.\n",
    "\n",
    "Пропуски в столбцах living_area и kitchen_area заполним найдя соответствующие коэфициенты к total_area\n",
    "\n",
    "В столбце first_day_exposition тип данных 2019-03-07T00:00:00 лишние нули могут затруднить последующую обработку данных.\n",
    "\n",
    "Пропуски в столбце cityCenters_nearest могут быть связаны со спецификой населенных пунктов, проверим эту теорию.\n",
    "\n",
    "Пропуски в столбце locality_name могут быть связаны с ошибкой при выгрузке данных, таких случае всего 49 и их удаление из дата фрейма не повлияет на результаты иссладования."
   ]
  },
  {
   "cell_type": "markdown",
   "metadata": {},
   "source": [
    "### Шаг 2. Предобработка данных"
   ]
  },
  {
   "cell_type": "markdown",
   "metadata": {},
   "source": [
    "### Исследование и заполнение пропусков в данных"
   ]
  },
  {
   "cell_type": "markdown",
   "metadata": {},
   "source": [
    "#### Замена дубликатов в столбце 'locality_name'"
   ]
  },
  {
   "cell_type": "code",
   "execution_count": 683,
   "metadata": {},
   "outputs": [
    {
     "data": {
      "text/plain": [
       "Санкт-Петербург            15721\n",
       "посёлок Мурино               522\n",
       "посёлок Шушары               440\n",
       "Всеволожск                   398\n",
       "Пушкин                       369\n",
       "                           ...  \n",
       "поселок Цвылёво                1\n",
       "поселок Жилгородок             1\n",
       "поселок станции Лужайка        1\n",
       "деревня Хапо-Ое                1\n",
       "деревня Борисова Грива         1\n",
       "Name: locality_name, Length: 364, dtype: int64"
      ]
     },
     "execution_count": 683,
     "metadata": {},
     "output_type": "execute_result"
    }
   ],
   "source": [
    "data['locality_name'].value_counts() # Выведем список уникальных значений столбца locality_name"
   ]
  },
  {
   "cell_type": "code",
   "execution_count": 684,
   "metadata": {},
   "outputs": [
    {
     "data": {
      "text/html": [
       "<div>\n",
       "<style scoped>\n",
       "    .dataframe tbody tr th:only-of-type {\n",
       "        vertical-align: middle;\n",
       "    }\n",
       "\n",
       "    .dataframe tbody tr th {\n",
       "        vertical-align: top;\n",
       "    }\n",
       "\n",
       "    .dataframe thead th {\n",
       "        text-align: right;\n",
       "    }\n",
       "</style>\n",
       "<table border=\"1\" class=\"dataframe\">\n",
       "  <thead>\n",
       "    <tr style=\"text-align: right;\">\n",
       "      <th></th>\n",
       "      <th>total_images</th>\n",
       "      <th>last_price</th>\n",
       "      <th>total_area</th>\n",
       "      <th>first_day_exposition</th>\n",
       "      <th>rooms</th>\n",
       "      <th>ceiling_height</th>\n",
       "      <th>floors_total</th>\n",
       "      <th>living_area</th>\n",
       "      <th>floor</th>\n",
       "      <th>is_apartment</th>\n",
       "      <th>...</th>\n",
       "      <th>kitchen_area</th>\n",
       "      <th>balcony</th>\n",
       "      <th>locality_name</th>\n",
       "      <th>airports_nearest</th>\n",
       "      <th>cityCenters_nearest</th>\n",
       "      <th>parks_around3000</th>\n",
       "      <th>parks_nearest</th>\n",
       "      <th>ponds_around3000</th>\n",
       "      <th>ponds_nearest</th>\n",
       "      <th>days_exposition</th>\n",
       "    </tr>\n",
       "  </thead>\n",
       "  <tbody>\n",
       "    <tr>\n",
       "      <td>8</td>\n",
       "      <td>20</td>\n",
       "      <td>2900000.0</td>\n",
       "      <td>33.16</td>\n",
       "      <td>2018-05-23T00:00:00</td>\n",
       "      <td>1</td>\n",
       "      <td>NaN</td>\n",
       "      <td>27.0</td>\n",
       "      <td>15.43</td>\n",
       "      <td>26</td>\n",
       "      <td>NaN</td>\n",
       "      <td>...</td>\n",
       "      <td>8.81</td>\n",
       "      <td>NaN</td>\n",
       "      <td>посёлок Мурино</td>\n",
       "      <td>NaN</td>\n",
       "      <td>NaN</td>\n",
       "      <td>NaN</td>\n",
       "      <td>NaN</td>\n",
       "      <td>NaN</td>\n",
       "      <td>NaN</td>\n",
       "      <td>189.0</td>\n",
       "    </tr>\n",
       "    <tr>\n",
       "      <td>38</td>\n",
       "      <td>10</td>\n",
       "      <td>3150000.0</td>\n",
       "      <td>40.00</td>\n",
       "      <td>2018-03-29T00:00:00</td>\n",
       "      <td>1</td>\n",
       "      <td>2.75</td>\n",
       "      <td>18.0</td>\n",
       "      <td>16.30</td>\n",
       "      <td>9</td>\n",
       "      <td>NaN</td>\n",
       "      <td>...</td>\n",
       "      <td>11.60</td>\n",
       "      <td>NaN</td>\n",
       "      <td>посёлок Мурино</td>\n",
       "      <td>NaN</td>\n",
       "      <td>NaN</td>\n",
       "      <td>NaN</td>\n",
       "      <td>NaN</td>\n",
       "      <td>NaN</td>\n",
       "      <td>NaN</td>\n",
       "      <td>103.0</td>\n",
       "    </tr>\n",
       "    <tr>\n",
       "      <td>60</td>\n",
       "      <td>3</td>\n",
       "      <td>2740000.0</td>\n",
       "      <td>35.00</td>\n",
       "      <td>2018-01-01T00:00:00</td>\n",
       "      <td>1</td>\n",
       "      <td>NaN</td>\n",
       "      <td>12.0</td>\n",
       "      <td>NaN</td>\n",
       "      <td>8</td>\n",
       "      <td>NaN</td>\n",
       "      <td>...</td>\n",
       "      <td>NaN</td>\n",
       "      <td>NaN</td>\n",
       "      <td>посёлок Мурино</td>\n",
       "      <td>NaN</td>\n",
       "      <td>NaN</td>\n",
       "      <td>NaN</td>\n",
       "      <td>NaN</td>\n",
       "      <td>NaN</td>\n",
       "      <td>NaN</td>\n",
       "      <td>11.0</td>\n",
       "    </tr>\n",
       "    <tr>\n",
       "      <td>133</td>\n",
       "      <td>12</td>\n",
       "      <td>3150000.0</td>\n",
       "      <td>31.00</td>\n",
       "      <td>2018-03-23T00:00:00</td>\n",
       "      <td>1</td>\n",
       "      <td>NaN</td>\n",
       "      <td>25.0</td>\n",
       "      <td>NaN</td>\n",
       "      <td>6</td>\n",
       "      <td>NaN</td>\n",
       "      <td>...</td>\n",
       "      <td>NaN</td>\n",
       "      <td>NaN</td>\n",
       "      <td>посёлок Мурино</td>\n",
       "      <td>NaN</td>\n",
       "      <td>NaN</td>\n",
       "      <td>NaN</td>\n",
       "      <td>NaN</td>\n",
       "      <td>NaN</td>\n",
       "      <td>NaN</td>\n",
       "      <td>78.0</td>\n",
       "    </tr>\n",
       "    <tr>\n",
       "      <td>144</td>\n",
       "      <td>1</td>\n",
       "      <td>2450000.0</td>\n",
       "      <td>27.00</td>\n",
       "      <td>2017-03-30T00:00:00</td>\n",
       "      <td>0</td>\n",
       "      <td>NaN</td>\n",
       "      <td>24.0</td>\n",
       "      <td>15.50</td>\n",
       "      <td>2</td>\n",
       "      <td>NaN</td>\n",
       "      <td>...</td>\n",
       "      <td>NaN</td>\n",
       "      <td>2.0</td>\n",
       "      <td>посёлок Мурино</td>\n",
       "      <td>NaN</td>\n",
       "      <td>NaN</td>\n",
       "      <td>NaN</td>\n",
       "      <td>NaN</td>\n",
       "      <td>NaN</td>\n",
       "      <td>NaN</td>\n",
       "      <td>181.0</td>\n",
       "    </tr>\n",
       "  </tbody>\n",
       "</table>\n",
       "<p>5 rows × 22 columns</p>\n",
       "</div>"
      ],
      "text/plain": [
       "     total_images  last_price  total_area first_day_exposition  rooms  \\\n",
       "8              20   2900000.0       33.16  2018-05-23T00:00:00      1   \n",
       "38             10   3150000.0       40.00  2018-03-29T00:00:00      1   \n",
       "60              3   2740000.0       35.00  2018-01-01T00:00:00      1   \n",
       "133            12   3150000.0       31.00  2018-03-23T00:00:00      1   \n",
       "144             1   2450000.0       27.00  2017-03-30T00:00:00      0   \n",
       "\n",
       "     ceiling_height  floors_total  living_area  floor is_apartment  ...  \\\n",
       "8               NaN          27.0        15.43     26          NaN  ...   \n",
       "38             2.75          18.0        16.30      9          NaN  ...   \n",
       "60              NaN          12.0          NaN      8          NaN  ...   \n",
       "133             NaN          25.0          NaN      6          NaN  ...   \n",
       "144             NaN          24.0        15.50      2          NaN  ...   \n",
       "\n",
       "     kitchen_area  balcony   locality_name  airports_nearest  \\\n",
       "8            8.81      NaN  посёлок Мурино               NaN   \n",
       "38          11.60      NaN  посёлок Мурино               NaN   \n",
       "60            NaN      NaN  посёлок Мурино               NaN   \n",
       "133           NaN      NaN  посёлок Мурино               NaN   \n",
       "144           NaN      2.0  посёлок Мурино               NaN   \n",
       "\n",
       "    cityCenters_nearest  parks_around3000  parks_nearest  ponds_around3000  \\\n",
       "8                   NaN               NaN            NaN               NaN   \n",
       "38                  NaN               NaN            NaN               NaN   \n",
       "60                  NaN               NaN            NaN               NaN   \n",
       "133                 NaN               NaN            NaN               NaN   \n",
       "144                 NaN               NaN            NaN               NaN   \n",
       "\n",
       "     ponds_nearest  days_exposition  \n",
       "8              NaN            189.0  \n",
       "38             NaN            103.0  \n",
       "60             NaN             11.0  \n",
       "133            NaN             78.0  \n",
       "144            NaN            181.0  \n",
       "\n",
       "[5 rows x 22 columns]"
      ]
     },
     "execution_count": 684,
     "metadata": {},
     "output_type": "execute_result"
    }
   ],
   "source": [
    "data.query('locality_name in \"посёлок Мурино\"').head() # Обнаружены различные варианты написания одного населенного пунтка \n",
    "# присутствуют строки с написанием \"посёлок Мурино\""
   ]
  },
  {
   "cell_type": "code",
   "execution_count": 685,
   "metadata": {},
   "outputs": [
    {
     "data": {
      "text/html": [
       "<div>\n",
       "<style scoped>\n",
       "    .dataframe tbody tr th:only-of-type {\n",
       "        vertical-align: middle;\n",
       "    }\n",
       "\n",
       "    .dataframe tbody tr th {\n",
       "        vertical-align: top;\n",
       "    }\n",
       "\n",
       "    .dataframe thead th {\n",
       "        text-align: right;\n",
       "    }\n",
       "</style>\n",
       "<table border=\"1\" class=\"dataframe\">\n",
       "  <thead>\n",
       "    <tr style=\"text-align: right;\">\n",
       "      <th></th>\n",
       "      <th>total_images</th>\n",
       "      <th>last_price</th>\n",
       "      <th>total_area</th>\n",
       "      <th>first_day_exposition</th>\n",
       "      <th>rooms</th>\n",
       "      <th>ceiling_height</th>\n",
       "      <th>floors_total</th>\n",
       "      <th>living_area</th>\n",
       "      <th>floor</th>\n",
       "      <th>is_apartment</th>\n",
       "      <th>...</th>\n",
       "      <th>kitchen_area</th>\n",
       "      <th>balcony</th>\n",
       "      <th>locality_name</th>\n",
       "      <th>airports_nearest</th>\n",
       "      <th>cityCenters_nearest</th>\n",
       "      <th>parks_around3000</th>\n",
       "      <th>parks_nearest</th>\n",
       "      <th>ponds_around3000</th>\n",
       "      <th>ponds_nearest</th>\n",
       "      <th>days_exposition</th>\n",
       "    </tr>\n",
       "  </thead>\n",
       "  <tbody>\n",
       "    <tr>\n",
       "      <td>66</td>\n",
       "      <td>6</td>\n",
       "      <td>3450000.0</td>\n",
       "      <td>34.00</td>\n",
       "      <td>2015-12-16T00:00:00</td>\n",
       "      <td>1</td>\n",
       "      <td>2.60</td>\n",
       "      <td>17.0</td>\n",
       "      <td>17.40</td>\n",
       "      <td>8</td>\n",
       "      <td>False</td>\n",
       "      <td>...</td>\n",
       "      <td>11.50</td>\n",
       "      <td>2.0</td>\n",
       "      <td>поселок Мурино</td>\n",
       "      <td>NaN</td>\n",
       "      <td>NaN</td>\n",
       "      <td>NaN</td>\n",
       "      <td>NaN</td>\n",
       "      <td>NaN</td>\n",
       "      <td>NaN</td>\n",
       "      <td>186.0</td>\n",
       "    </tr>\n",
       "    <tr>\n",
       "      <td>1467</td>\n",
       "      <td>1</td>\n",
       "      <td>4148000.0</td>\n",
       "      <td>66.91</td>\n",
       "      <td>2016-06-27T00:00:00</td>\n",
       "      <td>2</td>\n",
       "      <td>2.60</td>\n",
       "      <td>14.0</td>\n",
       "      <td>36.27</td>\n",
       "      <td>1</td>\n",
       "      <td>False</td>\n",
       "      <td>...</td>\n",
       "      <td>11.24</td>\n",
       "      <td>1.0</td>\n",
       "      <td>поселок Мурино</td>\n",
       "      <td>NaN</td>\n",
       "      <td>NaN</td>\n",
       "      <td>NaN</td>\n",
       "      <td>NaN</td>\n",
       "      <td>NaN</td>\n",
       "      <td>NaN</td>\n",
       "      <td>58.0</td>\n",
       "    </tr>\n",
       "    <tr>\n",
       "      <td>2026</td>\n",
       "      <td>9</td>\n",
       "      <td>2310000.0</td>\n",
       "      <td>33.69</td>\n",
       "      <td>2016-04-15T00:00:00</td>\n",
       "      <td>1</td>\n",
       "      <td>2.63</td>\n",
       "      <td>27.0</td>\n",
       "      <td>15.32</td>\n",
       "      <td>26</td>\n",
       "      <td>False</td>\n",
       "      <td>...</td>\n",
       "      <td>9.39</td>\n",
       "      <td>2.0</td>\n",
       "      <td>поселок Мурино</td>\n",
       "      <td>NaN</td>\n",
       "      <td>NaN</td>\n",
       "      <td>NaN</td>\n",
       "      <td>NaN</td>\n",
       "      <td>NaN</td>\n",
       "      <td>NaN</td>\n",
       "      <td>87.0</td>\n",
       "    </tr>\n",
       "    <tr>\n",
       "      <td>2408</td>\n",
       "      <td>0</td>\n",
       "      <td>3200000.0</td>\n",
       "      <td>40.00</td>\n",
       "      <td>2016-06-09T00:00:00</td>\n",
       "      <td>1</td>\n",
       "      <td>2.70</td>\n",
       "      <td>17.0</td>\n",
       "      <td>15.70</td>\n",
       "      <td>17</td>\n",
       "      <td>False</td>\n",
       "      <td>...</td>\n",
       "      <td>11.70</td>\n",
       "      <td>2.0</td>\n",
       "      <td>поселок Мурино</td>\n",
       "      <td>NaN</td>\n",
       "      <td>NaN</td>\n",
       "      <td>NaN</td>\n",
       "      <td>NaN</td>\n",
       "      <td>NaN</td>\n",
       "      <td>NaN</td>\n",
       "      <td>33.0</td>\n",
       "    </tr>\n",
       "    <tr>\n",
       "      <td>4777</td>\n",
       "      <td>0</td>\n",
       "      <td>2700000.0</td>\n",
       "      <td>28.20</td>\n",
       "      <td>2016-04-25T00:00:00</td>\n",
       "      <td>1</td>\n",
       "      <td>NaN</td>\n",
       "      <td>21.0</td>\n",
       "      <td>24.20</td>\n",
       "      <td>11</td>\n",
       "      <td>NaN</td>\n",
       "      <td>...</td>\n",
       "      <td>4.00</td>\n",
       "      <td>2.0</td>\n",
       "      <td>поселок Мурино</td>\n",
       "      <td>NaN</td>\n",
       "      <td>NaN</td>\n",
       "      <td>NaN</td>\n",
       "      <td>NaN</td>\n",
       "      <td>NaN</td>\n",
       "      <td>NaN</td>\n",
       "      <td>68.0</td>\n",
       "    </tr>\n",
       "  </tbody>\n",
       "</table>\n",
       "<p>5 rows × 22 columns</p>\n",
       "</div>"
      ],
      "text/plain": [
       "      total_images  last_price  total_area first_day_exposition  rooms  \\\n",
       "66               6   3450000.0       34.00  2015-12-16T00:00:00      1   \n",
       "1467             1   4148000.0       66.91  2016-06-27T00:00:00      2   \n",
       "2026             9   2310000.0       33.69  2016-04-15T00:00:00      1   \n",
       "2408             0   3200000.0       40.00  2016-06-09T00:00:00      1   \n",
       "4777             0   2700000.0       28.20  2016-04-25T00:00:00      1   \n",
       "\n",
       "      ceiling_height  floors_total  living_area  floor is_apartment  ...  \\\n",
       "66              2.60          17.0        17.40      8        False  ...   \n",
       "1467            2.60          14.0        36.27      1        False  ...   \n",
       "2026            2.63          27.0        15.32     26        False  ...   \n",
       "2408            2.70          17.0        15.70     17        False  ...   \n",
       "4777             NaN          21.0        24.20     11          NaN  ...   \n",
       "\n",
       "      kitchen_area  balcony   locality_name  airports_nearest  \\\n",
       "66           11.50      2.0  поселок Мурино               NaN   \n",
       "1467         11.24      1.0  поселок Мурино               NaN   \n",
       "2026          9.39      2.0  поселок Мурино               NaN   \n",
       "2408         11.70      2.0  поселок Мурино               NaN   \n",
       "4777          4.00      2.0  поселок Мурино               NaN   \n",
       "\n",
       "     cityCenters_nearest  parks_around3000  parks_nearest  ponds_around3000  \\\n",
       "66                   NaN               NaN            NaN               NaN   \n",
       "1467                 NaN               NaN            NaN               NaN   \n",
       "2026                 NaN               NaN            NaN               NaN   \n",
       "2408                 NaN               NaN            NaN               NaN   \n",
       "4777                 NaN               NaN            NaN               NaN   \n",
       "\n",
       "      ponds_nearest  days_exposition  \n",
       "66              NaN            186.0  \n",
       "1467            NaN             58.0  \n",
       "2026            NaN             87.0  \n",
       "2408            NaN             33.0  \n",
       "4777            NaN             68.0  \n",
       "\n",
       "[5 rows x 22 columns]"
      ]
     },
     "execution_count": 685,
     "metadata": {},
     "output_type": "execute_result"
    }
   ],
   "source": [
    "data.query('locality_name in \"поселок Мурино\"').head() # А так же присутствуют строки с написанием \"поселок Мурино\""
   ]
  },
  {
   "cell_type": "code",
   "execution_count": 686,
   "metadata": {},
   "outputs": [],
   "source": [
    "data['locality_name'] = data['locality_name'].str.replace('ё','е') # Заменим букву ё на е для всего столбца 'locality_name'"
   ]
  },
  {
   "cell_type": "code",
   "execution_count": 687,
   "metadata": {},
   "outputs": [
    {
     "data": {
      "text/html": [
       "<div>\n",
       "<style scoped>\n",
       "    .dataframe tbody tr th:only-of-type {\n",
       "        vertical-align: middle;\n",
       "    }\n",
       "\n",
       "    .dataframe tbody tr th {\n",
       "        vertical-align: top;\n",
       "    }\n",
       "\n",
       "    .dataframe thead th {\n",
       "        text-align: right;\n",
       "    }\n",
       "</style>\n",
       "<table border=\"1\" class=\"dataframe\">\n",
       "  <thead>\n",
       "    <tr style=\"text-align: right;\">\n",
       "      <th></th>\n",
       "      <th>total_images</th>\n",
       "      <th>last_price</th>\n",
       "      <th>total_area</th>\n",
       "      <th>first_day_exposition</th>\n",
       "      <th>rooms</th>\n",
       "      <th>ceiling_height</th>\n",
       "      <th>floors_total</th>\n",
       "      <th>living_area</th>\n",
       "      <th>floor</th>\n",
       "      <th>is_apartment</th>\n",
       "      <th>...</th>\n",
       "      <th>kitchen_area</th>\n",
       "      <th>balcony</th>\n",
       "      <th>locality_name</th>\n",
       "      <th>airports_nearest</th>\n",
       "      <th>cityCenters_nearest</th>\n",
       "      <th>parks_around3000</th>\n",
       "      <th>parks_nearest</th>\n",
       "      <th>ponds_around3000</th>\n",
       "      <th>ponds_nearest</th>\n",
       "      <th>days_exposition</th>\n",
       "    </tr>\n",
       "  </thead>\n",
       "  <tbody>\n",
       "  </tbody>\n",
       "</table>\n",
       "<p>0 rows × 22 columns</p>\n",
       "</div>"
      ],
      "text/plain": [
       "Empty DataFrame\n",
       "Columns: [total_images, last_price, total_area, first_day_exposition, rooms, ceiling_height, floors_total, living_area, floor, is_apartment, studio, open_plan, kitchen_area, balcony, locality_name, airports_nearest, cityCenters_nearest, parks_around3000, parks_nearest, ponds_around3000, ponds_nearest, days_exposition]\n",
       "Index: []\n",
       "\n",
       "[0 rows x 22 columns]"
      ]
     },
     "execution_count": 687,
     "metadata": {},
     "output_type": "execute_result"
    }
   ],
   "source": [
    "data.query('locality_name in \"посёлок Мурино\"') # Проверяем замена прошла успешно значения \"посёлок Мурино\" теперь отсутствуют"
   ]
  },
  {
   "cell_type": "code",
   "execution_count": 688,
   "metadata": {},
   "outputs": [
    {
     "data": {
      "text/plain": [
       "Санкт-Петербург               15721\n",
       "поселок Мурино                  556\n",
       "поселок Шушары                  440\n",
       "Всеволожск                      398\n",
       "Пушкин                          369\n",
       "                              ...  \n",
       "деревня Реброво                   1\n",
       "деревня Вахнова Кара              1\n",
       "деревня Снегиревка                1\n",
       "поселок Ромашки                   1\n",
       "садовое товарищество Рахья        1\n",
       "Name: locality_name, Length: 330, dtype: int64"
      ]
     },
     "execution_count": 688,
     "metadata": {},
     "output_type": "execute_result"
    }
   ],
   "source": [
    "data['locality_name'].value_counts() # Значения в разных варинтах написания теперь суммированы"
   ]
  },
  {
   "cell_type": "code",
   "execution_count": 689,
   "metadata": {},
   "outputs": [
    {
     "data": {
      "text/plain": [
       "0"
      ]
     },
     "execution_count": 689,
     "metadata": {},
     "output_type": "execute_result"
    }
   ],
   "source": [
    "data.duplicated().sum() # Проверим не появились ли после группировки строки полностью дублирующие друг друга"
   ]
  },
  {
   "cell_type": "markdown",
   "metadata": {},
   "source": [
    "#### Заполнение пропусков в столбце 'cityCenters_nearest'"
   ]
  },
  {
   "cell_type": "code",
   "execution_count": 690,
   "metadata": {},
   "outputs": [],
   "source": [
    "# Для удобства переименуем столбец cityCenters_nearest в city_centers_nearest\n",
    "data.rename(columns={'cityCenters_nearest': 'city_centers_nearest'}, inplace=True)"
   ]
  },
  {
   "cell_type": "code",
   "execution_count": 691,
   "metadata": {},
   "outputs": [],
   "source": [
    "# Проанализируем природу пропусков в столбце city_centers_nearest, попробуем заполнить пропуски нулями\n",
    "data_cityCenters_lost = data \n",
    "data_cityCenters_lost['city_centers_nearest'] = data['city_centers_nearest'].fillna(0)"
   ]
  },
  {
   "cell_type": "code",
   "execution_count": 692,
   "metadata": {},
   "outputs": [],
   "source": [
    "# Прмиеним условие для вывода населеннных пунктов с дистанцией до центра 0\n",
    "data_cityCenters_lost = data_cityCenters_lost.query('city_centers_nearest == 0')"
   ]
  },
  {
   "cell_type": "code",
   "execution_count": 693,
   "metadata": {},
   "outputs": [],
   "source": [
    "# Построим сводную таблицу\n",
    "data_loc = data_cityCenters_lost.pivot_table(index='locality_name', values='city_centers_nearest', aggfunc='count')"
   ]
  },
  {
   "cell_type": "code",
   "execution_count": 694,
   "metadata": {},
   "outputs": [
    {
     "name": "stdout",
     "output_type": "stream",
     "text": [
      "                           city_centers_nearest\n",
      "locality_name                                  \n",
      "поселок Мурино                              554\n",
      "Всеволожск                                  398\n",
      "Гатчина                                     307\n",
      "деревня Кудрово                             299\n",
      "Выборг                                      237\n",
      "Кудрово                                     173\n",
      "деревня Новое Девяткино                     144\n",
      "Сертолово                                   142\n",
      "Кириши                                      125\n",
      "поселок Бугры                               114\n",
      "Сланцы                                      112\n",
      "Волхов                                      111\n",
      "Кингисепп                                   104\n",
      "Тосно                                       104\n",
      "Никольское                                   93\n",
      "Коммунар                                     89\n",
      "Сосновый Бор                                 87\n",
      "Кировск                                      84\n",
      "Отрадное                                     80\n",
      "городской поселок Янино-1                    68\n"
     ]
    }
   ],
   "source": [
    "# Отсортируем получившиеся значения по убыванию\n",
    "print(data_loc.sort_values(by = 'city_centers_nearest', ascending = False).head(20))"
   ]
  },
  {
   "cell_type": "code",
   "execution_count": 695,
   "metadata": {},
   "outputs": [],
   "source": [
    "# На основе полученых данных можем сделать вывод о том что большая часть пропусков в столбце 'city_centers_nearest'\n",
    "# относятся к малым населенным пунктам и соответственно не повлияют на изучение стоимости квартир в Санкт-Петербурге"
   ]
  },
  {
   "cell_type": "markdown",
   "metadata": {},
   "source": [
    "#### Заполнение пропусков в столбце 'ceiling_height'"
   ]
  },
  {
   "cell_type": "code",
   "execution_count": 696,
   "metadata": {},
   "outputs": [
    {
     "data": {
      "text/plain": [
       "2.50      3515\n",
       "2.60      1646\n",
       "2.70      1574\n",
       "3.00      1112\n",
       "2.80       993\n",
       "          ... \n",
       "27.50        1\n",
       "5.00         1\n",
       "3.59         1\n",
       "4.80         1\n",
       "100.00       1\n",
       "Name: ceiling_height, Length: 183, dtype: int64"
      ]
     },
     "execution_count": 696,
     "metadata": {},
     "output_type": "execute_result"
    }
   ],
   "source": [
    "# Выведем список уникальных значений столбца 'ceiling_height'\n",
    "data['ceiling_height'].value_counts()"
   ]
  },
  {
   "cell_type": "code",
   "execution_count": 697,
   "metadata": {},
   "outputs": [
    {
     "data": {
      "text/plain": [
       "2.77149889685604"
      ]
     },
     "execution_count": 697,
     "metadata": {},
     "output_type": "execute_result"
    }
   ],
   "source": [
    "# Посчитаем среднюю высоту потолков\n",
    "data['ceiling_height'].mean() "
   ]
  },
  {
   "cell_type": "code",
   "execution_count": 698,
   "metadata": {},
   "outputs": [
    {
     "data": {
      "text/plain": [
       "2.65"
      ]
     },
     "execution_count": 698,
     "metadata": {},
     "output_type": "execute_result"
    }
   ],
   "source": [
    "# Посчитаем медиану высоты потолков\n",
    "data['ceiling_height'].median()"
   ]
  },
  {
   "cell_type": "code",
   "execution_count": 699,
   "metadata": {},
   "outputs": [
    {
     "data": {
      "text/html": [
       "<div>\n",
       "<style scoped>\n",
       "    .dataframe tbody tr th:only-of-type {\n",
       "        vertical-align: middle;\n",
       "    }\n",
       "\n",
       "    .dataframe tbody tr th {\n",
       "        vertical-align: top;\n",
       "    }\n",
       "\n",
       "    .dataframe thead th {\n",
       "        text-align: right;\n",
       "    }\n",
       "</style>\n",
       "<table border=\"1\" class=\"dataframe\">\n",
       "  <thead>\n",
       "    <tr style=\"text-align: right;\">\n",
       "      <th></th>\n",
       "      <th>total_images</th>\n",
       "      <th>last_price</th>\n",
       "      <th>total_area</th>\n",
       "      <th>first_day_exposition</th>\n",
       "      <th>rooms</th>\n",
       "      <th>ceiling_height</th>\n",
       "      <th>floors_total</th>\n",
       "      <th>living_area</th>\n",
       "      <th>floor</th>\n",
       "      <th>is_apartment</th>\n",
       "      <th>...</th>\n",
       "      <th>kitchen_area</th>\n",
       "      <th>balcony</th>\n",
       "      <th>locality_name</th>\n",
       "      <th>airports_nearest</th>\n",
       "      <th>city_centers_nearest</th>\n",
       "      <th>parks_around3000</th>\n",
       "      <th>parks_nearest</th>\n",
       "      <th>ponds_around3000</th>\n",
       "      <th>ponds_nearest</th>\n",
       "      <th>days_exposition</th>\n",
       "    </tr>\n",
       "  </thead>\n",
       "  <tbody>\n",
       "    <tr>\n",
       "      <td>154</td>\n",
       "      <td>1</td>\n",
       "      <td>8200000.0</td>\n",
       "      <td>80.0</td>\n",
       "      <td>2018-11-06T00:00:00</td>\n",
       "      <td>3</td>\n",
       "      <td>4.15</td>\n",
       "      <td>3.0</td>\n",
       "      <td>44.2</td>\n",
       "      <td>2</td>\n",
       "      <td>NaN</td>\n",
       "      <td>...</td>\n",
       "      <td>12.2</td>\n",
       "      <td>NaN</td>\n",
       "      <td>Санкт-Петербург</td>\n",
       "      <td>20562.0</td>\n",
       "      <td>3167.0</td>\n",
       "      <td>2.0</td>\n",
       "      <td>344.0</td>\n",
       "      <td>1.0</td>\n",
       "      <td>838.0</td>\n",
       "      <td>38.0</td>\n",
       "    </tr>\n",
       "    <tr>\n",
       "      <td>355</td>\n",
       "      <td>17</td>\n",
       "      <td>3600000.0</td>\n",
       "      <td>55.2</td>\n",
       "      <td>2018-07-12T00:00:00</td>\n",
       "      <td>2</td>\n",
       "      <td>25.00</td>\n",
       "      <td>5.0</td>\n",
       "      <td>32.0</td>\n",
       "      <td>2</td>\n",
       "      <td>False</td>\n",
       "      <td>...</td>\n",
       "      <td>NaN</td>\n",
       "      <td>2.0</td>\n",
       "      <td>Гатчина</td>\n",
       "      <td>NaN</td>\n",
       "      <td>0.0</td>\n",
       "      <td>NaN</td>\n",
       "      <td>NaN</td>\n",
       "      <td>NaN</td>\n",
       "      <td>NaN</td>\n",
       "      <td>259.0</td>\n",
       "    </tr>\n",
       "    <tr>\n",
       "      <td>464</td>\n",
       "      <td>15</td>\n",
       "      <td>66571000.0</td>\n",
       "      <td>280.3</td>\n",
       "      <td>2015-06-11T00:00:00</td>\n",
       "      <td>6</td>\n",
       "      <td>5.20</td>\n",
       "      <td>8.0</td>\n",
       "      <td>159.5</td>\n",
       "      <td>7</td>\n",
       "      <td>NaN</td>\n",
       "      <td>...</td>\n",
       "      <td>21.1</td>\n",
       "      <td>0.0</td>\n",
       "      <td>Санкт-Петербург</td>\n",
       "      <td>26316.0</td>\n",
       "      <td>6655.0</td>\n",
       "      <td>3.0</td>\n",
       "      <td>187.0</td>\n",
       "      <td>1.0</td>\n",
       "      <td>616.0</td>\n",
       "      <td>578.0</td>\n",
       "    </tr>\n",
       "    <tr>\n",
       "      <td>1026</td>\n",
       "      <td>20</td>\n",
       "      <td>155000000.0</td>\n",
       "      <td>310.0</td>\n",
       "      <td>2018-10-12T00:00:00</td>\n",
       "      <td>5</td>\n",
       "      <td>5.30</td>\n",
       "      <td>3.0</td>\n",
       "      <td>190.0</td>\n",
       "      <td>3</td>\n",
       "      <td>NaN</td>\n",
       "      <td>...</td>\n",
       "      <td>63.0</td>\n",
       "      <td>2.0</td>\n",
       "      <td>Санкт-Петербург</td>\n",
       "      <td>24899.0</td>\n",
       "      <td>4785.0</td>\n",
       "      <td>0.0</td>\n",
       "      <td>NaN</td>\n",
       "      <td>1.0</td>\n",
       "      <td>603.0</td>\n",
       "      <td>NaN</td>\n",
       "    </tr>\n",
       "    <tr>\n",
       "      <td>1053</td>\n",
       "      <td>13</td>\n",
       "      <td>550000.0</td>\n",
       "      <td>29.0</td>\n",
       "      <td>2018-02-01T00:00:00</td>\n",
       "      <td>1</td>\n",
       "      <td>5.00</td>\n",
       "      <td>3.0</td>\n",
       "      <td>NaN</td>\n",
       "      <td>1</td>\n",
       "      <td>False</td>\n",
       "      <td>...</td>\n",
       "      <td>NaN</td>\n",
       "      <td>NaN</td>\n",
       "      <td>Бокситогорск</td>\n",
       "      <td>NaN</td>\n",
       "      <td>0.0</td>\n",
       "      <td>NaN</td>\n",
       "      <td>NaN</td>\n",
       "      <td>NaN</td>\n",
       "      <td>NaN</td>\n",
       "      <td>6.0</td>\n",
       "    </tr>\n",
       "    <tr>\n",
       "      <td>...</td>\n",
       "      <td>...</td>\n",
       "      <td>...</td>\n",
       "      <td>...</td>\n",
       "      <td>...</td>\n",
       "      <td>...</td>\n",
       "      <td>...</td>\n",
       "      <td>...</td>\n",
       "      <td>...</td>\n",
       "      <td>...</td>\n",
       "      <td>...</td>\n",
       "      <td>...</td>\n",
       "      <td>...</td>\n",
       "      <td>...</td>\n",
       "      <td>...</td>\n",
       "      <td>...</td>\n",
       "      <td>...</td>\n",
       "      <td>...</td>\n",
       "      <td>...</td>\n",
       "      <td>...</td>\n",
       "      <td>...</td>\n",
       "      <td>...</td>\n",
       "    </tr>\n",
       "    <tr>\n",
       "      <td>22309</td>\n",
       "      <td>20</td>\n",
       "      <td>5300000.0</td>\n",
       "      <td>45.0</td>\n",
       "      <td>2017-09-30T00:00:00</td>\n",
       "      <td>1</td>\n",
       "      <td>10.30</td>\n",
       "      <td>16.0</td>\n",
       "      <td>15.5</td>\n",
       "      <td>15</td>\n",
       "      <td>NaN</td>\n",
       "      <td>...</td>\n",
       "      <td>NaN</td>\n",
       "      <td>NaN</td>\n",
       "      <td>Санкт-Петербург</td>\n",
       "      <td>36353.0</td>\n",
       "      <td>11936.0</td>\n",
       "      <td>2.0</td>\n",
       "      <td>440.0</td>\n",
       "      <td>2.0</td>\n",
       "      <td>450.0</td>\n",
       "      <td>136.0</td>\n",
       "    </tr>\n",
       "    <tr>\n",
       "      <td>22336</td>\n",
       "      <td>19</td>\n",
       "      <td>9999000.0</td>\n",
       "      <td>92.4</td>\n",
       "      <td>2019-04-05T00:00:00</td>\n",
       "      <td>2</td>\n",
       "      <td>32.00</td>\n",
       "      <td>6.0</td>\n",
       "      <td>55.5</td>\n",
       "      <td>5</td>\n",
       "      <td>False</td>\n",
       "      <td>...</td>\n",
       "      <td>16.5</td>\n",
       "      <td>4.0</td>\n",
       "      <td>Санкт-Петербург</td>\n",
       "      <td>18838.0</td>\n",
       "      <td>3506.0</td>\n",
       "      <td>0.0</td>\n",
       "      <td>NaN</td>\n",
       "      <td>3.0</td>\n",
       "      <td>511.0</td>\n",
       "      <td>NaN</td>\n",
       "    </tr>\n",
       "    <tr>\n",
       "      <td>22494</td>\n",
       "      <td>7</td>\n",
       "      <td>91075000.0</td>\n",
       "      <td>491.0</td>\n",
       "      <td>2017-05-27T00:00:00</td>\n",
       "      <td>5</td>\n",
       "      <td>4.20</td>\n",
       "      <td>9.0</td>\n",
       "      <td>274.0</td>\n",
       "      <td>9</td>\n",
       "      <td>NaN</td>\n",
       "      <td>...</td>\n",
       "      <td>45.0</td>\n",
       "      <td>0.0</td>\n",
       "      <td>Санкт-Петербург</td>\n",
       "      <td>25525.0</td>\n",
       "      <td>5845.0</td>\n",
       "      <td>2.0</td>\n",
       "      <td>116.0</td>\n",
       "      <td>0.0</td>\n",
       "      <td>NaN</td>\n",
       "      <td>115.0</td>\n",
       "    </tr>\n",
       "    <tr>\n",
       "      <td>22869</td>\n",
       "      <td>0</td>\n",
       "      <td>15000000.0</td>\n",
       "      <td>25.0</td>\n",
       "      <td>2018-07-25T00:00:00</td>\n",
       "      <td>1</td>\n",
       "      <td>100.00</td>\n",
       "      <td>5.0</td>\n",
       "      <td>14.0</td>\n",
       "      <td>5</td>\n",
       "      <td>True</td>\n",
       "      <td>...</td>\n",
       "      <td>11.0</td>\n",
       "      <td>5.0</td>\n",
       "      <td>Санкт-Петербург</td>\n",
       "      <td>34963.0</td>\n",
       "      <td>8283.0</td>\n",
       "      <td>1.0</td>\n",
       "      <td>223.0</td>\n",
       "      <td>3.0</td>\n",
       "      <td>30.0</td>\n",
       "      <td>19.0</td>\n",
       "    </tr>\n",
       "    <tr>\n",
       "      <td>22938</td>\n",
       "      <td>14</td>\n",
       "      <td>4000000.0</td>\n",
       "      <td>98.0</td>\n",
       "      <td>2018-03-15T00:00:00</td>\n",
       "      <td>4</td>\n",
       "      <td>27.00</td>\n",
       "      <td>2.0</td>\n",
       "      <td>73.0</td>\n",
       "      <td>2</td>\n",
       "      <td>True</td>\n",
       "      <td>...</td>\n",
       "      <td>9.0</td>\n",
       "      <td>1.0</td>\n",
       "      <td>деревня Нижняя</td>\n",
       "      <td>NaN</td>\n",
       "      <td>0.0</td>\n",
       "      <td>NaN</td>\n",
       "      <td>NaN</td>\n",
       "      <td>NaN</td>\n",
       "      <td>NaN</td>\n",
       "      <td>27.0</td>\n",
       "    </tr>\n",
       "  </tbody>\n",
       "</table>\n",
       "<p>75 rows × 22 columns</p>\n",
       "</div>"
      ],
      "text/plain": [
       "       total_images   last_price  total_area first_day_exposition  rooms  \\\n",
       "154               1    8200000.0        80.0  2018-11-06T00:00:00      3   \n",
       "355              17    3600000.0        55.2  2018-07-12T00:00:00      2   \n",
       "464              15   66571000.0       280.3  2015-06-11T00:00:00      6   \n",
       "1026             20  155000000.0       310.0  2018-10-12T00:00:00      5   \n",
       "1053             13     550000.0        29.0  2018-02-01T00:00:00      1   \n",
       "...             ...          ...         ...                  ...    ...   \n",
       "22309            20    5300000.0        45.0  2017-09-30T00:00:00      1   \n",
       "22336            19    9999000.0        92.4  2019-04-05T00:00:00      2   \n",
       "22494             7   91075000.0       491.0  2017-05-27T00:00:00      5   \n",
       "22869             0   15000000.0        25.0  2018-07-25T00:00:00      1   \n",
       "22938            14    4000000.0        98.0  2018-03-15T00:00:00      4   \n",
       "\n",
       "       ceiling_height  floors_total  living_area  floor is_apartment  ...  \\\n",
       "154              4.15           3.0         44.2      2          NaN  ...   \n",
       "355             25.00           5.0         32.0      2        False  ...   \n",
       "464              5.20           8.0        159.5      7          NaN  ...   \n",
       "1026             5.30           3.0        190.0      3          NaN  ...   \n",
       "1053             5.00           3.0          NaN      1        False  ...   \n",
       "...               ...           ...          ...    ...          ...  ...   \n",
       "22309           10.30          16.0         15.5     15          NaN  ...   \n",
       "22336           32.00           6.0         55.5      5        False  ...   \n",
       "22494            4.20           9.0        274.0      9          NaN  ...   \n",
       "22869          100.00           5.0         14.0      5         True  ...   \n",
       "22938           27.00           2.0         73.0      2         True  ...   \n",
       "\n",
       "       kitchen_area  balcony    locality_name  airports_nearest  \\\n",
       "154            12.2      NaN  Санкт-Петербург           20562.0   \n",
       "355             NaN      2.0          Гатчина               NaN   \n",
       "464            21.1      0.0  Санкт-Петербург           26316.0   \n",
       "1026           63.0      2.0  Санкт-Петербург           24899.0   \n",
       "1053            NaN      NaN     Бокситогорск               NaN   \n",
       "...             ...      ...              ...               ...   \n",
       "22309           NaN      NaN  Санкт-Петербург           36353.0   \n",
       "22336          16.5      4.0  Санкт-Петербург           18838.0   \n",
       "22494          45.0      0.0  Санкт-Петербург           25525.0   \n",
       "22869          11.0      5.0  Санкт-Петербург           34963.0   \n",
       "22938           9.0      1.0   деревня Нижняя               NaN   \n",
       "\n",
       "      city_centers_nearest  parks_around3000  parks_nearest  ponds_around3000  \\\n",
       "154                 3167.0               2.0          344.0               1.0   \n",
       "355                    0.0               NaN            NaN               NaN   \n",
       "464                 6655.0               3.0          187.0               1.0   \n",
       "1026                4785.0               0.0            NaN               1.0   \n",
       "1053                   0.0               NaN            NaN               NaN   \n",
       "...                    ...               ...            ...               ...   \n",
       "22309              11936.0               2.0          440.0               2.0   \n",
       "22336               3506.0               0.0            NaN               3.0   \n",
       "22494               5845.0               2.0          116.0               0.0   \n",
       "22869               8283.0               1.0          223.0               3.0   \n",
       "22938                  0.0               NaN            NaN               NaN   \n",
       "\n",
       "       ponds_nearest  days_exposition  \n",
       "154            838.0             38.0  \n",
       "355              NaN            259.0  \n",
       "464            616.0            578.0  \n",
       "1026           603.0              NaN  \n",
       "1053             NaN              6.0  \n",
       "...              ...              ...  \n",
       "22309          450.0            136.0  \n",
       "22336          511.0              NaN  \n",
       "22494            NaN            115.0  \n",
       "22869           30.0             19.0  \n",
       "22938            NaN             27.0  \n",
       "\n",
       "[75 rows x 22 columns]"
      ]
     },
     "execution_count": 699,
     "metadata": {},
     "output_type": "execute_result"
    }
   ],
   "source": [
    "data.query('ceiling_height > 4') # Обнаружено 75 объявлений с высотой потолков больше четырех метров"
   ]
  },
  {
   "cell_type": "code",
   "execution_count": 700,
   "metadata": {},
   "outputs": [
    {
     "data": {
      "text/html": [
       "<div>\n",
       "<style scoped>\n",
       "    .dataframe tbody tr th:only-of-type {\n",
       "        vertical-align: middle;\n",
       "    }\n",
       "\n",
       "    .dataframe tbody tr th {\n",
       "        vertical-align: top;\n",
       "    }\n",
       "\n",
       "    .dataframe thead th {\n",
       "        text-align: right;\n",
       "    }\n",
       "</style>\n",
       "<table border=\"1\" class=\"dataframe\">\n",
       "  <thead>\n",
       "    <tr style=\"text-align: right;\">\n",
       "      <th></th>\n",
       "      <th>total_images</th>\n",
       "      <th>last_price</th>\n",
       "      <th>total_area</th>\n",
       "      <th>first_day_exposition</th>\n",
       "      <th>rooms</th>\n",
       "      <th>ceiling_height</th>\n",
       "      <th>floors_total</th>\n",
       "      <th>living_area</th>\n",
       "      <th>floor</th>\n",
       "      <th>is_apartment</th>\n",
       "      <th>...</th>\n",
       "      <th>kitchen_area</th>\n",
       "      <th>balcony</th>\n",
       "      <th>locality_name</th>\n",
       "      <th>airports_nearest</th>\n",
       "      <th>city_centers_nearest</th>\n",
       "      <th>parks_around3000</th>\n",
       "      <th>parks_nearest</th>\n",
       "      <th>ponds_around3000</th>\n",
       "      <th>ponds_nearest</th>\n",
       "      <th>days_exposition</th>\n",
       "    </tr>\n",
       "  </thead>\n",
       "  <tbody>\n",
       "    <tr>\n",
       "      <td>5712</td>\n",
       "      <td>5</td>\n",
       "      <td>1500000.0</td>\n",
       "      <td>42.8</td>\n",
       "      <td>2017-08-14T00:00:00</td>\n",
       "      <td>2</td>\n",
       "      <td>1.20</td>\n",
       "      <td>2.0</td>\n",
       "      <td>27.5</td>\n",
       "      <td>1</td>\n",
       "      <td>NaN</td>\n",
       "      <td>...</td>\n",
       "      <td>5.20</td>\n",
       "      <td>NaN</td>\n",
       "      <td>городской поселок Мга</td>\n",
       "      <td>NaN</td>\n",
       "      <td>0.0</td>\n",
       "      <td>NaN</td>\n",
       "      <td>NaN</td>\n",
       "      <td>NaN</td>\n",
       "      <td>NaN</td>\n",
       "      <td>248.0</td>\n",
       "    </tr>\n",
       "    <tr>\n",
       "      <td>16934</td>\n",
       "      <td>5</td>\n",
       "      <td>4100000.0</td>\n",
       "      <td>40.0</td>\n",
       "      <td>2017-10-17T00:00:00</td>\n",
       "      <td>1</td>\n",
       "      <td>1.75</td>\n",
       "      <td>37.0</td>\n",
       "      <td>17.4</td>\n",
       "      <td>5</td>\n",
       "      <td>NaN</td>\n",
       "      <td>...</td>\n",
       "      <td>8.34</td>\n",
       "      <td>NaN</td>\n",
       "      <td>Санкт-Петербург</td>\n",
       "      <td>18732.0</td>\n",
       "      <td>20444.0</td>\n",
       "      <td>0.0</td>\n",
       "      <td>NaN</td>\n",
       "      <td>3.0</td>\n",
       "      <td>80.0</td>\n",
       "      <td>71.0</td>\n",
       "    </tr>\n",
       "    <tr>\n",
       "      <td>22590</td>\n",
       "      <td>16</td>\n",
       "      <td>6000000.0</td>\n",
       "      <td>55.0</td>\n",
       "      <td>2018-10-31T00:00:00</td>\n",
       "      <td>2</td>\n",
       "      <td>1.00</td>\n",
       "      <td>12.0</td>\n",
       "      <td>32.4</td>\n",
       "      <td>7</td>\n",
       "      <td>NaN</td>\n",
       "      <td>...</td>\n",
       "      <td>10.00</td>\n",
       "      <td>NaN</td>\n",
       "      <td>Санкт-Петербург</td>\n",
       "      <td>33053.0</td>\n",
       "      <td>14217.0</td>\n",
       "      <td>2.0</td>\n",
       "      <td>293.0</td>\n",
       "      <td>2.0</td>\n",
       "      <td>289.0</td>\n",
       "      <td>13.0</td>\n",
       "    </tr>\n",
       "  </tbody>\n",
       "</table>\n",
       "<p>3 rows × 22 columns</p>\n",
       "</div>"
      ],
      "text/plain": [
       "       total_images  last_price  total_area first_day_exposition  rooms  \\\n",
       "5712              5   1500000.0        42.8  2017-08-14T00:00:00      2   \n",
       "16934             5   4100000.0        40.0  2017-10-17T00:00:00      1   \n",
       "22590            16   6000000.0        55.0  2018-10-31T00:00:00      2   \n",
       "\n",
       "       ceiling_height  floors_total  living_area  floor is_apartment  ...  \\\n",
       "5712             1.20           2.0         27.5      1          NaN  ...   \n",
       "16934            1.75          37.0         17.4      5          NaN  ...   \n",
       "22590            1.00          12.0         32.4      7          NaN  ...   \n",
       "\n",
       "       kitchen_area  balcony          locality_name  airports_nearest  \\\n",
       "5712           5.20      NaN  городской поселок Мга               NaN   \n",
       "16934          8.34      NaN        Санкт-Петербург           18732.0   \n",
       "22590         10.00      NaN        Санкт-Петербург           33053.0   \n",
       "\n",
       "      city_centers_nearest  parks_around3000  parks_nearest  ponds_around3000  \\\n",
       "5712                   0.0               NaN            NaN               NaN   \n",
       "16934              20444.0               0.0            NaN               3.0   \n",
       "22590              14217.0               2.0          293.0               2.0   \n",
       "\n",
       "       ponds_nearest  days_exposition  \n",
       "5712             NaN            248.0  \n",
       "16934           80.0             71.0  \n",
       "22590          289.0             13.0  \n",
       "\n",
       "[3 rows x 22 columns]"
      ]
     },
     "execution_count": 700,
     "metadata": {},
     "output_type": "execute_result"
    }
   ],
   "source": [
    "data.query('ceiling_height < 2') # Аномально низких значений с высотой потолка менее 2 метров обнаружено только три строки\n",
    "# Принимая во внимание наличие в этих помещениях кухонь, нельзя классифицировать их как чердачные помещения, соответствено можно\n",
    "# отнести эти данные к категории опечаток "
   ]
  },
  {
   "cell_type": "code",
   "execution_count": 701,
   "metadata": {},
   "outputs": [],
   "source": [
    "# Заменим пропуски на медианное значение так как оно ближе среднего к существующему нормативу к высоте потолков, который согласно\n",
    "# СНиП 23-01-99 для жилых помещений составляет 2.7м\n",
    "data['ceiling_height'] = data['ceiling_height'].fillna(data['ceiling_height'].median())"
   ]
  },
  {
   "cell_type": "code",
   "execution_count": 702,
   "metadata": {},
   "outputs": [
    {
     "data": {
      "text/plain": [
       "count    23699.000000\n",
       "mean         2.724358\n",
       "std          0.988298\n",
       "min          1.000000\n",
       "10%          2.500000\n",
       "50%          2.650000\n",
       "85%          2.800000\n",
       "90%          3.000000\n",
       "95%          3.130000\n",
       "99%          3.600000\n",
       "max        100.000000\n",
       "Name: ceiling_height, dtype: float64"
      ]
     },
     "execution_count": 702,
     "metadata": {},
     "output_type": "execute_result"
    }
   ],
   "source": [
    "# Проанализиуерм данные столбца 'ceiling_height' на предмет аномальных значений\n",
    "percetnage =[.10, .85, .90, .95, .99]\n",
    "data['ceiling_height'].describe(percentiles=percetnage)"
   ]
  },
  {
   "cell_type": "code",
   "execution_count": 703,
   "metadata": {},
   "outputs": [],
   "source": [
    "# Согласно получившимся значениям, видим что число квартир с потолками свыше 3.6  метров и меньше 2 метров чрезвычайно мало\n",
    "# и их исключение только улучшит качество текущего исследования"
   ]
  },
  {
   "cell_type": "code",
   "execution_count": 704,
   "metadata": {},
   "outputs": [],
   "source": [
    "data = data.query('ceiling_height <= 5 & ceiling_height > 2') # Примем за аномалию недвижимость с потолками выше 5 метров\n",
    "# и ниже 2 метров и уберем такие строки из датасета"
   ]
  },
  {
   "cell_type": "code",
   "execution_count": 705,
   "metadata": {},
   "outputs": [
    {
     "data": {
      "text/plain": [
       "2.65    9871\n",
       "2.50    3515\n",
       "2.60    1646\n",
       "2.70    1574\n",
       "3.00    1112\n",
       "        ... \n",
       "4.30       1\n",
       "4.37       1\n",
       "3.68       1\n",
       "4.25       1\n",
       "2.49       1\n",
       "Name: ceiling_height, Length: 160, dtype: int64"
      ]
     },
     "execution_count": 705,
     "metadata": {},
     "output_type": "execute_result"
    }
   ],
   "source": [
    "data['ceiling_height'].value_counts() # Проверяим замена пропусков и отсечение анамалий прошли успешно"
   ]
  },
  {
   "cell_type": "markdown",
   "metadata": {},
   "source": [
    "#### Заполнение пропусков в столбце 'balcony'"
   ]
  },
  {
   "cell_type": "code",
   "execution_count": 706,
   "metadata": {},
   "outputs": [],
   "source": [
    "data['balcony'] = data['balcony'].fillna(0) # Заменим пропущеные значения в столбце 'balcony' нулями"
   ]
  },
  {
   "cell_type": "code",
   "execution_count": 707,
   "metadata": {},
   "outputs": [
    {
     "data": {
      "text/plain": [
       "total_images                0\n",
       "last_price                  0\n",
       "total_area                  0\n",
       "first_day_exposition        0\n",
       "rooms                       0\n",
       "ceiling_height              0\n",
       "floors_total               86\n",
       "living_area              1899\n",
       "floor                       0\n",
       "is_apartment            20888\n",
       "studio                      0\n",
       "open_plan                   0\n",
       "kitchen_area             2267\n",
       "balcony                     0\n",
       "locality_name              49\n",
       "airports_nearest         5523\n",
       "city_centers_nearest        0\n",
       "parks_around3000         5499\n",
       "parks_nearest           15588\n",
       "ponds_around3000         5499\n",
       "ponds_nearest           14558\n",
       "days_exposition          3170\n",
       "dtype: int64"
      ]
     },
     "execution_count": 707,
     "metadata": {},
     "output_type": "execute_result"
    }
   ],
   "source": [
    "data.isnull().sum() # Проверям пропускии в столбце 'balcony' заполнены"
   ]
  },
  {
   "cell_type": "markdown",
   "metadata": {},
   "source": [
    "#### Заполнение пропусков в столбце 'living_area'"
   ]
  },
  {
   "cell_type": "code",
   "execution_count": 708,
   "metadata": {},
   "outputs": [],
   "source": [
    "# Подсчитаем коэфициент жилой площади помощений, являющий собой отношение жилой площади к общей\n",
    "data['living_part'] = data['living_area'] / data['total_area'] "
   ]
  },
  {
   "cell_type": "code",
   "execution_count": 709,
   "metadata": {},
   "outputs": [
    {
     "name": "stdout",
     "output_type": "stream",
     "text": [
      "0.5646980521297087\n"
     ]
    }
   ],
   "source": [
    "print(data['living_part'].mean()) # Усредяем все полученые значения в единый коэфциент"
   ]
  },
  {
   "cell_type": "code",
   "execution_count": 710,
   "metadata": {},
   "outputs": [],
   "source": [
    "# Заполним пропуски для столбца living_area умножив общую площадь квартир с пропусками на выведеный коэффициент жилой площади\n",
    "data['living_area'] = data['living_area'].fillna(data['total_area'] * data['living_part'].mean()) "
   ]
  },
  {
   "cell_type": "markdown",
   "metadata": {},
   "source": [
    "#### Заполнение пропусков в столбце 'kitchen_area'"
   ]
  },
  {
   "cell_type": "code",
   "execution_count": 711,
   "metadata": {},
   "outputs": [],
   "source": [
    "# Подсчитаем коэфициент жилой площади помещений являющий собой отношение площади кухонь к общей\n",
    "data['kitchen_part'] = data['kitchen_area'] / data['total_area'] "
   ]
  },
  {
   "cell_type": "code",
   "execution_count": 712,
   "metadata": {},
   "outputs": [
    {
     "name": "stdout",
     "output_type": "stream",
     "text": [
      "0.18736791080045645\n"
     ]
    }
   ],
   "source": [
    "print(data['kitchen_part'].mean()) # Усредяем все полученые значения в единый коэфциент"
   ]
  },
  {
   "cell_type": "code",
   "execution_count": 713,
   "metadata": {},
   "outputs": [],
   "source": [
    "# Заполним пропуски для столбца kitchen_area умножив общую площадь квартир с пропусками на выведеный коэффициент площади кухонь\n",
    "data['kitchen_area'] = data['kitchen_area'].fillna(data['total_area'] * data['kitchen_part'].mean())"
   ]
  },
  {
   "cell_type": "code",
   "execution_count": 714,
   "metadata": {},
   "outputs": [
    {
     "data": {
      "text/plain": [
       "total_images                0\n",
       "last_price                  0\n",
       "total_area                  0\n",
       "first_day_exposition        0\n",
       "rooms                       0\n",
       "ceiling_height              0\n",
       "floors_total               86\n",
       "living_area                 0\n",
       "floor                       0\n",
       "is_apartment            20888\n",
       "studio                      0\n",
       "open_plan                   0\n",
       "kitchen_area                0\n",
       "balcony                     0\n",
       "locality_name              49\n",
       "airports_nearest         5523\n",
       "city_centers_nearest        0\n",
       "parks_around3000         5499\n",
       "parks_nearest           15588\n",
       "ponds_around3000         5499\n",
       "ponds_nearest           14558\n",
       "days_exposition          3170\n",
       "living_part              1899\n",
       "kitchen_part             2267\n",
       "dtype: int64"
      ]
     },
     "execution_count": 714,
     "metadata": {},
     "output_type": "execute_result"
    }
   ],
   "source": [
    "data.isnull().sum() # Проверяем, пропуски в столбцах kitchen_area и living_area устранены"
   ]
  },
  {
   "cell_type": "markdown",
   "metadata": {},
   "source": [
    "#### Заполнение пропусков в столбце 'rooms'"
   ]
  },
  {
   "cell_type": "code",
   "execution_count": 715,
   "metadata": {},
   "outputs": [],
   "source": [
    "# Сохраним в переменной data_rooms0 только квартиры \"нулевым\" числом комнат\n",
    "data_rooms0 = data.query('rooms == 0') "
   ]
  },
  {
   "cell_type": "code",
   "execution_count": 716,
   "metadata": {},
   "outputs": [
    {
     "name": "stdout",
     "output_type": "stream",
     "text": [
      "29.087743589743592\n"
     ]
    }
   ],
   "source": [
    "# Найдем среднюю площадь квартир с \"нулевым\" числом комнат\n",
    "print(data_rooms0['total_area'].mean()) "
   ]
  },
  {
   "cell_type": "code",
   "execution_count": 717,
   "metadata": {},
   "outputs": [],
   "source": [
    "# Средняя площадь квартир с \"нулевым\" числом комнат составила 29 м2, что соответствует площади стандартаной квартиры-студии\n",
    "# Можно так же предположить что \"нулевым\" числом комнат обозначены предложания о продаже комнат в комнулках"
   ]
  },
  {
   "cell_type": "code",
   "execution_count": 718,
   "metadata": {},
   "outputs": [
    {
     "data": {
      "text/html": [
       "<div>\n",
       "<style scoped>\n",
       "    .dataframe tbody tr th:only-of-type {\n",
       "        vertical-align: middle;\n",
       "    }\n",
       "\n",
       "    .dataframe tbody tr th {\n",
       "        vertical-align: top;\n",
       "    }\n",
       "\n",
       "    .dataframe thead th {\n",
       "        text-align: right;\n",
       "    }\n",
       "</style>\n",
       "<table border=\"1\" class=\"dataframe\">\n",
       "  <thead>\n",
       "    <tr style=\"text-align: right;\">\n",
       "      <th></th>\n",
       "      <th>studio</th>\n",
       "    </tr>\n",
       "    <tr>\n",
       "      <th>rooms</th>\n",
       "      <th></th>\n",
       "    </tr>\n",
       "  </thead>\n",
       "  <tbody>\n",
       "    <tr>\n",
       "      <td>0</td>\n",
       "      <td>195</td>\n",
       "    </tr>\n",
       "    <tr>\n",
       "      <td>1</td>\n",
       "      <td>8030</td>\n",
       "    </tr>\n",
       "    <tr>\n",
       "      <td>2</td>\n",
       "      <td>7923</td>\n",
       "    </tr>\n",
       "    <tr>\n",
       "      <td>3</td>\n",
       "      <td>5805</td>\n",
       "    </tr>\n",
       "    <tr>\n",
       "      <td>4</td>\n",
       "      <td>1178</td>\n",
       "    </tr>\n",
       "    <tr>\n",
       "      <td>5</td>\n",
       "      <td>324</td>\n",
       "    </tr>\n",
       "    <tr>\n",
       "      <td>6</td>\n",
       "      <td>104</td>\n",
       "    </tr>\n",
       "    <tr>\n",
       "      <td>7</td>\n",
       "      <td>59</td>\n",
       "    </tr>\n",
       "    <tr>\n",
       "      <td>8</td>\n",
       "      <td>12</td>\n",
       "    </tr>\n",
       "    <tr>\n",
       "      <td>9</td>\n",
       "      <td>8</td>\n",
       "    </tr>\n",
       "    <tr>\n",
       "      <td>10</td>\n",
       "      <td>3</td>\n",
       "    </tr>\n",
       "    <tr>\n",
       "      <td>11</td>\n",
       "      <td>2</td>\n",
       "    </tr>\n",
       "    <tr>\n",
       "      <td>12</td>\n",
       "      <td>1</td>\n",
       "    </tr>\n",
       "    <tr>\n",
       "      <td>14</td>\n",
       "      <td>2</td>\n",
       "    </tr>\n",
       "    <tr>\n",
       "      <td>15</td>\n",
       "      <td>1</td>\n",
       "    </tr>\n",
       "    <tr>\n",
       "      <td>16</td>\n",
       "      <td>1</td>\n",
       "    </tr>\n",
       "    <tr>\n",
       "      <td>19</td>\n",
       "      <td>1</td>\n",
       "    </tr>\n",
       "  </tbody>\n",
       "</table>\n",
       "</div>"
      ],
      "text/plain": [
       "       studio\n",
       "rooms        \n",
       "0         195\n",
       "1        8030\n",
       "2        7923\n",
       "3        5805\n",
       "4        1178\n",
       "5         324\n",
       "6         104\n",
       "7          59\n",
       "8          12\n",
       "9           8\n",
       "10          3\n",
       "11          2\n",
       "12          1\n",
       "14          2\n",
       "15          1\n",
       "16          1\n",
       "19          1"
      ]
     },
     "execution_count": 718,
     "metadata": {},
     "output_type": "execute_result"
    }
   ],
   "source": [
    "# Cформируем сводную талицу чтобы посчитать количество квартир с 0 числом комнат\n",
    "data.pivot_table(index='rooms', values='studio', aggfunc='count')"
   ]
  },
  {
   "cell_type": "code",
   "execution_count": 719,
   "metadata": {},
   "outputs": [],
   "source": [
    "# обнаружено 195 квартир с нулевым количеством комнат, что составляет меньше 1% от общего числа данных, соответственно для того\n",
    "# чтобы защитить результаты от влияния данной аномалии, уберем все квартиры с числом комнат меньше 1\n",
    "data = data.query('rooms > 0')"
   ]
  },
  {
   "cell_type": "code",
   "execution_count": 720,
   "metadata": {},
   "outputs": [
    {
     "data": {
      "text/html": [
       "<div>\n",
       "<style scoped>\n",
       "    .dataframe tbody tr th:only-of-type {\n",
       "        vertical-align: middle;\n",
       "    }\n",
       "\n",
       "    .dataframe tbody tr th {\n",
       "        vertical-align: top;\n",
       "    }\n",
       "\n",
       "    .dataframe thead th {\n",
       "        text-align: right;\n",
       "    }\n",
       "</style>\n",
       "<table border=\"1\" class=\"dataframe\">\n",
       "  <thead>\n",
       "    <tr style=\"text-align: right;\">\n",
       "      <th></th>\n",
       "      <th>studio</th>\n",
       "    </tr>\n",
       "    <tr>\n",
       "      <th>rooms</th>\n",
       "      <th></th>\n",
       "    </tr>\n",
       "  </thead>\n",
       "  <tbody>\n",
       "    <tr>\n",
       "      <td>1</td>\n",
       "      <td>8030</td>\n",
       "    </tr>\n",
       "    <tr>\n",
       "      <td>2</td>\n",
       "      <td>7923</td>\n",
       "    </tr>\n",
       "    <tr>\n",
       "      <td>3</td>\n",
       "      <td>5805</td>\n",
       "    </tr>\n",
       "    <tr>\n",
       "      <td>4</td>\n",
       "      <td>1178</td>\n",
       "    </tr>\n",
       "    <tr>\n",
       "      <td>5</td>\n",
       "      <td>324</td>\n",
       "    </tr>\n",
       "    <tr>\n",
       "      <td>6</td>\n",
       "      <td>104</td>\n",
       "    </tr>\n",
       "    <tr>\n",
       "      <td>7</td>\n",
       "      <td>59</td>\n",
       "    </tr>\n",
       "    <tr>\n",
       "      <td>8</td>\n",
       "      <td>12</td>\n",
       "    </tr>\n",
       "    <tr>\n",
       "      <td>9</td>\n",
       "      <td>8</td>\n",
       "    </tr>\n",
       "    <tr>\n",
       "      <td>10</td>\n",
       "      <td>3</td>\n",
       "    </tr>\n",
       "    <tr>\n",
       "      <td>11</td>\n",
       "      <td>2</td>\n",
       "    </tr>\n",
       "    <tr>\n",
       "      <td>12</td>\n",
       "      <td>1</td>\n",
       "    </tr>\n",
       "    <tr>\n",
       "      <td>14</td>\n",
       "      <td>2</td>\n",
       "    </tr>\n",
       "    <tr>\n",
       "      <td>15</td>\n",
       "      <td>1</td>\n",
       "    </tr>\n",
       "    <tr>\n",
       "      <td>16</td>\n",
       "      <td>1</td>\n",
       "    </tr>\n",
       "    <tr>\n",
       "      <td>19</td>\n",
       "      <td>1</td>\n",
       "    </tr>\n",
       "  </tbody>\n",
       "</table>\n",
       "</div>"
      ],
      "text/plain": [
       "       studio\n",
       "rooms        \n",
       "1        8030\n",
       "2        7923\n",
       "3        5805\n",
       "4        1178\n",
       "5         324\n",
       "6         104\n",
       "7          59\n",
       "8          12\n",
       "9           8\n",
       "10          3\n",
       "11          2\n",
       "12          1\n",
       "14          2\n",
       "15          1\n",
       "16          1\n",
       "19          1"
      ]
     },
     "execution_count": 720,
     "metadata": {},
     "output_type": "execute_result"
    }
   ],
   "source": [
    "# Проверяем с помощью сводной таблицы, квартиры с нулевым числом комнат теперь отсутствуют\n",
    "data.pivot_table(index='rooms', values='studio', aggfunc='count')"
   ]
  },
  {
   "cell_type": "markdown",
   "metadata": {},
   "source": [
    "#### Заполнение пропусков в столбце 'locality_name'"
   ]
  },
  {
   "cell_type": "code",
   "execution_count": 721,
   "metadata": {},
   "outputs": [
    {
     "data": {
      "text/plain": [
       "49"
      ]
     },
     "execution_count": 721,
     "metadata": {},
     "output_type": "execute_result"
    }
   ],
   "source": [
    "# Подсчитаем число пропусков в столбце locality_name\n",
    "data['locality_name'].isna().sum()"
   ]
  },
  {
   "cell_type": "code",
   "execution_count": 722,
   "metadata": {},
   "outputs": [],
   "source": [
    "# В данном исследовании данные столбца locality_name являются критически важными, а информации для установления причин возникновения\n",
    "# пропусков и их последующего заполнения реальными значениями - недостаточно. Поэтому удалим строки с пропущеными значениями."
   ]
  },
  {
   "cell_type": "code",
   "execution_count": 723,
   "metadata": {},
   "outputs": [],
   "source": [
    "# Заполним пропуски в столбце locality_name нулями\n",
    "data['locality_name'] = data['locality_name'].fillna(0)"
   ]
  },
  {
   "cell_type": "code",
   "execution_count": 724,
   "metadata": {},
   "outputs": [],
   "source": [
    "# Теперь уберем все нулевые значения в столбце locality_name из датафрейма\n",
    "data = data.query('locality_name != 0')"
   ]
  },
  {
   "cell_type": "code",
   "execution_count": 725,
   "metadata": {},
   "outputs": [
    {
     "name": "stdout",
     "output_type": "stream",
     "text": [
      "<class 'pandas.core.frame.DataFrame'>\n",
      "Int64Index: 23405 entries, 0 to 23698\n",
      "Data columns (total 24 columns):\n",
      "total_images            23405 non-null int64\n",
      "last_price              23405 non-null float64\n",
      "total_area              23405 non-null float64\n",
      "first_day_exposition    23405 non-null object\n",
      "rooms                   23405 non-null int64\n",
      "ceiling_height          23405 non-null float64\n",
      "floors_total            23323 non-null float64\n",
      "living_area             23405 non-null float64\n",
      "floor                   23405 non-null int64\n",
      "is_apartment            2740 non-null object\n",
      "studio                  23405 non-null bool\n",
      "open_plan               23405 non-null bool\n",
      "kitchen_area            23405 non-null float64\n",
      "balcony                 23405 non-null float64\n",
      "locality_name           23405 non-null object\n",
      "airports_nearest        17968 non-null float64\n",
      "city_centers_nearest    23405 non-null float64\n",
      "parks_around3000        17992 non-null float64\n",
      "parks_nearest           8018 non-null float64\n",
      "ponds_around3000        17992 non-null float64\n",
      "ponds_nearest           8998 non-null float64\n",
      "days_exposition         20250 non-null float64\n",
      "living_part             21525 non-null float64\n",
      "kitchen_part            21342 non-null float64\n",
      "dtypes: bool(2), float64(16), int64(3), object(3)\n",
      "memory usage: 4.2+ MB\n"
     ]
    }
   ],
   "source": [
    "# Проверяем, пропуски в столбце locality_name устранены\n",
    "data.info()"
   ]
  },
  {
   "cell_type": "markdown",
   "metadata": {},
   "source": [
    "#### Заполнение пропусков в столбце 'floors_total'"
   ]
  },
  {
   "cell_type": "code",
   "execution_count": 726,
   "metadata": {},
   "outputs": [
    {
     "data": {
      "text/plain": [
       "82"
      ]
     },
     "execution_count": 726,
     "metadata": {},
     "output_type": "execute_result"
    }
   ],
   "source": [
    "data['floors_total'].isna().sum() # Посчитаем число пропусков в столбце floors_total"
   ]
  },
  {
   "cell_type": "code",
   "execution_count": 727,
   "metadata": {},
   "outputs": [
    {
     "data": {
      "text/html": [
       "<div>\n",
       "<style scoped>\n",
       "    .dataframe tbody tr th:only-of-type {\n",
       "        vertical-align: middle;\n",
       "    }\n",
       "\n",
       "    .dataframe tbody tr th {\n",
       "        vertical-align: top;\n",
       "    }\n",
       "\n",
       "    .dataframe thead th {\n",
       "        text-align: right;\n",
       "    }\n",
       "</style>\n",
       "<table border=\"1\" class=\"dataframe\">\n",
       "  <thead>\n",
       "    <tr style=\"text-align: right;\">\n",
       "      <th></th>\n",
       "      <th>total_images</th>\n",
       "      <th>last_price</th>\n",
       "      <th>total_area</th>\n",
       "      <th>first_day_exposition</th>\n",
       "      <th>rooms</th>\n",
       "      <th>ceiling_height</th>\n",
       "      <th>floors_total</th>\n",
       "      <th>living_area</th>\n",
       "      <th>floor</th>\n",
       "      <th>is_apartment</th>\n",
       "      <th>...</th>\n",
       "      <th>locality_name</th>\n",
       "      <th>airports_nearest</th>\n",
       "      <th>city_centers_nearest</th>\n",
       "      <th>parks_around3000</th>\n",
       "      <th>parks_nearest</th>\n",
       "      <th>ponds_around3000</th>\n",
       "      <th>ponds_nearest</th>\n",
       "      <th>days_exposition</th>\n",
       "      <th>living_part</th>\n",
       "      <th>kitchen_part</th>\n",
       "    </tr>\n",
       "  </thead>\n",
       "  <tbody>\n",
       "    <tr>\n",
       "      <td>186</td>\n",
       "      <td>12</td>\n",
       "      <td>11640000.0</td>\n",
       "      <td>65.2</td>\n",
       "      <td>2018-10-02T00:00:00</td>\n",
       "      <td>2</td>\n",
       "      <td>2.65</td>\n",
       "      <td>NaN</td>\n",
       "      <td>30.800000</td>\n",
       "      <td>4</td>\n",
       "      <td>NaN</td>\n",
       "      <td>...</td>\n",
       "      <td>Санкт-Петербург</td>\n",
       "      <td>39197.0</td>\n",
       "      <td>12373.0</td>\n",
       "      <td>1.0</td>\n",
       "      <td>123.0</td>\n",
       "      <td>0.0</td>\n",
       "      <td>NaN</td>\n",
       "      <td>49.0</td>\n",
       "      <td>0.472393</td>\n",
       "      <td>0.184049</td>\n",
       "    </tr>\n",
       "    <tr>\n",
       "      <td>237</td>\n",
       "      <td>4</td>\n",
       "      <td>2438033.0</td>\n",
       "      <td>28.1</td>\n",
       "      <td>2016-11-23T00:00:00</td>\n",
       "      <td>1</td>\n",
       "      <td>2.65</td>\n",
       "      <td>NaN</td>\n",
       "      <td>20.750000</td>\n",
       "      <td>1</td>\n",
       "      <td>NaN</td>\n",
       "      <td>...</td>\n",
       "      <td>Санкт-Петербург</td>\n",
       "      <td>22041.0</td>\n",
       "      <td>17369.0</td>\n",
       "      <td>0.0</td>\n",
       "      <td>NaN</td>\n",
       "      <td>1.0</td>\n",
       "      <td>374.0</td>\n",
       "      <td>251.0</td>\n",
       "      <td>0.738434</td>\n",
       "      <td>NaN</td>\n",
       "    </tr>\n",
       "    <tr>\n",
       "      <td>457</td>\n",
       "      <td>4</td>\n",
       "      <td>9788348.0</td>\n",
       "      <td>70.8</td>\n",
       "      <td>2015-08-01T00:00:00</td>\n",
       "      <td>2</td>\n",
       "      <td>2.65</td>\n",
       "      <td>NaN</td>\n",
       "      <td>38.400000</td>\n",
       "      <td>12</td>\n",
       "      <td>NaN</td>\n",
       "      <td>...</td>\n",
       "      <td>Санкт-Петербург</td>\n",
       "      <td>37364.0</td>\n",
       "      <td>8322.0</td>\n",
       "      <td>2.0</td>\n",
       "      <td>309.0</td>\n",
       "      <td>2.0</td>\n",
       "      <td>706.0</td>\n",
       "      <td>727.0</td>\n",
       "      <td>0.542373</td>\n",
       "      <td>0.150141</td>\n",
       "    </tr>\n",
       "    <tr>\n",
       "      <td>671</td>\n",
       "      <td>4</td>\n",
       "      <td>6051191.0</td>\n",
       "      <td>93.6</td>\n",
       "      <td>2017-04-06T00:00:00</td>\n",
       "      <td>3</td>\n",
       "      <td>2.65</td>\n",
       "      <td>NaN</td>\n",
       "      <td>47.100000</td>\n",
       "      <td>8</td>\n",
       "      <td>NaN</td>\n",
       "      <td>...</td>\n",
       "      <td>Санкт-Петербург</td>\n",
       "      <td>22041.0</td>\n",
       "      <td>17369.0</td>\n",
       "      <td>0.0</td>\n",
       "      <td>NaN</td>\n",
       "      <td>1.0</td>\n",
       "      <td>374.0</td>\n",
       "      <td>123.0</td>\n",
       "      <td>0.503205</td>\n",
       "      <td>0.179487</td>\n",
       "    </tr>\n",
       "    <tr>\n",
       "      <td>1757</td>\n",
       "      <td>5</td>\n",
       "      <td>3600000.0</td>\n",
       "      <td>39.0</td>\n",
       "      <td>2017-04-22T00:00:00</td>\n",
       "      <td>1</td>\n",
       "      <td>2.65</td>\n",
       "      <td>NaN</td>\n",
       "      <td>22.023224</td>\n",
       "      <td>9</td>\n",
       "      <td>NaN</td>\n",
       "      <td>...</td>\n",
       "      <td>Санкт-Петербург</td>\n",
       "      <td>22735.0</td>\n",
       "      <td>11618.0</td>\n",
       "      <td>1.0</td>\n",
       "      <td>835.0</td>\n",
       "      <td>1.0</td>\n",
       "      <td>652.0</td>\n",
       "      <td>77.0</td>\n",
       "      <td>NaN</td>\n",
       "      <td>NaN</td>\n",
       "    </tr>\n",
       "    <tr>\n",
       "      <td>...</td>\n",
       "      <td>...</td>\n",
       "      <td>...</td>\n",
       "      <td>...</td>\n",
       "      <td>...</td>\n",
       "      <td>...</td>\n",
       "      <td>...</td>\n",
       "      <td>...</td>\n",
       "      <td>...</td>\n",
       "      <td>...</td>\n",
       "      <td>...</td>\n",
       "      <td>...</td>\n",
       "      <td>...</td>\n",
       "      <td>...</td>\n",
       "      <td>...</td>\n",
       "      <td>...</td>\n",
       "      <td>...</td>\n",
       "      <td>...</td>\n",
       "      <td>...</td>\n",
       "      <td>...</td>\n",
       "      <td>...</td>\n",
       "      <td>...</td>\n",
       "    </tr>\n",
       "    <tr>\n",
       "      <td>22542</td>\n",
       "      <td>5</td>\n",
       "      <td>8500000.0</td>\n",
       "      <td>63.5</td>\n",
       "      <td>2017-05-24T00:00:00</td>\n",
       "      <td>2</td>\n",
       "      <td>2.80</td>\n",
       "      <td>NaN</td>\n",
       "      <td>35.858326</td>\n",
       "      <td>3</td>\n",
       "      <td>NaN</td>\n",
       "      <td>...</td>\n",
       "      <td>Санкт-Петербург</td>\n",
       "      <td>51340.0</td>\n",
       "      <td>15363.0</td>\n",
       "      <td>0.0</td>\n",
       "      <td>NaN</td>\n",
       "      <td>1.0</td>\n",
       "      <td>853.0</td>\n",
       "      <td>512.0</td>\n",
       "      <td>NaN</td>\n",
       "      <td>NaN</td>\n",
       "    </tr>\n",
       "    <tr>\n",
       "      <td>22656</td>\n",
       "      <td>4</td>\n",
       "      <td>4574160.0</td>\n",
       "      <td>64.5</td>\n",
       "      <td>2017-04-02T00:00:00</td>\n",
       "      <td>2</td>\n",
       "      <td>2.65</td>\n",
       "      <td>NaN</td>\n",
       "      <td>31.700000</td>\n",
       "      <td>20</td>\n",
       "      <td>NaN</td>\n",
       "      <td>...</td>\n",
       "      <td>Санкт-Петербург</td>\n",
       "      <td>22041.0</td>\n",
       "      <td>17369.0</td>\n",
       "      <td>0.0</td>\n",
       "      <td>NaN</td>\n",
       "      <td>1.0</td>\n",
       "      <td>374.0</td>\n",
       "      <td>127.0</td>\n",
       "      <td>0.491473</td>\n",
       "      <td>0.223256</td>\n",
       "    </tr>\n",
       "    <tr>\n",
       "      <td>22808</td>\n",
       "      <td>0</td>\n",
       "      <td>14569263.0</td>\n",
       "      <td>110.4</td>\n",
       "      <td>2016-11-20T00:00:00</td>\n",
       "      <td>3</td>\n",
       "      <td>2.65</td>\n",
       "      <td>NaN</td>\n",
       "      <td>45.380000</td>\n",
       "      <td>6</td>\n",
       "      <td>NaN</td>\n",
       "      <td>...</td>\n",
       "      <td>Санкт-Петербург</td>\n",
       "      <td>19095.0</td>\n",
       "      <td>4529.0</td>\n",
       "      <td>0.0</td>\n",
       "      <td>NaN</td>\n",
       "      <td>0.0</td>\n",
       "      <td>NaN</td>\n",
       "      <td>260.0</td>\n",
       "      <td>0.411051</td>\n",
       "      <td>0.212138</td>\n",
       "    </tr>\n",
       "    <tr>\n",
       "      <td>23590</td>\n",
       "      <td>0</td>\n",
       "      <td>21187872.0</td>\n",
       "      <td>123.3</td>\n",
       "      <td>2017-04-25T00:00:00</td>\n",
       "      <td>3</td>\n",
       "      <td>2.65</td>\n",
       "      <td>NaN</td>\n",
       "      <td>50.400000</td>\n",
       "      <td>18</td>\n",
       "      <td>NaN</td>\n",
       "      <td>...</td>\n",
       "      <td>Санкт-Петербург</td>\n",
       "      <td>19095.0</td>\n",
       "      <td>4529.0</td>\n",
       "      <td>0.0</td>\n",
       "      <td>NaN</td>\n",
       "      <td>0.0</td>\n",
       "      <td>NaN</td>\n",
       "      <td>104.0</td>\n",
       "      <td>0.408759</td>\n",
       "      <td>0.191403</td>\n",
       "    </tr>\n",
       "    <tr>\n",
       "      <td>23658</td>\n",
       "      <td>6</td>\n",
       "      <td>3063600.0</td>\n",
       "      <td>43.8</td>\n",
       "      <td>2016-11-28T00:00:00</td>\n",
       "      <td>1</td>\n",
       "      <td>2.70</td>\n",
       "      <td>NaN</td>\n",
       "      <td>14.000000</td>\n",
       "      <td>8</td>\n",
       "      <td>NaN</td>\n",
       "      <td>...</td>\n",
       "      <td>Санкт-Петербург</td>\n",
       "      <td>8426.0</td>\n",
       "      <td>12082.0</td>\n",
       "      <td>2.0</td>\n",
       "      <td>24.0</td>\n",
       "      <td>1.0</td>\n",
       "      <td>271.0</td>\n",
       "      <td>246.0</td>\n",
       "      <td>0.319635</td>\n",
       "      <td>0.353881</td>\n",
       "    </tr>\n",
       "  </tbody>\n",
       "</table>\n",
       "<p>82 rows × 24 columns</p>\n",
       "</div>"
      ],
      "text/plain": [
       "       total_images  last_price  total_area first_day_exposition  rooms  \\\n",
       "186              12  11640000.0        65.2  2018-10-02T00:00:00      2   \n",
       "237               4   2438033.0        28.1  2016-11-23T00:00:00      1   \n",
       "457               4   9788348.0        70.8  2015-08-01T00:00:00      2   \n",
       "671               4   6051191.0        93.6  2017-04-06T00:00:00      3   \n",
       "1757              5   3600000.0        39.0  2017-04-22T00:00:00      1   \n",
       "...             ...         ...         ...                  ...    ...   \n",
       "22542             5   8500000.0        63.5  2017-05-24T00:00:00      2   \n",
       "22656             4   4574160.0        64.5  2017-04-02T00:00:00      2   \n",
       "22808             0  14569263.0       110.4  2016-11-20T00:00:00      3   \n",
       "23590             0  21187872.0       123.3  2017-04-25T00:00:00      3   \n",
       "23658             6   3063600.0        43.8  2016-11-28T00:00:00      1   \n",
       "\n",
       "       ceiling_height  floors_total  living_area  floor is_apartment  ...  \\\n",
       "186              2.65           NaN    30.800000      4          NaN  ...   \n",
       "237              2.65           NaN    20.750000      1          NaN  ...   \n",
       "457              2.65           NaN    38.400000     12          NaN  ...   \n",
       "671              2.65           NaN    47.100000      8          NaN  ...   \n",
       "1757             2.65           NaN    22.023224      9          NaN  ...   \n",
       "...               ...           ...          ...    ...          ...  ...   \n",
       "22542            2.80           NaN    35.858326      3          NaN  ...   \n",
       "22656            2.65           NaN    31.700000     20          NaN  ...   \n",
       "22808            2.65           NaN    45.380000      6          NaN  ...   \n",
       "23590            2.65           NaN    50.400000     18          NaN  ...   \n",
       "23658            2.70           NaN    14.000000      8          NaN  ...   \n",
       "\n",
       "         locality_name  airports_nearest  city_centers_nearest  \\\n",
       "186    Санкт-Петербург           39197.0               12373.0   \n",
       "237    Санкт-Петербург           22041.0               17369.0   \n",
       "457    Санкт-Петербург           37364.0                8322.0   \n",
       "671    Санкт-Петербург           22041.0               17369.0   \n",
       "1757   Санкт-Петербург           22735.0               11618.0   \n",
       "...                ...               ...                   ...   \n",
       "22542  Санкт-Петербург           51340.0               15363.0   \n",
       "22656  Санкт-Петербург           22041.0               17369.0   \n",
       "22808  Санкт-Петербург           19095.0                4529.0   \n",
       "23590  Санкт-Петербург           19095.0                4529.0   \n",
       "23658  Санкт-Петербург            8426.0               12082.0   \n",
       "\n",
       "       parks_around3000 parks_nearest  ponds_around3000  ponds_nearest  \\\n",
       "186                 1.0         123.0               0.0            NaN   \n",
       "237                 0.0           NaN               1.0          374.0   \n",
       "457                 2.0         309.0               2.0          706.0   \n",
       "671                 0.0           NaN               1.0          374.0   \n",
       "1757                1.0         835.0               1.0          652.0   \n",
       "...                 ...           ...               ...            ...   \n",
       "22542               0.0           NaN               1.0          853.0   \n",
       "22656               0.0           NaN               1.0          374.0   \n",
       "22808               0.0           NaN               0.0            NaN   \n",
       "23590               0.0           NaN               0.0            NaN   \n",
       "23658               2.0          24.0               1.0          271.0   \n",
       "\n",
       "       days_exposition  living_part  kitchen_part  \n",
       "186               49.0     0.472393      0.184049  \n",
       "237              251.0     0.738434           NaN  \n",
       "457              727.0     0.542373      0.150141  \n",
       "671              123.0     0.503205      0.179487  \n",
       "1757              77.0          NaN           NaN  \n",
       "...                ...          ...           ...  \n",
       "22542            512.0          NaN           NaN  \n",
       "22656            127.0     0.491473      0.223256  \n",
       "22808            260.0     0.411051      0.212138  \n",
       "23590            104.0     0.408759      0.191403  \n",
       "23658            246.0     0.319635      0.353881  \n",
       "\n",
       "[82 rows x 24 columns]"
      ]
     },
     "execution_count": 727,
     "metadata": {},
     "output_type": "execute_result"
    }
   ],
   "source": [
    "data.query('floors_total ==\"NaN\"') # Изучим строки с пропущенными значениями"
   ]
  },
  {
   "cell_type": "code",
   "execution_count": 728,
   "metadata": {},
   "outputs": [
    {
     "name": "stdout",
     "output_type": "stream",
     "text": [
      "9.0\n"
     ]
    }
   ],
   "source": [
    "floors_median = data['floors_total'].median() # Посчитаем медиану для столбца foors_total\n",
    "print(floors_median)"
   ]
  },
  {
   "cell_type": "code",
   "execution_count": 729,
   "metadata": {},
   "outputs": [],
   "source": [
    "# Напишем функцию которая сможет заменить пропущенные значения в столбце floors_total на медианное\n",
    "# Так же включим в функцию условие при котором, если квартира из размещенного объявления расположена на этаже вышем чем \n",
    "# медианный этаж, пропущенное значение будет заменено значением этажа на котором расположена квартира.\n",
    "def floors_not_NaN(row):\n",
    "    floor = row['floor']\n",
    "    floors = row['floors_total']\n",
    "    if floors != floors and floor < floors_median:\n",
    "        return floors_median\n",
    "    if floors != floors:\n",
    "        return floor\n",
    "    else:\n",
    "        return floors"
   ]
  },
  {
   "cell_type": "code",
   "execution_count": 730,
   "metadata": {},
   "outputs": [],
   "source": [
    "# Применяем написаную функцию к столбцу floors_total\n",
    "data['floors_total'] = data.apply(floors_not_NaN, axis=1)"
   ]
  },
  {
   "cell_type": "code",
   "execution_count": 731,
   "metadata": {},
   "outputs": [
    {
     "data": {
      "text/html": [
       "<div>\n",
       "<style scoped>\n",
       "    .dataframe tbody tr th:only-of-type {\n",
       "        vertical-align: middle;\n",
       "    }\n",
       "\n",
       "    .dataframe tbody tr th {\n",
       "        vertical-align: top;\n",
       "    }\n",
       "\n",
       "    .dataframe thead th {\n",
       "        text-align: right;\n",
       "    }\n",
       "</style>\n",
       "<table border=\"1\" class=\"dataframe\">\n",
       "  <thead>\n",
       "    <tr style=\"text-align: right;\">\n",
       "      <th></th>\n",
       "      <th>total_images</th>\n",
       "      <th>last_price</th>\n",
       "      <th>total_area</th>\n",
       "      <th>first_day_exposition</th>\n",
       "      <th>rooms</th>\n",
       "      <th>ceiling_height</th>\n",
       "      <th>floors_total</th>\n",
       "      <th>living_area</th>\n",
       "      <th>floor</th>\n",
       "      <th>is_apartment</th>\n",
       "      <th>...</th>\n",
       "      <th>locality_name</th>\n",
       "      <th>airports_nearest</th>\n",
       "      <th>city_centers_nearest</th>\n",
       "      <th>parks_around3000</th>\n",
       "      <th>parks_nearest</th>\n",
       "      <th>ponds_around3000</th>\n",
       "      <th>ponds_nearest</th>\n",
       "      <th>days_exposition</th>\n",
       "      <th>living_part</th>\n",
       "      <th>kitchen_part</th>\n",
       "    </tr>\n",
       "  </thead>\n",
       "  <tbody>\n",
       "  </tbody>\n",
       "</table>\n",
       "<p>0 rows × 24 columns</p>\n",
       "</div>"
      ],
      "text/plain": [
       "Empty DataFrame\n",
       "Columns: [total_images, last_price, total_area, first_day_exposition, rooms, ceiling_height, floors_total, living_area, floor, is_apartment, studio, open_plan, kitchen_area, balcony, locality_name, airports_nearest, city_centers_nearest, parks_around3000, parks_nearest, ponds_around3000, ponds_nearest, days_exposition, living_part, kitchen_part]\n",
       "Index: []\n",
       "\n",
       "[0 rows x 24 columns]"
      ]
     },
     "execution_count": 731,
     "metadata": {},
     "output_type": "execute_result"
    }
   ],
   "source": [
    "data.query('floors_total == \"NaN\"')"
   ]
  },
  {
   "cell_type": "code",
   "execution_count": 732,
   "metadata": {},
   "outputs": [
    {
     "name": "stdout",
     "output_type": "stream",
     "text": [
      "<class 'pandas.core.frame.DataFrame'>\n",
      "Int64Index: 23405 entries, 0 to 23698\n",
      "Data columns (total 24 columns):\n",
      "total_images            23405 non-null int64\n",
      "last_price              23405 non-null float64\n",
      "total_area              23405 non-null float64\n",
      "first_day_exposition    23405 non-null object\n",
      "rooms                   23405 non-null int64\n",
      "ceiling_height          23405 non-null float64\n",
      "floors_total            23405 non-null float64\n",
      "living_area             23405 non-null float64\n",
      "floor                   23405 non-null int64\n",
      "is_apartment            2740 non-null object\n",
      "studio                  23405 non-null bool\n",
      "open_plan               23405 non-null bool\n",
      "kitchen_area            23405 non-null float64\n",
      "balcony                 23405 non-null float64\n",
      "locality_name           23405 non-null object\n",
      "airports_nearest        17968 non-null float64\n",
      "city_centers_nearest    23405 non-null float64\n",
      "parks_around3000        17992 non-null float64\n",
      "parks_nearest           8018 non-null float64\n",
      "ponds_around3000        17992 non-null float64\n",
      "ponds_nearest           8998 non-null float64\n",
      "days_exposition         20250 non-null float64\n",
      "living_part             21525 non-null float64\n",
      "kitchen_part            21342 non-null float64\n",
      "dtypes: bool(2), float64(16), int64(3), object(3)\n",
      "memory usage: 4.2+ MB\n"
     ]
    }
   ],
   "source": [
    "data.info() # Проверяем, пропуски в столбце floors_total устранены"
   ]
  },
  {
   "cell_type": "markdown",
   "metadata": {},
   "source": [
    "#### Заполнение пропусков в столбце 'is_apartment'"
   ]
  },
  {
   "cell_type": "code",
   "execution_count": 733,
   "metadata": {},
   "outputs": [
    {
     "data": {
      "text/plain": [
       "20665"
      ]
     },
     "execution_count": 733,
     "metadata": {},
     "output_type": "execute_result"
    }
   ],
   "source": [
    "# Посчитаем число пропусков в столбце is_apartment\n",
    "data['is_apartment'].isnull().sum()"
   ]
  },
  {
   "cell_type": "code",
   "execution_count": 734,
   "metadata": {},
   "outputs": [
    {
     "data": {
      "text/plain": [
       "False    2693\n",
       "True       47\n",
       "Name: is_apartment, dtype: int64"
      ]
     },
     "execution_count": 734,
     "metadata": {},
     "output_type": "execute_result"
    }
   ],
   "source": [
    "# Посчитаем количество уникальных значений в столбце is_apartment\n",
    "data['is_apartment'].value_counts()"
   ]
  },
  {
   "cell_type": "code",
   "execution_count": 735,
   "metadata": {},
   "outputs": [],
   "source": [
    "# Проанализировав имеющиеся данные можем сделать вывод что пропуски в столбце is_apartment возникли в ввиду того что владельцы \n",
    "# недвижимости при размещении объявлений не относят ее к категории апартаментов и пропускают данный пункт. Соответственно мы можем\n",
    "# заменить пропуски в столбце is_apartment значением False\n",
    "data['is_apartment'] = data['is_apartment'].fillna(False)"
   ]
  },
  {
   "cell_type": "code",
   "execution_count": 736,
   "metadata": {},
   "outputs": [],
   "source": [
    "# Приведем столбец is_apartment к типу данных bool\n",
    "data['is_apartment'] = data['is_apartment'].astype('bool')"
   ]
  },
  {
   "cell_type": "code",
   "execution_count": 737,
   "metadata": {},
   "outputs": [
    {
     "data": {
      "text/plain": [
       "0"
      ]
     },
     "execution_count": 737,
     "metadata": {},
     "output_type": "execute_result"
    }
   ],
   "source": [
    "# Проверяем, пропуски в столбце is_apartment устранены\n",
    "data['is_apartment'].isnull().sum()"
   ]
  },
  {
   "cell_type": "code",
   "execution_count": 738,
   "metadata": {},
   "outputs": [
    {
     "data": {
      "text/plain": [
       "False    23358\n",
       "True        47\n",
       "Name: is_apartment, dtype: int64"
      ]
     },
     "execution_count": 738,
     "metadata": {},
     "output_type": "execute_result"
    }
   ],
   "source": [
    "# Посчитаем, пропуски в столбце is_apartment заменены именно на False\n",
    "data['is_apartment'].value_counts()"
   ]
  },
  {
   "cell_type": "markdown",
   "metadata": {},
   "source": [
    "#### Заполнение пропусков в столбце 'day_exposition'"
   ]
  },
  {
   "cell_type": "code",
   "execution_count": 739,
   "metadata": {},
   "outputs": [],
   "source": [
    "# Посчитаем число пропусков в столбце days_exposition"
   ]
  },
  {
   "cell_type": "code",
   "execution_count": 740,
   "metadata": {},
   "outputs": [
    {
     "data": {
      "text/plain": [
       "3155"
      ]
     },
     "execution_count": 740,
     "metadata": {},
     "output_type": "execute_result"
    }
   ],
   "source": [
    "data['days_exposition'].isnull().sum()"
   ]
  },
  {
   "cell_type": "code",
   "execution_count": 741,
   "metadata": {},
   "outputs": [
    {
     "data": {
      "text/plain": [
       "181.40775308641975"
      ]
     },
     "execution_count": 741,
     "metadata": {},
     "output_type": "execute_result"
    }
   ],
   "source": [
    "# Посчитаем среднее значение в столбце days_exposition\n",
    "data['days_exposition'].mean()"
   ]
  },
  {
   "cell_type": "code",
   "execution_count": 742,
   "metadata": {},
   "outputs": [
    {
     "data": {
      "text/plain": [
       "96.0"
      ]
     },
     "execution_count": 742,
     "metadata": {},
     "output_type": "execute_result"
    }
   ],
   "source": [
    "# Посчитаем медиану для столбце days_exposition\n",
    "data['days_exposition'].median()"
   ]
  },
  {
   "cell_type": "code",
   "execution_count": 743,
   "metadata": {},
   "outputs": [],
   "source": [
    "# Медиана в данном случае больше подходит для заполнения пропусков в столбце days_exposition, так как менее подвержена влиянию \n",
    "# существенного разрброса значений присутствуещего в текущем столбце.\n",
    "days_exposition_median = data['days_exposition'].median()"
   ]
  },
  {
   "cell_type": "code",
   "execution_count": 744,
   "metadata": {},
   "outputs": [],
   "source": [
    "# Напишем функцию заменяющую пропуски в столбце days_exposition на медианое значение\n",
    "def days_exposition_not_NaN(row):\n",
    "    days = row['days_exposition']\n",
    "    if days != days:\n",
    "        return days_exposition_median\n",
    "    else:\n",
    "        return days   "
   ]
  },
  {
   "cell_type": "code",
   "execution_count": 745,
   "metadata": {},
   "outputs": [],
   "source": [
    "# Применим получившуюся функцию к столбцу days_exposition\n",
    "data['days_exposition'] = data.fillna(days_exposition_not_NaN, axis=1)"
   ]
  },
  {
   "cell_type": "code",
   "execution_count": 746,
   "metadata": {},
   "outputs": [
    {
     "name": "stdout",
     "output_type": "stream",
     "text": [
      "0\n"
     ]
    }
   ],
   "source": [
    "# Проверяем, пропуски устранены\n",
    "print(data['days_exposition'].isnull().sum())"
   ]
  },
  {
   "cell_type": "markdown",
   "metadata": {},
   "source": [
    "#### Вывод"
   ]
  },
  {
   "cell_type": "markdown",
   "metadata": {},
   "source": [
    "<br/>- Для устранения рызличных вариантов написания идентичных населенных пунктов в столбце locality_name, все буквы 'ё' в столбце были заменены на 'е'\n",
    "<br/>- Установлено что нули в столбце city_centers_nearest соответствуют малым населенным пунктам и их было решено оставить в датафрейме, так как информации для их заполнения недостаточно, их удаление повлечет потерю значительного массива данных, а для того чтобы определить кореляцию цены недвижимости и расстояния до центра Санкт-Петербурга, эти данные не понадобятся.\n",
    "<br/>- Пропуски в столбце ceiling_height заменены медианным значением, а так же выявлены и отсечены артефактные значения\n",
    "<br/>- Пропуски в столбце balcony заполнены нулями\n",
    "<br/>- Пропуски в столбцах living_area и kitchen_area заменены на произведение общей площади квартиры и соответствующего коэфицента\n",
    "<br/>- Строки с пропущеными значениями в столбце rooms удалены полностью \n",
    "<br/>- Строки с пропущеными значениями в столбце locality_name удалены полностью\n",
    "<br/>- Пропущеные значения в столбце is_apartment заменены на False\n",
    "<br/>- Пропущеные значения в столбце floors_total заменены медианным значением\n",
    "<br/>- Пропущеные значения в столбце days_exposition так же заменены медианным значением \n",
    "<br/>- Пропущеные значения в столбцах airports_nearest, parks_around3000, parks_nearest, ponds_around3000, ponds_nearest было решено не заполонять, так как данные этих столбцов не потребуются для поиска ответов на стоящие перед нами вопросы\n"
   ]
  },
  {
   "cell_type": "markdown",
   "metadata": {},
   "source": [
    "#### Изменение типов данных"
   ]
  },
  {
   "cell_type": "code",
   "execution_count": 747,
   "metadata": {},
   "outputs": [
    {
     "name": "stdout",
     "output_type": "stream",
     "text": [
      "<class 'pandas.core.frame.DataFrame'>\n",
      "Int64Index: 23405 entries, 0 to 23698\n",
      "Data columns (total 24 columns):\n",
      "total_images            23405 non-null int64\n",
      "last_price              23405 non-null float64\n",
      "total_area              23405 non-null float64\n",
      "first_day_exposition    23405 non-null object\n",
      "rooms                   23405 non-null int64\n",
      "ceiling_height          23405 non-null float64\n",
      "floors_total            23405 non-null float64\n",
      "living_area             23405 non-null float64\n",
      "floor                   23405 non-null int64\n",
      "is_apartment            23405 non-null bool\n",
      "studio                  23405 non-null bool\n",
      "open_plan               23405 non-null bool\n",
      "kitchen_area            23405 non-null float64\n",
      "balcony                 23405 non-null float64\n",
      "locality_name           23405 non-null object\n",
      "airports_nearest        17968 non-null float64\n",
      "city_centers_nearest    23405 non-null float64\n",
      "parks_around3000        17992 non-null float64\n",
      "parks_nearest           8018 non-null float64\n",
      "ponds_around3000        17992 non-null float64\n",
      "ponds_nearest           8998 non-null float64\n",
      "days_exposition         23405 non-null object\n",
      "living_part             21525 non-null float64\n",
      "kitchen_part            21342 non-null float64\n",
      "dtypes: bool(3), float64(15), int64(3), object(3)\n",
      "memory usage: 4.0+ MB\n"
     ]
    }
   ],
   "source": [
    "# Изучим все представленные в датафрейме типы данных\n",
    "data.info() "
   ]
  },
  {
   "cell_type": "code",
   "execution_count": 748,
   "metadata": {},
   "outputs": [],
   "source": [
    "# Сохраним в переменной columns названия столбцов, в которых необходимо изменить тип данных\n",
    "columns = ['last_price', 'total_area', 'floors_total', 'living_area', 'kitchen_area', \n",
    "           'days_exposition', 'city_centers_nearest', 'balcony']"
   ]
  },
  {
   "cell_type": "code",
   "execution_count": 749,
   "metadata": {},
   "outputs": [],
   "source": [
    "# Приведем данные к целому числовому значению, зменим тип данных для переменной columns на int64\n",
    "data[columns] = data[columns].astype('int')"
   ]
  },
  {
   "cell_type": "code",
   "execution_count": 750,
   "metadata": {},
   "outputs": [],
   "source": [
    "# Для удобства восприятия информации переведем рубли в столбце last_price в миллионы рублей поделив все значения в столбце на миллион\n",
    "data['last_price'] = data['last_price'] / 1000000"
   ]
  },
  {
   "cell_type": "code",
   "execution_count": 751,
   "metadata": {},
   "outputs": [
    {
     "name": "stdout",
     "output_type": "stream",
     "text": [
      "<class 'pandas.core.frame.DataFrame'>\n",
      "Int64Index: 23405 entries, 0 to 23698\n",
      "Data columns (total 24 columns):\n",
      "total_images            23405 non-null int64\n",
      "last_price              23405 non-null float64\n",
      "total_area              23405 non-null int64\n",
      "first_day_exposition    23405 non-null object\n",
      "rooms                   23405 non-null int64\n",
      "ceiling_height          23405 non-null float64\n",
      "floors_total            23405 non-null int64\n",
      "living_area             23405 non-null int64\n",
      "floor                   23405 non-null int64\n",
      "is_apartment            23405 non-null bool\n",
      "studio                  23405 non-null bool\n",
      "open_plan               23405 non-null bool\n",
      "kitchen_area            23405 non-null int64\n",
      "balcony                 23405 non-null int64\n",
      "locality_name           23405 non-null object\n",
      "airports_nearest        17968 non-null float64\n",
      "city_centers_nearest    23405 non-null int64\n",
      "parks_around3000        17992 non-null float64\n",
      "parks_nearest           8018 non-null float64\n",
      "ponds_around3000        17992 non-null float64\n",
      "ponds_nearest           8998 non-null float64\n",
      "days_exposition         23405 non-null int64\n",
      "living_part             21525 non-null float64\n",
      "kitchen_part            21342 non-null float64\n",
      "dtypes: bool(3), float64(9), int64(10), object(2)\n",
      "memory usage: 4.0+ MB\n"
     ]
    }
   ],
   "source": [
    "# Проверяем, все типы данных изменены успешно.\n",
    "data.info()"
   ]
  },
  {
   "cell_type": "markdown",
   "metadata": {},
   "source": [
    "#### Вывод"
   ]
  },
  {
   "cell_type": "markdown",
   "metadata": {},
   "source": [
    "Для удобства дальнейшей работы с данными, мы изменили тип данны в столбцах last_price, total_area, living_area, living_area, kitchen_area, floors_total, city_centers_nearest, balcony, days_exposition на int64, а так же для столбца last_price мы перевели перевели все значения в миллионы."
   ]
  },
  {
   "cell_type": "markdown",
   "metadata": {},
   "source": [
    "### Шаг 3. Посчитаем и добавим в таблицу недостающие данные"
   ]
  },
  {
   "cell_type": "markdown",
   "metadata": {},
   "source": [
    "#### Посчитаем и добавим в таблицу цену квадратного метра"
   ]
  },
  {
   "cell_type": "code",
   "execution_count": 752,
   "metadata": {},
   "outputs": [],
   "source": [
    "# Добавим в таблицу столбец 'square_meter_price_mln' со стоимостью квадратного метра в миллионах рублей\n",
    "# Для этого поделим стоимость каждой квартиры на ее площадь\n",
    "data['square_meter_price_mln'] = data['last_price']/data['total_area']"
   ]
  },
  {
   "cell_type": "code",
   "execution_count": 753,
   "metadata": {},
   "outputs": [
    {
     "name": "stdout",
     "output_type": "stream",
     "text": [
      "0    0.120370\n",
      "1    0.083750\n",
      "2    0.092786\n",
      "3    0.408176\n",
      "4    0.100000\n",
      "Name: square_meter_price_mln, dtype: float64\n"
     ]
    }
   ],
   "source": [
    "# Проверяем, столбец добавлен\n",
    "print(data['square_meter_price_mln'].head())"
   ]
  },
  {
   "cell_type": "markdown",
   "metadata": {},
   "source": [
    "#### Посчитаем и добавим в таблицу: день недели, месяц и год публикации объявления"
   ]
  },
  {
   "cell_type": "code",
   "execution_count": 754,
   "metadata": {},
   "outputs": [],
   "source": [
    "# Изменим формат данных в столбце first_day_exposition на более удобный, исключающий нулевые значения времени размещения объявлений\n",
    "data['first_day_exposition'] = pd.to_datetime(data['first_day_exposition'], format='%Y.%m.%dT%H:%M:%S')"
   ]
  },
  {
   "cell_type": "code",
   "execution_count": 755,
   "metadata": {},
   "outputs": [
    {
     "name": "stdout",
     "output_type": "stream",
     "text": [
      "0   2019-03-07\n",
      "1   2018-12-04\n",
      "2   2015-08-20\n",
      "3   2015-07-24\n",
      "4   2018-06-19\n",
      "Name: first_day_exposition, dtype: datetime64[ns]\n"
     ]
    }
   ],
   "source": [
    "# Проверяем формат изменен\n",
    "print(data['first_day_exposition'].head())"
   ]
  },
  {
   "cell_type": "code",
   "execution_count": 756,
   "metadata": {},
   "outputs": [],
   "source": [
    "# Добавим в таблицу столбец включающий в себя информацию о дне недели размещения объявления\n",
    "data['day_name_exposition'] = data['first_day_exposition'].dt.day_name()"
   ]
  },
  {
   "cell_type": "code",
   "execution_count": 757,
   "metadata": {},
   "outputs": [],
   "source": [
    "# Добавим в таблицу столбец включающий в себя информацию о том в каком месяце размещено объявление\n",
    "data['month_name_exposition'] = data['first_day_exposition'].dt.month_name()"
   ]
  },
  {
   "cell_type": "code",
   "execution_count": 758,
   "metadata": {},
   "outputs": [],
   "source": [
    "# Добавим в таблицу столбец включающий в себя информацию о том в каком году размещено объявление\n",
    "data['year_exposition'] = data['first_day_exposition'].dt.year"
   ]
  },
  {
   "cell_type": "code",
   "execution_count": 759,
   "metadata": {},
   "outputs": [
    {
     "data": {
      "text/plain": [
       "Timestamp('2019-05-03 00:00:00')"
      ]
     },
     "execution_count": 759,
     "metadata": {},
     "output_type": "execute_result"
    }
   ],
   "source": [
    "# Выведем дату размещения последнего объявления\n",
    "data['first_day_exposition'].max()"
   ]
  },
  {
   "cell_type": "markdown",
   "metadata": {},
   "source": [
    "#### Посчитаем и добавим в таблицу: этаж квартиры; варианты — первый, последний, другой"
   ]
  },
  {
   "cell_type": "code",
   "execution_count": 760,
   "metadata": {},
   "outputs": [],
   "source": [
    "# Напишем функцию сравнивающую данные в стобцах floor и floors_total и в зависимости от результат сравнения возвращающую \n",
    "# значения: Первый, Последний, Другой\n",
    "\n",
    "def floor_counter(row):   \n",
    "        if row['floor'] == 1:\n",
    "            return 'Первый'\n",
    "        elif row['floor'] == row['floors_total']:\n",
    "            return 'Последний'\n",
    "        else:\n",
    "            return 'Другой'\n",
    "        "
   ]
  },
  {
   "cell_type": "code",
   "execution_count": 761,
   "metadata": {},
   "outputs": [],
   "source": [
    "# Применим получившуюся функцию к нашему датафрейму, результаты сохраним в столбце floor_type\n",
    "data['floor_type'] = data.apply(floor_counter, axis=1)"
   ]
  },
  {
   "cell_type": "code",
   "execution_count": 762,
   "metadata": {},
   "outputs": [
    {
     "data": {
      "text/plain": [
       "Другой       17168\n",
       "Последний     3348\n",
       "Первый        2889\n",
       "Name: floor_type, dtype: int64"
      ]
     },
     "execution_count": 762,
     "metadata": {},
     "output_type": "execute_result"
    }
   ],
   "source": [
    "# Посмотрим результаты распределения\n",
    "data['floor_type'].value_counts()"
   ]
  },
  {
   "cell_type": "markdown",
   "metadata": {},
   "source": [
    "#### Посчитаем и добавим в таблицу: соотношение жилой и общей площади, а также отношение площади кухни к общей"
   ]
  },
  {
   "cell_type": "code",
   "execution_count": 763,
   "metadata": {},
   "outputs": [],
   "source": [
    "# Посчитаем соотношение жилой и общей площади для каждой квартиры в процентах, результат сохраним в столбец living_ratio_%\n",
    "data['living_ratio_%'] = ((data['living_area'] / data['total_area']) * 100).astype('int')"
   ]
  },
  {
   "cell_type": "code",
   "execution_count": 764,
   "metadata": {},
   "outputs": [
    {
     "name": "stdout",
     "output_type": "stream",
     "text": [
      "0    47\n",
      "1    45\n",
      "2    60\n",
      "3    55\n",
      "4    32\n",
      "Name: living_ratio_%, dtype: int64\n"
     ]
    }
   ],
   "source": [
    "# Проверяем, соотношение посчитано\n",
    "print(data['living_ratio_%'].head())"
   ]
  },
  {
   "cell_type": "code",
   "execution_count": 765,
   "metadata": {},
   "outputs": [],
   "source": [
    "# Посчитаем соотношение жилой и общей площади для каждой квартиры в процентах, результат сохраним в столбец kitchen_ratio_%\n",
    "data['kitchen_ratio_%'] = ((data['kitchen_area'] / data['total_area']) * 100).astype('int')"
   ]
  },
  {
   "cell_type": "code",
   "execution_count": 766,
   "metadata": {},
   "outputs": [
    {
     "name": "stdout",
     "output_type": "stream",
     "text": [
      "0    23\n",
      "1    27\n",
      "2    14\n",
      "3    18\n",
      "4    41\n",
      "Name: kitchen_ratio_%, dtype: int64\n"
     ]
    }
   ],
   "source": [
    "# Проверяем, соотношение посчитано\n",
    "print(data['kitchen_ratio_%'].head())"
   ]
  },
  {
   "cell_type": "markdown",
   "metadata": {},
   "source": [
    "#### Вывод"
   ]
  },
  {
   "cell_type": "markdown",
   "metadata": {},
   "source": [
    "В таблицу добавлены столбцы: \n",
    "<br/>square_meter_price_mln - включающий в себя цену квадратного метра для каждой квартиры в миллионах рублей\n",
    "<br/>day_name_exposition' - включающий в себя информацию о дне недели размещения объявления\n",
    "<br/>month_name_exposition - включающий в себя информацию о том в каком месяце размещено объявление\n",
    "<br/>year_exposition - включающий в себя информацию о том в каком году размещено объявление\n",
    "<br/>floor_type - включающий в себя категории этажности\n",
    "<br/>living_ratio_% - включающий в себя информацию о том какая доля в процентах от общей площади приходится на жилую площадь\n",
    "<br/>kitchen_ratio_% - включающий в себя информацию о том какая доля в процентах от общей площади приходится на площадь кухни"
   ]
  },
  {
   "cell_type": "markdown",
   "metadata": {},
   "source": [
    "### Шаг 4. Проведем исследовательский анализ данных и выполним инструкции:"
   ]
  },
  {
   "cell_type": "markdown",
   "metadata": {},
   "source": [
    "#### Исследование высоты потолков, площади, числа комнат и цены"
   ]
  },
  {
   "cell_type": "code",
   "execution_count": 767,
   "metadata": {},
   "outputs": [
    {
     "data": {
      "text/html": [
       "<div>\n",
       "<style scoped>\n",
       "    .dataframe tbody tr th:only-of-type {\n",
       "        vertical-align: middle;\n",
       "    }\n",
       "\n",
       "    .dataframe tbody tr th {\n",
       "        vertical-align: top;\n",
       "    }\n",
       "\n",
       "    .dataframe thead th {\n",
       "        text-align: right;\n",
       "    }\n",
       "</style>\n",
       "<table border=\"1\" class=\"dataframe\">\n",
       "  <thead>\n",
       "    <tr style=\"text-align: right;\">\n",
       "      <th></th>\n",
       "      <th>ceiling_height</th>\n",
       "      <th>total_area</th>\n",
       "      <th>rooms</th>\n",
       "      <th>last_price</th>\n",
       "    </tr>\n",
       "  </thead>\n",
       "  <tbody>\n",
       "    <tr>\n",
       "      <td>count</td>\n",
       "      <td>23405.000000</td>\n",
       "      <td>23405.000000</td>\n",
       "      <td>23405.000000</td>\n",
       "      <td>23405.000000</td>\n",
       "    </tr>\n",
       "    <tr>\n",
       "      <td>mean</td>\n",
       "      <td>2.696308</td>\n",
       "      <td>60.335142</td>\n",
       "      <td>2.087417</td>\n",
       "      <td>6.554656</td>\n",
       "    </tr>\n",
       "    <tr>\n",
       "      <td>std</td>\n",
       "      <td>0.215647</td>\n",
       "      <td>35.508037</td>\n",
       "      <td>1.065997</td>\n",
       "      <td>10.855984</td>\n",
       "    </tr>\n",
       "    <tr>\n",
       "      <td>min</td>\n",
       "      <td>2.200000</td>\n",
       "      <td>12.000000</td>\n",
       "      <td>1.000000</td>\n",
       "      <td>0.012190</td>\n",
       "    </tr>\n",
       "    <tr>\n",
       "      <td>25%</td>\n",
       "      <td>2.600000</td>\n",
       "      <td>40.000000</td>\n",
       "      <td>1.000000</td>\n",
       "      <td>3.450000</td>\n",
       "    </tr>\n",
       "    <tr>\n",
       "      <td>50%</td>\n",
       "      <td>2.650000</td>\n",
       "      <td>52.000000</td>\n",
       "      <td>2.000000</td>\n",
       "      <td>4.650000</td>\n",
       "    </tr>\n",
       "    <tr>\n",
       "      <td>75%</td>\n",
       "      <td>2.700000</td>\n",
       "      <td>70.000000</td>\n",
       "      <td>3.000000</td>\n",
       "      <td>6.800000</td>\n",
       "    </tr>\n",
       "    <tr>\n",
       "      <td>max</td>\n",
       "      <td>5.000000</td>\n",
       "      <td>900.000000</td>\n",
       "      <td>19.000000</td>\n",
       "      <td>763.000000</td>\n",
       "    </tr>\n",
       "  </tbody>\n",
       "</table>\n",
       "</div>"
      ],
      "text/plain": [
       "       ceiling_height    total_area         rooms    last_price\n",
       "count    23405.000000  23405.000000  23405.000000  23405.000000\n",
       "mean         2.696308     60.335142      2.087417      6.554656\n",
       "std          0.215647     35.508037      1.065997     10.855984\n",
       "min          2.200000     12.000000      1.000000      0.012190\n",
       "25%          2.600000     40.000000      1.000000      3.450000\n",
       "50%          2.650000     52.000000      2.000000      4.650000\n",
       "75%          2.700000     70.000000      3.000000      6.800000\n",
       "max          5.000000    900.000000     19.000000    763.000000"
      ]
     },
     "execution_count": 767,
     "metadata": {},
     "output_type": "execute_result"
    }
   ],
   "source": [
    "# Сохраним в переменной columns названия столбцов с необходимыми нам данными и изучим их методом describe\n",
    "columns = ['ceiling_height', 'total_area', 'rooms', 'last_price']\n",
    "data[columns].describe()"
   ]
  },
  {
   "cell_type": "code",
   "execution_count": 768,
   "metadata": {},
   "outputs": [],
   "source": [
    "# Выделим в отдельную таблицу df столбцы с инетересующими нас данными\n",
    "df = data.loc[:, ['ceiling_height', 'total_area', 'rooms', 'last_price']]"
   ]
  },
  {
   "cell_type": "code",
   "execution_count": 769,
   "metadata": {},
   "outputs": [
    {
     "data": {
      "image/png": "[encoded data removed]",
      "text/plain": [
       "<Figure size 1440x504 with 4 Axes>"
      ]
     },
     "metadata": {
      "needs_background": "light"
     },
     "output_type": "display_data"
    },
    {
     "data": {
      "image/png": "[encoded data removed]",
      "text/plain": [
       "<Figure size 1440x504 with 4 Axes>"
      ]
     },
     "metadata": {
      "needs_background": "light"
     },
     "output_type": "display_data"
    }
   ],
   "source": [
    "# Сохраним в переменной titles названия столбцов\n",
    "titles = ['Высота потолков', 'Общая площадь', 'Количество комнат', 'Цена']\n",
    "# Построим гистограммы, для наглядности в разных диапазонах\n",
    "for name in range(1):\n",
    "    df.hist(bins=30, figsize=[20,7], range=(0,10)),\n",
    "    df.hist(bins=30, figsize=[20,7], range=(0,200))"
   ]
  },
  {
   "cell_type": "code",
   "execution_count": 770,
   "metadata": {},
   "outputs": [
    {
     "data": {
      "image/png": "[encoded data removed]",
      "text/plain": [
       "<Figure size 1080x1728 with 4 Axes>"
      ]
     },
     "metadata": {
      "needs_background": "light"
     },
     "output_type": "display_data"
    }
   ],
   "source": [
    "# Для сравнения построим и проанализируем гистограммы методом plot\n",
    "titles = ['Высота потолков', 'Общая площадь', 'Количество комнат', 'Цена']\n",
    "for name in range(1):   \n",
    "    df.plot(kind='hist', subplots=True, bins=80, figsize=[15,24], sharex = False, \n",
    "    range=(1,80), grid=True, title=titles)"
   ]
  },
  {
   "cell_type": "markdown",
   "metadata": {},
   "source": [
    "На основе построенных гистограмм можно сделать следующие выводы:\n",
    "<br/>- Самые распространенные значения высоты потолков расположены в достаточно узком диапазоне от 2.5 до 2.8 метров, что соответветствует установленым в Российской Федерации нормативам. Выбивающиеся значения достаточно редки и могут быть в последствии отсечены, без угрозы потери значительной части данных. Незначительный но явный всплеск на 3м соответствует нормативу применявшемся при осуществлении \"сталинской\" застройки который составлял 3м, а так же ряд дореволюционных доходных домов так же обладает высотой потолков около 3м.\n",
    "<br/>- Абсолютное большинство квартир обладают площадью от 30 до 80 кв.м, что коррелирует с данными Росстата, согласно которым средняя площадь квартир в Российской Федереации в 2019 году составляет 55кв.м. Пик графика приходится на величену в 46кв.м, что соответствует площади двухкомнатной \"хрущевки\", одного из наболее распростаненных типов жилой застройки советского периода. Квартиры площадью свыше 100м2 встречаются, но уже несравнимо реже.\n",
    "<br/>- Наиболее распространенными являются 1 и 2 комнатные квартиры, примерно в равных долях. 3х комнатные квартиры встречаются уже на 30% реже. 4ех комнатные квартиры встречаются в 5 раз реже чем 3ех комнатные. Недвижимость с количеством комнат более 5 уже встречается крайне редко.\n",
    "<br/>- Квартиры в самом массовом их сегменте продаются по цене от 2.5 до 5 млн рублей. Квартиры стоимостью от 5 до 8 млн рублей, так же достаточно сильно распространены на рынке. После 8 млн рублей происходит ощутимое снижение количества предложений. Дальнейший ценовой разброс предложений обладает широким диапазоном от 10млн до 763 млн рублей и статистически представляет собой редкие исключения, большую часть данной группы можно отнести к разряду сверх дорогой недвижимости и анализировать отдельно, так как ценообразование в данной категории может формироваться по иным правилам нежели в самом массовом сегменте."
   ]
  },
  {
   "cell_type": "markdown",
   "metadata": {},
   "source": [
    "#### Исследование количества времени для продажи квартиры"
   ]
  },
  {
   "cell_type": "markdown",
   "metadata": {},
   "source": [
    "Решим поставленную задачу \"Изучите время продажи квартиры. Постройте гистограмму. Посчитайте среднее и медиану. Опишите, сколько обычно занимает продажа. Когда можно считать, что продажи прошли очень быстро, а когда необычно долго?\""
   ]
  },
  {
   "cell_type": "code",
   "execution_count": 771,
   "metadata": {},
   "outputs": [
    {
     "data": {
      "text/html": [
       "<div>\n",
       "<style scoped>\n",
       "    .dataframe tbody tr th:only-of-type {\n",
       "        vertical-align: middle;\n",
       "    }\n",
       "\n",
       "    .dataframe tbody tr th {\n",
       "        vertical-align: top;\n",
       "    }\n",
       "\n",
       "    .dataframe thead th {\n",
       "        text-align: right;\n",
       "    }\n",
       "</style>\n",
       "<table border=\"1\" class=\"dataframe\">\n",
       "  <thead>\n",
       "    <tr style=\"text-align: right;\">\n",
       "      <th></th>\n",
       "      <th>total_images</th>\n",
       "      <th>last_price</th>\n",
       "      <th>total_area</th>\n",
       "      <th>rooms</th>\n",
       "      <th>ceiling_height</th>\n",
       "      <th>floors_total</th>\n",
       "      <th>living_area</th>\n",
       "      <th>floor</th>\n",
       "      <th>kitchen_area</th>\n",
       "      <th>balcony</th>\n",
       "      <th>...</th>\n",
       "      <th>parks_nearest</th>\n",
       "      <th>ponds_around3000</th>\n",
       "      <th>ponds_nearest</th>\n",
       "      <th>days_exposition</th>\n",
       "      <th>living_part</th>\n",
       "      <th>kitchen_part</th>\n",
       "      <th>square_meter_price_mln</th>\n",
       "      <th>year_exposition</th>\n",
       "      <th>living_ratio_%</th>\n",
       "      <th>kitchen_ratio_%</th>\n",
       "    </tr>\n",
       "  </thead>\n",
       "  <tbody>\n",
       "    <tr>\n",
       "      <td>count</td>\n",
       "      <td>23405.000000</td>\n",
       "      <td>23405.000000</td>\n",
       "      <td>23405.000000</td>\n",
       "      <td>23405.000000</td>\n",
       "      <td>23405.000000</td>\n",
       "      <td>23405.000000</td>\n",
       "      <td>23405.000000</td>\n",
       "      <td>23405.000000</td>\n",
       "      <td>23405.000000</td>\n",
       "      <td>23405.000000</td>\n",
       "      <td>...</td>\n",
       "      <td>8018.000000</td>\n",
       "      <td>17992.000000</td>\n",
       "      <td>8998.000000</td>\n",
       "      <td>23405.000000</td>\n",
       "      <td>21525.000000</td>\n",
       "      <td>21342.000000</td>\n",
       "      <td>23405.000000</td>\n",
       "      <td>23405.000000</td>\n",
       "      <td>23405.000000</td>\n",
       "      <td>23405.000000</td>\n",
       "    </tr>\n",
       "    <tr>\n",
       "      <td>mean</td>\n",
       "      <td>9.879812</td>\n",
       "      <td>6.554656</td>\n",
       "      <td>60.335142</td>\n",
       "      <td>2.087417</td>\n",
       "      <td>2.696308</td>\n",
       "      <td>10.632130</td>\n",
       "      <td>34.389959</td>\n",
       "      <td>5.871822</td>\n",
       "      <td>10.337236</td>\n",
       "      <td>0.587310</td>\n",
       "      <td>...</td>\n",
       "      <td>490.515465</td>\n",
       "      <td>0.768842</td>\n",
       "      <td>518.281507</td>\n",
       "      <td>9.879812</td>\n",
       "      <td>0.563679</td>\n",
       "      <td>0.187385</td>\n",
       "      <td>0.099764</td>\n",
       "      <td>2017.368554</td>\n",
       "      <td>55.653621</td>\n",
       "      <td>17.830250</td>\n",
       "    </tr>\n",
       "    <tr>\n",
       "      <td>std</td>\n",
       "      <td>5.681014</td>\n",
       "      <td>10.855984</td>\n",
       "      <td>35.508037</td>\n",
       "      <td>1.065997</td>\n",
       "      <td>0.215647</td>\n",
       "      <td>6.559363</td>\n",
       "      <td>22.268847</td>\n",
       "      <td>4.864826</td>\n",
       "      <td>6.073727</td>\n",
       "      <td>0.957944</td>\n",
       "      <td>...</td>\n",
       "      <td>342.886668</td>\n",
       "      <td>0.938010</td>\n",
       "      <td>277.857878</td>\n",
       "      <td>5.681014</td>\n",
       "      <td>0.104661</td>\n",
       "      <td>0.072977</td>\n",
       "      <td>0.050298</td>\n",
       "      <td>1.039776</td>\n",
       "      <td>10.125872</td>\n",
       "      <td>6.985631</td>\n",
       "    </tr>\n",
       "    <tr>\n",
       "      <td>min</td>\n",
       "      <td>0.000000</td>\n",
       "      <td>0.012190</td>\n",
       "      <td>12.000000</td>\n",
       "      <td>1.000000</td>\n",
       "      <td>2.200000</td>\n",
       "      <td>1.000000</td>\n",
       "      <td>2.000000</td>\n",
       "      <td>1.000000</td>\n",
       "      <td>1.000000</td>\n",
       "      <td>0.000000</td>\n",
       "      <td>...</td>\n",
       "      <td>1.000000</td>\n",
       "      <td>0.000000</td>\n",
       "      <td>13.000000</td>\n",
       "      <td>0.000000</td>\n",
       "      <td>0.021583</td>\n",
       "      <td>0.025381</td>\n",
       "      <td>0.000112</td>\n",
       "      <td>2014.000000</td>\n",
       "      <td>2.000000</td>\n",
       "      <td>2.000000</td>\n",
       "    </tr>\n",
       "    <tr>\n",
       "      <td>10%</td>\n",
       "      <td>2.000000</td>\n",
       "      <td>2.500000</td>\n",
       "      <td>33.000000</td>\n",
       "      <td>1.000000</td>\n",
       "      <td>2.500000</td>\n",
       "      <td>5.000000</td>\n",
       "      <td>16.000000</td>\n",
       "      <td>1.000000</td>\n",
       "      <td>6.000000</td>\n",
       "      <td>0.000000</td>\n",
       "      <td>...</td>\n",
       "      <td>158.000000</td>\n",
       "      <td>0.000000</td>\n",
       "      <td>145.000000</td>\n",
       "      <td>2.000000</td>\n",
       "      <td>0.426034</td>\n",
       "      <td>0.108929</td>\n",
       "      <td>0.055824</td>\n",
       "      <td>2016.000000</td>\n",
       "      <td>42.000000</td>\n",
       "      <td>10.000000</td>\n",
       "    </tr>\n",
       "    <tr>\n",
       "      <td>50%</td>\n",
       "      <td>9.000000</td>\n",
       "      <td>4.650000</td>\n",
       "      <td>52.000000</td>\n",
       "      <td>2.000000</td>\n",
       "      <td>2.650000</td>\n",
       "      <td>9.000000</td>\n",
       "      <td>30.000000</td>\n",
       "      <td>4.000000</td>\n",
       "      <td>9.000000</td>\n",
       "      <td>0.000000</td>\n",
       "      <td>...</td>\n",
       "      <td>453.000000</td>\n",
       "      <td>1.000000</td>\n",
       "      <td>502.000000</td>\n",
       "      <td>9.000000</td>\n",
       "      <td>0.566667</td>\n",
       "      <td>0.172414</td>\n",
       "      <td>0.095349</td>\n",
       "      <td>2017.000000</td>\n",
       "      <td>56.000000</td>\n",
       "      <td>17.000000</td>\n",
       "    </tr>\n",
       "    <tr>\n",
       "      <td>85%</td>\n",
       "      <td>17.000000</td>\n",
       "      <td>8.823200</td>\n",
       "      <td>82.000000</td>\n",
       "      <td>3.000000</td>\n",
       "      <td>2.800000</td>\n",
       "      <td>18.000000</td>\n",
       "      <td>49.000000</td>\n",
       "      <td>10.000000</td>\n",
       "      <td>14.000000</td>\n",
       "      <td>2.000000</td>\n",
       "      <td>...</td>\n",
       "      <td>694.000000</td>\n",
       "      <td>2.000000</td>\n",
       "      <td>837.000000</td>\n",
       "      <td>17.000000</td>\n",
       "      <td>0.671777</td>\n",
       "      <td>0.263158</td>\n",
       "      <td>0.128571</td>\n",
       "      <td>2018.000000</td>\n",
       "      <td>66.000000</td>\n",
       "      <td>25.000000</td>\n",
       "    </tr>\n",
       "    <tr>\n",
       "      <td>90%</td>\n",
       "      <td>19.000000</td>\n",
       "      <td>10.990000</td>\n",
       "      <td>93.000000</td>\n",
       "      <td>3.000000</td>\n",
       "      <td>3.000000</td>\n",
       "      <td>22.000000</td>\n",
       "      <td>55.000000</td>\n",
       "      <td>13.000000</td>\n",
       "      <td>16.000000</td>\n",
       "      <td>2.000000</td>\n",
       "      <td>...</td>\n",
       "      <td>762.300000</td>\n",
       "      <td>2.000000</td>\n",
       "      <td>897.000000</td>\n",
       "      <td>19.000000</td>\n",
       "      <td>0.695652</td>\n",
       "      <td>0.281250</td>\n",
       "      <td>0.139706</td>\n",
       "      <td>2019.000000</td>\n",
       "      <td>68.000000</td>\n",
       "      <td>27.000000</td>\n",
       "    </tr>\n",
       "    <tr>\n",
       "      <td>95%</td>\n",
       "      <td>20.000000</td>\n",
       "      <td>15.340000</td>\n",
       "      <td>116.000000</td>\n",
       "      <td>4.000000</td>\n",
       "      <td>3.110000</td>\n",
       "      <td>25.000000</td>\n",
       "      <td>69.000000</td>\n",
       "      <td>16.000000</td>\n",
       "      <td>20.000000</td>\n",
       "      <td>2.000000</td>\n",
       "      <td>...</td>\n",
       "      <td>967.150000</td>\n",
       "      <td>3.000000</td>\n",
       "      <td>977.150000</td>\n",
       "      <td>20.000000</td>\n",
       "      <td>0.725490</td>\n",
       "      <td>0.313480</td>\n",
       "      <td>0.161538</td>\n",
       "      <td>2019.000000</td>\n",
       "      <td>72.000000</td>\n",
       "      <td>30.000000</td>\n",
       "    </tr>\n",
       "    <tr>\n",
       "      <td>99%</td>\n",
       "      <td>20.000000</td>\n",
       "      <td>35.951364</td>\n",
       "      <td>197.000000</td>\n",
       "      <td>5.000000</td>\n",
       "      <td>3.550000</td>\n",
       "      <td>26.000000</td>\n",
       "      <td>121.000000</td>\n",
       "      <td>23.000000</td>\n",
       "      <td>36.000000</td>\n",
       "      <td>5.000000</td>\n",
       "      <td>...</td>\n",
       "      <td>2102.000000</td>\n",
       "      <td>3.000000</td>\n",
       "      <td>1159.000000</td>\n",
       "      <td>20.000000</td>\n",
       "      <td>0.788705</td>\n",
       "      <td>0.422238</td>\n",
       "      <td>0.267621</td>\n",
       "      <td>2019.000000</td>\n",
       "      <td>78.000000</td>\n",
       "      <td>41.000000</td>\n",
       "    </tr>\n",
       "    <tr>\n",
       "      <td>max</td>\n",
       "      <td>50.000000</td>\n",
       "      <td>763.000000</td>\n",
       "      <td>900.000000</td>\n",
       "      <td>19.000000</td>\n",
       "      <td>5.000000</td>\n",
       "      <td>60.000000</td>\n",
       "      <td>409.000000</td>\n",
       "      <td>33.000000</td>\n",
       "      <td>112.000000</td>\n",
       "      <td>5.000000</td>\n",
       "      <td>...</td>\n",
       "      <td>3190.000000</td>\n",
       "      <td>3.000000</td>\n",
       "      <td>1344.000000</td>\n",
       "      <td>50.000000</td>\n",
       "      <td>0.983447</td>\n",
       "      <td>0.787879</td>\n",
       "      <td>1.907500</td>\n",
       "      <td>2019.000000</td>\n",
       "      <td>100.000000</td>\n",
       "      <td>78.000000</td>\n",
       "    </tr>\n",
       "  </tbody>\n",
       "</table>\n",
       "<p>11 rows × 23 columns</p>\n",
       "</div>"
      ],
      "text/plain": [
       "       total_images    last_price    total_area         rooms  ceiling_height  \\\n",
       "count  23405.000000  23405.000000  23405.000000  23405.000000    23405.000000   \n",
       "mean       9.879812      6.554656     60.335142      2.087417        2.696308   \n",
       "std        5.681014     10.855984     35.508037      1.065997        0.215647   \n",
       "min        0.000000      0.012190     12.000000      1.000000        2.200000   \n",
       "10%        2.000000      2.500000     33.000000      1.000000        2.500000   \n",
       "50%        9.000000      4.650000     52.000000      2.000000        2.650000   \n",
       "85%       17.000000      8.823200     82.000000      3.000000        2.800000   \n",
       "90%       19.000000     10.990000     93.000000      3.000000        3.000000   \n",
       "95%       20.000000     15.340000    116.000000      4.000000        3.110000   \n",
       "99%       20.000000     35.951364    197.000000      5.000000        3.550000   \n",
       "max       50.000000    763.000000    900.000000     19.000000        5.000000   \n",
       "\n",
       "       floors_total   living_area         floor  kitchen_area       balcony  \\\n",
       "count  23405.000000  23405.000000  23405.000000  23405.000000  23405.000000   \n",
       "mean      10.632130     34.389959      5.871822     10.337236      0.587310   \n",
       "std        6.559363     22.268847      4.864826      6.073727      0.957944   \n",
       "min        1.000000      2.000000      1.000000      1.000000      0.000000   \n",
       "10%        5.000000     16.000000      1.000000      6.000000      0.000000   \n",
       "50%        9.000000     30.000000      4.000000      9.000000      0.000000   \n",
       "85%       18.000000     49.000000     10.000000     14.000000      2.000000   \n",
       "90%       22.000000     55.000000     13.000000     16.000000      2.000000   \n",
       "95%       25.000000     69.000000     16.000000     20.000000      2.000000   \n",
       "99%       26.000000    121.000000     23.000000     36.000000      5.000000   \n",
       "max       60.000000    409.000000     33.000000    112.000000      5.000000   \n",
       "\n",
       "       ...  parks_nearest  ponds_around3000  ponds_nearest  days_exposition  \\\n",
       "count  ...    8018.000000      17992.000000    8998.000000     23405.000000   \n",
       "mean   ...     490.515465          0.768842     518.281507         9.879812   \n",
       "std    ...     342.886668          0.938010     277.857878         5.681014   \n",
       "min    ...       1.000000          0.000000      13.000000         0.000000   \n",
       "10%    ...     158.000000          0.000000     145.000000         2.000000   \n",
       "50%    ...     453.000000          1.000000     502.000000         9.000000   \n",
       "85%    ...     694.000000          2.000000     837.000000        17.000000   \n",
       "90%    ...     762.300000          2.000000     897.000000        19.000000   \n",
       "95%    ...     967.150000          3.000000     977.150000        20.000000   \n",
       "99%    ...    2102.000000          3.000000    1159.000000        20.000000   \n",
       "max    ...    3190.000000          3.000000    1344.000000        50.000000   \n",
       "\n",
       "        living_part  kitchen_part  square_meter_price_mln  year_exposition  \\\n",
       "count  21525.000000  21342.000000            23405.000000     23405.000000   \n",
       "mean       0.563679      0.187385                0.099764      2017.368554   \n",
       "std        0.104661      0.072977                0.050298         1.039776   \n",
       "min        0.021583      0.025381                0.000112      2014.000000   \n",
       "10%        0.426034      0.108929                0.055824      2016.000000   \n",
       "50%        0.566667      0.172414                0.095349      2017.000000   \n",
       "85%        0.671777      0.263158                0.128571      2018.000000   \n",
       "90%        0.695652      0.281250                0.139706      2019.000000   \n",
       "95%        0.725490      0.313480                0.161538      2019.000000   \n",
       "99%        0.788705      0.422238                0.267621      2019.000000   \n",
       "max        0.983447      0.787879                1.907500      2019.000000   \n",
       "\n",
       "       living_ratio_%  kitchen_ratio_%  \n",
       "count    23405.000000     23405.000000  \n",
       "mean        55.653621        17.830250  \n",
       "std         10.125872         6.985631  \n",
       "min          2.000000         2.000000  \n",
       "10%         42.000000        10.000000  \n",
       "50%         56.000000        17.000000  \n",
       "85%         66.000000        25.000000  \n",
       "90%         68.000000        27.000000  \n",
       "95%         72.000000        30.000000  \n",
       "99%         78.000000        41.000000  \n",
       "max        100.000000        78.000000  \n",
       "\n",
       "[11 rows x 23 columns]"
      ]
     },
     "execution_count": 771,
     "metadata": {},
     "output_type": "execute_result"
    }
   ],
   "source": [
    "# Для детального изучения применим метод describe к нашему датафрейму, отдельно конкретизируем процентную детализацию\n",
    "percetnage =[.10, .85, .90, .95, .99]\n",
    "data.describe(percentiles=percetnage)"
   ]
  },
  {
   "cell_type": "code",
   "execution_count": 772,
   "metadata": {},
   "outputs": [
    {
     "data": {
      "text/plain": [
       "count    23405.000000\n",
       "mean         9.879812\n",
       "std          5.681014\n",
       "min          0.000000\n",
       "25%          6.000000\n",
       "50%          9.000000\n",
       "75%         14.000000\n",
       "max         50.000000\n",
       "Name: days_exposition, dtype: float64"
      ]
     },
     "execution_count": 772,
     "metadata": {},
     "output_type": "execute_result"
    }
   ],
   "source": [
    "# Применим метод describe к столбцу days_exposition\n",
    "data['days_exposition'].describe()"
   ]
  },
  {
   "cell_type": "code",
   "execution_count": 773,
   "metadata": {},
   "outputs": [
    {
     "data": {
      "text/plain": [
       "<matplotlib.axes._subplots.AxesSubplot at 0x7f8eec53b1d0>"
      ]
     },
     "execution_count": 773,
     "metadata": {},
     "output_type": "execute_result"
    },
    {
     "data": {
      "image/png": "[encoded data removed]",
      "text/plain": [
       "<Figure size 1080x360 with 1 Axes>"
      ]
     },
     "metadata": {
      "needs_background": "light"
     },
     "output_type": "display_data"
    }
   ],
   "source": [
    "# Построим гистограмму продолжительности пребывания обявлений на сайте\n",
    "data['days_exposition'].hist(bins=300, figsize=[15,5], range=(0,360))"
   ]
  },
  {
   "cell_type": "code",
   "execution_count": 774,
   "metadata": {},
   "outputs": [
    {
     "data": {
      "text/plain": [
       "9.879812005981627"
      ]
     },
     "execution_count": 774,
     "metadata": {},
     "output_type": "execute_result"
    }
   ],
   "source": [
    "# Подсчитаем среднюю продолжительность актуальности размещененного обявления\n",
    "data['days_exposition'].mean()"
   ]
  },
  {
   "cell_type": "code",
   "execution_count": 775,
   "metadata": {},
   "outputs": [
    {
     "data": {
      "text/plain": [
       "9.0"
      ]
     },
     "execution_count": 775,
     "metadata": {},
     "output_type": "execute_result"
    }
   ],
   "source": [
    "# Подсчитаем медиану\n",
    "data['days_exposition'].median()"
   ]
  },
  {
   "cell_type": "code",
   "execution_count": 776,
   "metadata": {},
   "outputs": [
    {
     "data": {
      "text/plain": [
       "<matplotlib.axes._subplots.AxesSubplot at 0x7f8ee9383fd0>"
      ]
     },
     "execution_count": 776,
     "metadata": {},
     "output_type": "execute_result"
    },
    {
     "data": {
      "image/png": "[encoded data removed]",
      "text/plain": [
       "<Figure size 432x288 with 1 Axes>"
      ]
     },
     "metadata": {
      "needs_background": "light"
     },
     "output_type": "display_data"
    }
   ],
   "source": [
    "data.boxplot('days_exposition')"
   ]
  },
  {
   "cell_type": "markdown",
   "metadata": {},
   "source": [
    "Общая тенденцения продолжительности размещения объявлений на дистанции в 1 год, является довольно ровной и обладет небольшой нисходящей направленностью. Подавляющая масса объявлений закрывается в первые полгода после размещения. Среднее значение составляет 168 дней, но оно зависимо от максимальных значений которые пристутствуют в данных, несущественная часть объявлений открыты по 3-4 года и оказывают влияние на среднюю продолжительность. Более показательным является значение медианы в 96 дней, именно этим значением были заменены пропуски в данном столбце, этим же объясняется всплеск на гистограмме в районе 96 дней. Всплески в районе 45 и 60 дней, менее ярковыражены и могут быть вызваны естественным стечением обстоятельств или существующей механникой окончания срока размещения платных объявлений."
   ]
  },
  {
   "cell_type": "markdown",
   "metadata": {},
   "source": [
    "#### Анализ редких и выбивающихся значений"
   ]
  },
  {
   "cell_type": "markdown",
   "metadata": {},
   "source": [
    "\"Уберите редкие и выбивающиеся значения. Опишите, какие особенности обнаружили.\""
   ]
  },
  {
   "cell_type": "code",
   "execution_count": 777,
   "metadata": {},
   "outputs": [
    {
     "data": {
      "text/plain": [
       "<matplotlib.axes._subplots.AxesSubplot at 0x7f8ee94becd0>"
      ]
     },
     "execution_count": 777,
     "metadata": {},
     "output_type": "execute_result"
    },
    {
     "data": {
      "image/png": "[encoded data removed]",
      "text/plain": [
       "<Figure size 432x288 with 1 Axes>"
      ]
     },
     "metadata": {
      "needs_background": "light"
     },
     "output_type": "display_data"
    }
   ],
   "source": [
    "# В столбце с общей площадью квартир наблюдается значительное количество аномальных значений.\n",
    "data.boxplot(column='total_area')"
   ]
  },
  {
   "cell_type": "code",
   "execution_count": 778,
   "metadata": {},
   "outputs": [
    {
     "data": {
      "text/plain": [
       "count    23405.000000\n",
       "mean        60.335142\n",
       "std         35.508037\n",
       "min         12.000000\n",
       "10%         33.000000\n",
       "50%         52.000000\n",
       "85%         82.000000\n",
       "90%         93.000000\n",
       "95%        116.000000\n",
       "99%        197.000000\n",
       "max        900.000000\n",
       "Name: total_area, dtype: float64"
      ]
     },
     "execution_count": 778,
     "metadata": {},
     "output_type": "execute_result"
    }
   ],
   "source": [
    "# Попробуем выделить аномальные значения площади недвижимости с помощью метода describe,\n",
    "# дполнительно детализируем процентную разбивку\n",
    "percetnage =[.10, .85, .90, .95, .99]\n",
    "data['total_area'].describe(percentiles=percetnage)"
   ]
  },
  {
   "cell_type": "code",
   "execution_count": 779,
   "metadata": {},
   "outputs": [],
   "source": [
    "# Согласно имющихся данных лишь 1% от всех объявлений обладал площадью свыше 197м2, можно предположить что недвижимость с большой\n",
    "# плоащдью обладает иными принципами ценообразования, соответственно дабы защитить результаты исследования от искажений выделим \n",
    "# все объявления с площадью свыше 197м2 в отдельную категорию\n",
    "data_large_area = data.query('total_area > 197')"
   ]
  },
  {
   "cell_type": "code",
   "execution_count": 780,
   "metadata": {},
   "outputs": [
    {
     "data": {
      "text/plain": [
       "<matplotlib.axes._subplots.AxesSubplot at 0x7f8eeed32a10>"
      ]
     },
     "execution_count": 780,
     "metadata": {},
     "output_type": "execute_result"
    },
    {
     "data": {
      "image/png": "[encoded data removed]",
      "text/plain": [
       "<Figure size 432x288 with 1 Axes>"
      ]
     },
     "metadata": {
      "needs_background": "light"
     },
     "output_type": "display_data"
    }
   ],
   "source": [
    "data_large_area.boxplot(column='total_area')"
   ]
  },
  {
   "cell_type": "code",
   "execution_count": 781,
   "metadata": {},
   "outputs": [],
   "source": [
    "# Оставим в датафрейме объявления с площадью меньее 197 м2\n",
    "data = data.query('total_area < 197')"
   ]
  },
  {
   "cell_type": "code",
   "execution_count": 782,
   "metadata": {},
   "outputs": [
    {
     "data": {
      "text/plain": [
       "<matplotlib.axes._subplots.AxesSubplot at 0x7f8ee955edd0>"
      ]
     },
     "execution_count": 782,
     "metadata": {},
     "output_type": "execute_result"
    },
    {
     "data": {
      "image/png": "[encoded data removed]",
      "text/plain": [
       "<Figure size 432x288 with 1 Axes>"
      ]
     },
     "metadata": {
      "needs_background": "light"
     },
     "output_type": "display_data"
    }
   ],
   "source": [
    "data.boxplot(column='total_area')"
   ]
  },
  {
   "cell_type": "markdown",
   "metadata": {},
   "source": [
    "Основное количесвто объявлений выделенных в категорию больших и обладающих площадью свыше 197м2 сосредоточено в диапазоне  от 220 до 300 м2. Среди остальных объявлений, основная масса сосредоточена в диапазоне от 40 до 70м2. "
   ]
  },
  {
   "cell_type": "code",
   "execution_count": 783,
   "metadata": {},
   "outputs": [
    {
     "data": {
      "text/plain": [
       "<matplotlib.axes._subplots.AxesSubplot at 0x7f8ee9dd83d0>"
      ]
     },
     "execution_count": 783,
     "metadata": {},
     "output_type": "execute_result"
    },
    {
     "data": {
      "image/png": "[encoded data removed]",
      "text/plain": [
       "<Figure size 432x288 with 1 Axes>"
      ]
     },
     "metadata": {
      "needs_background": "light"
     },
     "output_type": "display_data"
    }
   ],
   "source": [
    "data.boxplot(column='last_price')"
   ]
  },
  {
   "cell_type": "code",
   "execution_count": 784,
   "metadata": {},
   "outputs": [
    {
     "data": {
      "text/plain": [
       "count    23168.000000\n",
       "mean         6.035645\n",
       "std          6.194205\n",
       "min          0.012190\n",
       "10%          2.500000\n",
       "50%          4.605003\n",
       "85%          8.500000\n",
       "90%         10.500000\n",
       "95%         14.000000\n",
       "99%         27.584724\n",
       "max        330.000000\n",
       "Name: last_price, dtype: float64"
      ]
     },
     "execution_count": 784,
     "metadata": {},
     "output_type": "execute_result"
    }
   ],
   "source": [
    "# Попробуем выделить аномальные значения цены квартир с помощью метода describe, дполнительно детализируем процентную разбивку\n",
    "percetnage =[.10, .85, .90, .95, .99]\n",
    "data['last_price'].describe(percentiles=percetnage)"
   ]
  },
  {
   "cell_type": "code",
   "execution_count": 785,
   "metadata": {},
   "outputs": [],
   "source": [
    "# На основании полученых данных видно что лишь 1% квартир обладает стоимостью свыше 27.5 млн рублей,\n",
    "# выделим их в отдельную категорию\n",
    "huge_price = data.query('last_price > 27.5')"
   ]
  },
  {
   "cell_type": "code",
   "execution_count": 786,
   "metadata": {},
   "outputs": [
    {
     "data": {
      "text/plain": [
       "<matplotlib.axes._subplots.AxesSubplot at 0x7f8eeed58f10>"
      ]
     },
     "execution_count": 786,
     "metadata": {},
     "output_type": "execute_result"
    },
    {
     "data": {
      "image/png": "[encoded data removed]",
      "text/plain": [
       "<Figure size 432x288 with 1 Axes>"
      ]
     },
     "metadata": {
      "needs_background": "light"
     },
     "output_type": "display_data"
    }
   ],
   "source": [
    "huge_price.boxplot(column='last_price')"
   ]
  },
  {
   "cell_type": "code",
   "execution_count": 787,
   "metadata": {},
   "outputs": [],
   "source": [
    "# Оставим в датафрейме лишь квартиры стоимостью меньше 27.5 млн рублей\n",
    "data = data.query('last_price < 27.5')"
   ]
  },
  {
   "cell_type": "code",
   "execution_count": 788,
   "metadata": {},
   "outputs": [
    {
     "data": {
      "text/plain": [
       "<matplotlib.axes._subplots.AxesSubplot at 0x7f8ef1760390>"
      ]
     },
     "execution_count": 788,
     "metadata": {},
     "output_type": "execute_result"
    },
    {
     "data": {
      "image/png": "[encoded data removed]",
      "text/plain": [
       "<Figure size 432x288 with 1 Axes>"
      ]
     },
     "metadata": {
      "needs_background": "light"
     },
     "output_type": "display_data"
    }
   ],
   "source": [
    "data.boxplot(column='last_price')"
   ]
  },
  {
   "cell_type": "markdown",
   "metadata": {},
   "source": [
    "Среди квартир выделенных в категорию стоимостью свыше 27.5 млн рублей, основная масса предложений расположена в диапазоне от 30 до 50 млн рублей. Среди предложений стоимостью менее 27.5 млн рублей наибольшее распространение получила недвижимость в ценовой категории от 4 до 7 млн рублей."
   ]
  },
  {
   "cell_type": "code",
   "execution_count": 789,
   "metadata": {},
   "outputs": [
    {
     "data": {
      "text/plain": [
       "count    22933.00000\n",
       "mean         2.03580\n",
       "std          0.96849\n",
       "min          1.00000\n",
       "10%          1.00000\n",
       "50%          2.00000\n",
       "85%          3.00000\n",
       "90%          3.00000\n",
       "95%          4.00000\n",
       "99%          5.00000\n",
       "max         11.00000\n",
       "Name: rooms, dtype: float64"
      ]
     },
     "execution_count": 789,
     "metadata": {},
     "output_type": "execute_result"
    }
   ],
   "source": [
    "# Выделим аномальные значения количества комнат с помощью метода describe, дполнительно детализируем процентную разбивку\n",
    "percetnage =[.10, .85, .90, .95, .99]\n",
    "data['rooms'].describe(percentiles=percetnage)"
   ]
  },
  {
   "cell_type": "code",
   "execution_count": 790,
   "metadata": {},
   "outputs": [
    {
     "data": {
      "text/plain": [
       "<matplotlib.axes._subplots.AxesSubplot at 0x7f8eed250950>"
      ]
     },
     "execution_count": 790,
     "metadata": {},
     "output_type": "execute_result"
    },
    {
     "data": {
      "image/png": "[encoded data removed]",
      "text/plain": [
       "<Figure size 432x288 with 1 Axes>"
      ]
     },
     "metadata": {
      "needs_background": "light"
     },
     "output_type": "display_data"
    }
   ],
   "source": [
    "data.boxplot(column='rooms') # Благодаря исключеным ранее аномальным значениям, из столбца 'rooms' пропали 20и комнатные квартиры"
   ]
  },
  {
   "cell_type": "markdown",
   "metadata": {},
   "source": [
    "Можно сделать вывод что лишь 1% от общего числа объявлений имеет количество комнат свыше 5, аномальные значания в виде недвижимости с количеством комнат больше 11и исчезли в результате отсечения аномальных значений в столбцах с общей площадью и ценой. Среди оставшихся предложений, наибольшее распространение получили объявления с числом комнат от 1-3, что соответсвтует выводам сформулированым ранее."
   ]
  },
  {
   "cell_type": "markdown",
   "metadata": {},
   "source": [
    "#### Исследование факторов, влияющих на стоимость квартиры"
   ]
  },
  {
   "cell_type": "markdown",
   "metadata": {},
   "source": [
    "Найдем ответ на вопрос \"Какие факторы больше всего влияют на стоимость квартиры? Изучите, зависит ли цена от квадратного метра, числа комнат, этажа (первого или последнего), удалённости от центра. Также изучите зависимость от даты размещения: дня недели, месяца и года. "
   ]
  },
  {
   "cell_type": "code",
   "execution_count": 791,
   "metadata": {},
   "outputs": [
    {
     "data": {
      "text/plain": [
       "<matplotlib.axes._subplots.AxesSubplot at 0x7f8eed244250>"
      ]
     },
     "execution_count": 791,
     "metadata": {},
     "output_type": "execute_result"
    },
    {
     "data": {
      "image/png": "[encoded data removed]",
      "text/plain": [
       "<Figure size 1440x504 with 1 Axes>"
      ]
     },
     "metadata": {
      "needs_background": "light"
     },
     "output_type": "display_data"
    }
   ],
   "source": [
    "# Визуалируем зависимость цены недвижимости от общей площади\n",
    "data.plot(x='last_price', y='total_area',\n",
    "style='o', xlim=(0, 27.5), ylim=(0, 250), figsize=(20, 7), grid=True)"
   ]
  },
  {
   "cell_type": "code",
   "execution_count": 792,
   "metadata": {},
   "outputs": [
    {
     "data": {
      "text/plain": [
       "<matplotlib.axes._subplots.AxesSubplot at 0x7f8eecb22610>"
      ]
     },
     "execution_count": 792,
     "metadata": {},
     "output_type": "execute_result"
    },
    {
     "data": {
      "image/png": "[encoded data removed]",
      "text/plain": [
       "<Figure size 1440x504 with 1 Axes>"
      ]
     },
     "metadata": {
      "needs_background": "light"
     },
     "output_type": "display_data"
    }
   ],
   "source": [
    "# Визуалируем зависимость цены недвижимости от жилой площади\n",
    "data.plot(x='last_price', y='living_ratio_%',\n",
    "style='o', xlim=(0, 27.5), ylim=(0, 120), figsize=(20, 7), grid=True)"
   ]
  },
  {
   "cell_type": "code",
   "execution_count": 793,
   "metadata": {
    "scrolled": false
   },
   "outputs": [
    {
     "data": {
      "text/plain": [
       "<matplotlib.axes._subplots.AxesSubplot at 0x7f8ee9895090>"
      ]
     },
     "execution_count": 793,
     "metadata": {},
     "output_type": "execute_result"
    },
    {
     "data": {
      "image/png": "[encoded data removed]",
      "text/plain": [
       "<Figure size 1440x504 with 1 Axes>"
      ]
     },
     "metadata": {
      "needs_background": "light"
     },
     "output_type": "display_data"
    }
   ],
   "source": [
    "# Визуалируем зависимость цены недвижимости от площади кухонных помещений\n",
    "data.plot(x='last_price', y='kitchen_ratio_%',\n",
    "style='o', xlim=(0, 27.5), ylim=(0, 100), figsize=(20, 7), grid=True)"
   ]
  },
  {
   "cell_type": "code",
   "execution_count": 794,
   "metadata": {},
   "outputs": [],
   "source": [
    "# На основе сформированых графиков можно сделать вывод о том что, присутствует прямая зависимость цены недвижимости от ее площади \n",
    "# зависимость же стоиомсти недвижимости от площади жилых и кухонных помещений намного менее очевидна"
   ]
  },
  {
   "cell_type": "code",
   "execution_count": 795,
   "metadata": {},
   "outputs": [
    {
     "data": {
      "text/html": [
       "<div>\n",
       "<style scoped>\n",
       "    .dataframe tbody tr th:only-of-type {\n",
       "        vertical-align: middle;\n",
       "    }\n",
       "\n",
       "    .dataframe tbody tr th {\n",
       "        vertical-align: top;\n",
       "    }\n",
       "\n",
       "    .dataframe thead th {\n",
       "        text-align: right;\n",
       "    }\n",
       "</style>\n",
       "<table border=\"1\" class=\"dataframe\">\n",
       "  <thead>\n",
       "    <tr style=\"text-align: right;\">\n",
       "      <th></th>\n",
       "      <th>last_price</th>\n",
       "    </tr>\n",
       "    <tr>\n",
       "      <th>rooms</th>\n",
       "      <th></th>\n",
       "    </tr>\n",
       "  </thead>\n",
       "  <tbody>\n",
       "    <tr>\n",
       "      <td>1</td>\n",
       "      <td>3.804936</td>\n",
       "    </tr>\n",
       "    <tr>\n",
       "      <td>2</td>\n",
       "      <td>5.446542</td>\n",
       "    </tr>\n",
       "    <tr>\n",
       "      <td>3</td>\n",
       "      <td>7.291587</td>\n",
       "    </tr>\n",
       "    <tr>\n",
       "      <td>4</td>\n",
       "      <td>9.911708</td>\n",
       "    </tr>\n",
       "    <tr>\n",
       "      <td>5</td>\n",
       "      <td>12.309263</td>\n",
       "    </tr>\n",
       "    <tr>\n",
       "      <td>6</td>\n",
       "      <td>13.994505</td>\n",
       "    </tr>\n",
       "    <tr>\n",
       "      <td>7</td>\n",
       "      <td>17.138235</td>\n",
       "    </tr>\n",
       "    <tr>\n",
       "      <td>8</td>\n",
       "      <td>19.145000</td>\n",
       "    </tr>\n",
       "    <tr>\n",
       "      <td>11</td>\n",
       "      <td>17.500000</td>\n",
       "    </tr>\n",
       "  </tbody>\n",
       "</table>\n",
       "</div>"
      ],
      "text/plain": [
       "       last_price\n",
       "rooms            \n",
       "1        3.804936\n",
       "2        5.446542\n",
       "3        7.291587\n",
       "4        9.911708\n",
       "5       12.309263\n",
       "6       13.994505\n",
       "7       17.138235\n",
       "8       19.145000\n",
       "11      17.500000"
      ]
     },
     "execution_count": 795,
     "metadata": {},
     "output_type": "execute_result"
    }
   ],
   "source": [
    "# Сформируем сводную таблицу отражающую зависимость между стоимостью недвижимости и числом комнат\n",
    "data.pivot_table(index='rooms',values='last_price',aggfunc='mean')"
   ]
  },
  {
   "cell_type": "code",
   "execution_count": 796,
   "metadata": {},
   "outputs": [
    {
     "data": {
      "text/plain": [
       "<matplotlib.axes._subplots.AxesSubplot at 0x7f8eeddf2810>"
      ]
     },
     "execution_count": 796,
     "metadata": {},
     "output_type": "execute_result"
    },
    {
     "data": {
      "image/png": "[encoded data removed]",
      "text/plain": [
       "<Figure size 1440x504 with 1 Axes>"
      ]
     },
     "metadata": {
      "needs_background": "light"
     },
     "output_type": "display_data"
    }
   ],
   "source": [
    "# Сводная таблица дает достаточно наглядное понимание того какое влияние количество комнат оказывает на стоимость недвижимости\n",
    "# Можно выделить даже шаг удорожания квартир который составляет около 1.5 млн рублей за каждую комнату, завимисоть прослеживается\n",
    "# вплодь до 4х комнатных квартир \n",
    "data.plot(x='last_price', y='rooms',\n",
    "style='o', xlim=(0, 27.5), ylim=(0, 8), figsize=(20, 7), grid=True)"
   ]
  },
  {
   "cell_type": "code",
   "execution_count": 797,
   "metadata": {},
   "outputs": [
    {
     "data": {
      "text/html": [
       "<div>\n",
       "<style scoped>\n",
       "    .dataframe tbody tr th:only-of-type {\n",
       "        vertical-align: middle;\n",
       "    }\n",
       "\n",
       "    .dataframe tbody tr th {\n",
       "        vertical-align: top;\n",
       "    }\n",
       "\n",
       "    .dataframe thead th {\n",
       "        text-align: right;\n",
       "    }\n",
       "</style>\n",
       "<table border=\"1\" class=\"dataframe\">\n",
       "  <thead>\n",
       "    <tr style=\"text-align: right;\">\n",
       "      <th></th>\n",
       "      <th>last_price</th>\n",
       "    </tr>\n",
       "    <tr>\n",
       "      <th>floor_type</th>\n",
       "      <th></th>\n",
       "    </tr>\n",
       "  </thead>\n",
       "  <tbody>\n",
       "    <tr>\n",
       "      <td>Другой</td>\n",
       "      <td>5.881377</td>\n",
       "    </tr>\n",
       "    <tr>\n",
       "      <td>Первый</td>\n",
       "      <td>4.505539</td>\n",
       "    </tr>\n",
       "    <tr>\n",
       "      <td>Последний</td>\n",
       "      <td>5.377143</td>\n",
       "    </tr>\n",
       "  </tbody>\n",
       "</table>\n",
       "</div>"
      ],
      "text/plain": [
       "            last_price\n",
       "floor_type            \n",
       "Другой        5.881377\n",
       "Первый        4.505539\n",
       "Последний     5.377143"
      ]
     },
     "execution_count": 797,
     "metadata": {},
     "output_type": "execute_result"
    }
   ],
   "source": [
    "# Сформируем сводную таблицу отражающую зависимость цены недвижимости от этажа ее расположения.\n",
    "data.pivot_table(index='floor_type',values='last_price',aggfunc='mean')"
   ]
  },
  {
   "cell_type": "code",
   "execution_count": 798,
   "metadata": {},
   "outputs": [],
   "source": [
    "# На основании сводной таблицы можно сделать вывод о том что, недвижимость расположеная на первом этаже существенно дешевле, \n",
    "# недвижимости расположено на иных этажах"
   ]
  },
  {
   "cell_type": "code",
   "execution_count": 799,
   "metadata": {},
   "outputs": [],
   "source": [
    "data['city_centers_nearest_km'] = data['city_centers_nearest'] / 1000"
   ]
  },
  {
   "cell_type": "code",
   "execution_count": 800,
   "metadata": {},
   "outputs": [],
   "source": [
    "data['city_centers_nearest_km'] = data['city_centers_nearest_km'].astype('int')"
   ]
  },
  {
   "cell_type": "code",
   "execution_count": 801,
   "metadata": {},
   "outputs": [
    {
     "data": {
      "text/plain": [
       "<matplotlib.axes._subplots.AxesSubplot at 0x7f8ee9532c90>"
      ]
     },
     "execution_count": 801,
     "metadata": {},
     "output_type": "execute_result"
    },
    {
     "data": {
      "image/png": "[encoded data removed]",
      "text/plain": [
       "<Figure size 1080x360 with 1 Axes>"
      ]
     },
     "metadata": {
      "needs_background": "light"
     },
     "output_type": "display_data"
    }
   ],
   "source": [
    "# Визуализируем на графике зависимость между ценой недвижимости и ее удалением от центра\n",
    "data.plot(x='last_price', y='city_centers_nearest_km', title='Зависимость цены от удаленности от центра',\n",
    "style='o', xlim=(0, 35), ylim=(0, 80), figsize=(15, 5), grid=True)"
   ]
  },
  {
   "cell_type": "code",
   "execution_count": 802,
   "metadata": {},
   "outputs": [],
   "source": [
    "# На данном графике прослеживается существенное снижение стоимости квартир на отдолении от центра в более чем 8 километров \n",
    "# из чего можно сделать можно сделать вывод о том что эффект \"центра\"  существенно влияющий на стоимость недвижимости, \n",
    "# начинает серьезно ослабевать при уделании от центра более чем на 8 километров."
   ]
  },
  {
   "cell_type": "code",
   "execution_count": 803,
   "metadata": {},
   "outputs": [
    {
     "data": {
      "text/html": [
       "<div>\n",
       "<style scoped>\n",
       "    .dataframe tbody tr th:only-of-type {\n",
       "        vertical-align: middle;\n",
       "    }\n",
       "\n",
       "    .dataframe tbody tr th {\n",
       "        vertical-align: top;\n",
       "    }\n",
       "\n",
       "    .dataframe thead th {\n",
       "        text-align: right;\n",
       "    }\n",
       "</style>\n",
       "<table border=\"1\" class=\"dataframe\">\n",
       "  <thead>\n",
       "    <tr style=\"text-align: right;\">\n",
       "      <th></th>\n",
       "      <th>last_price</th>\n",
       "    </tr>\n",
       "    <tr>\n",
       "      <th>day_name_exposition</th>\n",
       "      <th></th>\n",
       "    </tr>\n",
       "  </thead>\n",
       "  <tbody>\n",
       "    <tr>\n",
       "      <td>Friday</td>\n",
       "      <td>5.580186</td>\n",
       "    </tr>\n",
       "    <tr>\n",
       "      <td>Monday</td>\n",
       "      <td>5.668213</td>\n",
       "    </tr>\n",
       "    <tr>\n",
       "      <td>Saturday</td>\n",
       "      <td>5.393982</td>\n",
       "    </tr>\n",
       "    <tr>\n",
       "      <td>Sunday</td>\n",
       "      <td>5.469581</td>\n",
       "    </tr>\n",
       "    <tr>\n",
       "      <td>Thursday</td>\n",
       "      <td>5.756855</td>\n",
       "    </tr>\n",
       "    <tr>\n",
       "      <td>Tuesday</td>\n",
       "      <td>5.678822</td>\n",
       "    </tr>\n",
       "    <tr>\n",
       "      <td>Wednesday</td>\n",
       "      <td>5.689753</td>\n",
       "    </tr>\n",
       "  </tbody>\n",
       "</table>\n",
       "</div>"
      ],
      "text/plain": [
       "                     last_price\n",
       "day_name_exposition            \n",
       "Friday                 5.580186\n",
       "Monday                 5.668213\n",
       "Saturday               5.393982\n",
       "Sunday                 5.469581\n",
       "Thursday               5.756855\n",
       "Tuesday                5.678822\n",
       "Wednesday              5.689753"
      ]
     },
     "execution_count": 803,
     "metadata": {},
     "output_type": "execute_result"
    }
   ],
   "source": [
    "# Для опреденлия зависимости стоимости недвижимости от дня недели размещения объявления построим сводную таблицу\n",
    "data.pivot_table(index='day_name_exposition',values='last_price',aggfunc='mean')"
   ]
  },
  {
   "cell_type": "code",
   "execution_count": 804,
   "metadata": {},
   "outputs": [
    {
     "data": {
      "text/html": [
       "<div>\n",
       "<style scoped>\n",
       "    .dataframe tbody tr th:only-of-type {\n",
       "        vertical-align: middle;\n",
       "    }\n",
       "\n",
       "    .dataframe tbody tr th {\n",
       "        vertical-align: top;\n",
       "    }\n",
       "\n",
       "    .dataframe thead th {\n",
       "        text-align: right;\n",
       "    }\n",
       "</style>\n",
       "<table border=\"1\" class=\"dataframe\">\n",
       "  <thead>\n",
       "    <tr style=\"text-align: right;\">\n",
       "      <th></th>\n",
       "      <th>last_price</th>\n",
       "    </tr>\n",
       "    <tr>\n",
       "      <th>month_name_exposition</th>\n",
       "      <th></th>\n",
       "    </tr>\n",
       "  </thead>\n",
       "  <tbody>\n",
       "    <tr>\n",
       "      <td>April</td>\n",
       "      <td>5.704180</td>\n",
       "    </tr>\n",
       "    <tr>\n",
       "      <td>August</td>\n",
       "      <td>5.606914</td>\n",
       "    </tr>\n",
       "    <tr>\n",
       "      <td>December</td>\n",
       "      <td>5.672265</td>\n",
       "    </tr>\n",
       "    <tr>\n",
       "      <td>February</td>\n",
       "      <td>5.639209</td>\n",
       "    </tr>\n",
       "    <tr>\n",
       "      <td>January</td>\n",
       "      <td>5.667477</td>\n",
       "    </tr>\n",
       "    <tr>\n",
       "      <td>July</td>\n",
       "      <td>5.659322</td>\n",
       "    </tr>\n",
       "    <tr>\n",
       "      <td>June</td>\n",
       "      <td>5.380823</td>\n",
       "    </tr>\n",
       "    <tr>\n",
       "      <td>March</td>\n",
       "      <td>5.606764</td>\n",
       "    </tr>\n",
       "    <tr>\n",
       "      <td>May</td>\n",
       "      <td>5.588177</td>\n",
       "    </tr>\n",
       "    <tr>\n",
       "      <td>November</td>\n",
       "      <td>5.728064</td>\n",
       "    </tr>\n",
       "    <tr>\n",
       "      <td>October</td>\n",
       "      <td>5.565794</td>\n",
       "    </tr>\n",
       "    <tr>\n",
       "      <td>September</td>\n",
       "      <td>5.790017</td>\n",
       "    </tr>\n",
       "  </tbody>\n",
       "</table>\n",
       "</div>"
      ],
      "text/plain": [
       "                       last_price\n",
       "month_name_exposition            \n",
       "April                    5.704180\n",
       "August                   5.606914\n",
       "December                 5.672265\n",
       "February                 5.639209\n",
       "January                  5.667477\n",
       "July                     5.659322\n",
       "June                     5.380823\n",
       "March                    5.606764\n",
       "May                      5.588177\n",
       "November                 5.728064\n",
       "October                  5.565794\n",
       "September                5.790017"
      ]
     },
     "execution_count": 804,
     "metadata": {},
     "output_type": "execute_result"
    }
   ],
   "source": [
    "# Для опреденлия зависимости стоимости недвижимости от месяца размещения объявления построим сводную таблицу\n",
    "data.pivot_table(index='month_name_exposition',values='last_price',aggfunc='mean')"
   ]
  },
  {
   "cell_type": "code",
   "execution_count": 805,
   "metadata": {},
   "outputs": [
    {
     "data": {
      "text/html": [
       "<div>\n",
       "<style scoped>\n",
       "    .dataframe tbody tr th:only-of-type {\n",
       "        vertical-align: middle;\n",
       "    }\n",
       "\n",
       "    .dataframe tbody tr th {\n",
       "        vertical-align: top;\n",
       "    }\n",
       "\n",
       "    .dataframe thead th {\n",
       "        text-align: right;\n",
       "    }\n",
       "</style>\n",
       "<table border=\"1\" class=\"dataframe\">\n",
       "  <thead>\n",
       "    <tr style=\"text-align: right;\">\n",
       "      <th></th>\n",
       "      <th>last_price</th>\n",
       "    </tr>\n",
       "    <tr>\n",
       "      <th>year_exposition</th>\n",
       "      <th></th>\n",
       "    </tr>\n",
       "  </thead>\n",
       "  <tbody>\n",
       "    <tr>\n",
       "      <td>2014</td>\n",
       "      <td>9.206851</td>\n",
       "    </tr>\n",
       "    <tr>\n",
       "      <td>2015</td>\n",
       "      <td>6.459472</td>\n",
       "    </tr>\n",
       "    <tr>\n",
       "      <td>2016</td>\n",
       "      <td>5.572861</td>\n",
       "    </tr>\n",
       "    <tr>\n",
       "      <td>2017</td>\n",
       "      <td>5.558469</td>\n",
       "    </tr>\n",
       "    <tr>\n",
       "      <td>2018</td>\n",
       "      <td>5.469817</td>\n",
       "    </tr>\n",
       "    <tr>\n",
       "      <td>2019</td>\n",
       "      <td>5.938095</td>\n",
       "    </tr>\n",
       "  </tbody>\n",
       "</table>\n",
       "</div>"
      ],
      "text/plain": [
       "                 last_price\n",
       "year_exposition            \n",
       "2014               9.206851\n",
       "2015               6.459472\n",
       "2016               5.572861\n",
       "2017               5.558469\n",
       "2018               5.469817\n",
       "2019               5.938095"
      ]
     },
     "execution_count": 805,
     "metadata": {},
     "output_type": "execute_result"
    }
   ],
   "source": [
    "# Для опреденлия зависимости стоимости недвижимости от года размещения объявления построим сводную таблицу\n",
    "data.pivot_table(index='year_exposition',values='last_price',aggfunc='mean')"
   ]
  },
  {
   "cell_type": "code",
   "execution_count": 806,
   "metadata": {},
   "outputs": [],
   "source": [
    "# Зависимость цены недвижимости от дня недели размещения объявления, не прослеживается, разброс значений крайне незначителен \n",
    "# и не превышает среднестатистической погрешности.\n",
    "# Зависимость цены недвижимости от того в каком месяце размещено объявление, присутствует, но явный эффект можно выделить в \n",
    "# июне, здесь обнаружено снижение средней стоимости размещенных объявлений до 5.3 млн рублей, а так же можно выделить повышение  \n",
    "# средней стоимости размещенных объявлений до 5.79 млн рублей в сентябре.\n",
    "# Удалось проследить существенную зависимость цены размещенной недвижимости от года размещения объявления, так в 2014 году средняя \n",
    "# стоимость размещенной недвижимости составляла 9.2 млн рублей, в последующие годы это значание существенно снизилось. Данный факт \n",
    "# можно объяснить повышением распространенности сервиса среди наиболее массовой категории пользоватлей после 2014 года и как соедствие \n",
    "# снижения средней стоимости размещаемой недвжимости, а так же можно связать с кризисными являениями 2014 года."
   ]
  },
  {
   "cell_type": "markdown",
   "metadata": {},
   "source": [
    "#### Анализ десяти населённых пунктов с наибольшим числом объявлений"
   ]
  },
  {
   "cell_type": "markdown",
   "metadata": {},
   "source": [
    "Решим поставленную задачу \"Выберите 10 населённых пунктов с наибольшим числом объявлений. Посчитайте среднюю цену квадратного метра в этих населённых пунктах. Выделите населённые пункты с самой высокой и низкой стоимостью жилья. Эти данные можно найти по имени в столбце '*locality_name'*. \""
   ]
  },
  {
   "cell_type": "code",
   "execution_count": 807,
   "metadata": {},
   "outputs": [],
   "source": [
    "# Сохраним в переменную names и выведем названия 10 населенных пунктов с наибольшим числом объявлений\n",
    "names = data['locality_name'].value_counts().head(10)"
   ]
  },
  {
   "cell_type": "code",
   "execution_count": 808,
   "metadata": {},
   "outputs": [
    {
     "name": "stdout",
     "output_type": "stream",
     "text": [
      "Санкт-Петербург      15129\n",
      "поселок Мурино         528\n",
      "поселок Шушары         436\n",
      "Всеволожск             391\n",
      "Пушкин                 363\n",
      "Колпино                337\n",
      "поселок Парголово      322\n",
      "Гатчина                306\n",
      "деревня Кудрово        283\n",
      "Выборг                 235\n",
      "Name: locality_name, dtype: int64\n"
     ]
    }
   ],
   "source": [
    "print(names)"
   ]
  },
  {
   "cell_type": "code",
   "execution_count": 809,
   "metadata": {},
   "outputs": [],
   "source": [
    "# Сохраним в переменной names_big названия 10 населнных пунктов с самым большим числом объявлений\n",
    "names_big = (['Санкт-Петербург', 'поселок Мурино', 'поселок Шушары', 'Всеволожск', 'Пушкин',\n",
    "              'Колпино', 'поселок Парголово', 'Гатчина', 'деревня Кудрово', 'Выборг'])"
   ]
  },
  {
   "cell_type": "code",
   "execution_count": 810,
   "metadata": {},
   "outputs": [
    {
     "name": "stdout",
     "output_type": "stream",
     "text": [
      "['Санкт-Петербург', 'поселок Мурино', 'поселок Шушары', 'Всеволожск', 'Пушкин', 'Колпино', 'поселок Парголово', 'Гатчина', 'деревня Кудрово', 'Выборг']\n"
     ]
    }
   ],
   "source": [
    "print(names_big)"
   ]
  },
  {
   "cell_type": "code",
   "execution_count": 811,
   "metadata": {},
   "outputs": [],
   "source": [
    "# Сохраним в переменной top10_data данные всех объявлений размещенных в топ 10 населнных пунктов с самым большим числом объявлений\n",
    "top10_data = data.query('locality_name in @names_big')"
   ]
  },
  {
   "cell_type": "code",
   "execution_count": 812,
   "metadata": {},
   "outputs": [
    {
     "data": {
      "text/html": [
       "<div>\n",
       "<style scoped>\n",
       "    .dataframe tbody tr th:only-of-type {\n",
       "        vertical-align: middle;\n",
       "    }\n",
       "\n",
       "    .dataframe tbody tr th {\n",
       "        vertical-align: top;\n",
       "    }\n",
       "\n",
       "    .dataframe thead th {\n",
       "        text-align: right;\n",
       "    }\n",
       "</style>\n",
       "<table border=\"1\" class=\"dataframe\">\n",
       "  <thead>\n",
       "    <tr style=\"text-align: right;\">\n",
       "      <th></th>\n",
       "      <th>total_images</th>\n",
       "      <th>last_price</th>\n",
       "      <th>total_area</th>\n",
       "      <th>rooms</th>\n",
       "      <th>ceiling_height</th>\n",
       "      <th>floors_total</th>\n",
       "      <th>living_area</th>\n",
       "      <th>floor</th>\n",
       "      <th>kitchen_area</th>\n",
       "      <th>balcony</th>\n",
       "      <th>...</th>\n",
       "      <th>ponds_around3000</th>\n",
       "      <th>ponds_nearest</th>\n",
       "      <th>days_exposition</th>\n",
       "      <th>living_part</th>\n",
       "      <th>kitchen_part</th>\n",
       "      <th>square_meter_price_mln</th>\n",
       "      <th>year_exposition</th>\n",
       "      <th>living_ratio_%</th>\n",
       "      <th>kitchen_ratio_%</th>\n",
       "      <th>city_centers_nearest_km</th>\n",
       "    </tr>\n",
       "  </thead>\n",
       "  <tbody>\n",
       "    <tr>\n",
       "      <td>count</td>\n",
       "      <td>18330.000000</td>\n",
       "      <td>18330.000000</td>\n",
       "      <td>18330.000000</td>\n",
       "      <td>18330.000000</td>\n",
       "      <td>18330.000000</td>\n",
       "      <td>18330.000000</td>\n",
       "      <td>18330.000000</td>\n",
       "      <td>18330.000000</td>\n",
       "      <td>18330.000000</td>\n",
       "      <td>18330.00000</td>\n",
       "      <td>...</td>\n",
       "      <td>16535.000000</td>\n",
       "      <td>8137.000000</td>\n",
       "      <td>18330.000000</td>\n",
       "      <td>16975.000000</td>\n",
       "      <td>16783.000000</td>\n",
       "      <td>18330.000000</td>\n",
       "      <td>18330.000000</td>\n",
       "      <td>18330.000000</td>\n",
       "      <td>18330.000000</td>\n",
       "      <td>18330.000000</td>\n",
       "    </tr>\n",
       "    <tr>\n",
       "      <td>mean</td>\n",
       "      <td>9.946372</td>\n",
       "      <td>6.287890</td>\n",
       "      <td>58.892580</td>\n",
       "      <td>2.060993</td>\n",
       "      <td>2.702962</td>\n",
       "      <td>11.615712</td>\n",
       "      <td>33.425041</td>\n",
       "      <td>6.353628</td>\n",
       "      <td>10.345336</td>\n",
       "      <td>0.59509</td>\n",
       "      <td>...</td>\n",
       "      <td>0.734805</td>\n",
       "      <td>526.702470</td>\n",
       "      <td>9.946372</td>\n",
       "      <td>0.560339</td>\n",
       "      <td>0.190528</td>\n",
       "      <td>0.105469</td>\n",
       "      <td>2017.350191</td>\n",
       "      <td>55.342717</td>\n",
       "      <td>18.125586</td>\n",
       "      <td>11.318385</td>\n",
       "    </tr>\n",
       "    <tr>\n",
       "      <td>std</td>\n",
       "      <td>5.677073</td>\n",
       "      <td>3.806161</td>\n",
       "      <td>25.951868</td>\n",
       "      <td>0.991970</td>\n",
       "      <td>0.213821</td>\n",
       "      <td>6.658834</td>\n",
       "      <td>17.265706</td>\n",
       "      <td>5.102527</td>\n",
       "      <td>5.216812</td>\n",
       "      <td>0.96693</td>\n",
       "      <td>...</td>\n",
       "      <td>0.908414</td>\n",
       "      <td>278.177368</td>\n",
       "      <td>5.677073</td>\n",
       "      <td>0.104833</td>\n",
       "      <td>0.073661</td>\n",
       "      <td>0.030951</td>\n",
       "      <td>1.038963</td>\n",
       "      <td>10.174218</td>\n",
       "      <td>7.069188</td>\n",
       "      <td>7.086405</td>\n",
       "    </tr>\n",
       "    <tr>\n",
       "      <td>min</td>\n",
       "      <td>0.000000</td>\n",
       "      <td>0.012190</td>\n",
       "      <td>12.000000</td>\n",
       "      <td>1.000000</td>\n",
       "      <td>2.300000</td>\n",
       "      <td>1.000000</td>\n",
       "      <td>2.000000</td>\n",
       "      <td>1.000000</td>\n",
       "      <td>1.000000</td>\n",
       "      <td>0.00000</td>\n",
       "      <td>...</td>\n",
       "      <td>0.000000</td>\n",
       "      <td>13.000000</td>\n",
       "      <td>0.000000</td>\n",
       "      <td>0.038462</td>\n",
       "      <td>0.026151</td>\n",
       "      <td>0.000112</td>\n",
       "      <td>2014.000000</td>\n",
       "      <td>3.000000</td>\n",
       "      <td>2.000000</td>\n",
       "      <td>0.000000</td>\n",
       "    </tr>\n",
       "    <tr>\n",
       "      <td>25%</td>\n",
       "      <td>6.000000</td>\n",
       "      <td>3.900000</td>\n",
       "      <td>40.000000</td>\n",
       "      <td>1.000000</td>\n",
       "      <td>2.600000</td>\n",
       "      <td>5.000000</td>\n",
       "      <td>19.000000</td>\n",
       "      <td>3.000000</td>\n",
       "      <td>7.000000</td>\n",
       "      <td>0.00000</td>\n",
       "      <td>...</td>\n",
       "      <td>0.000000</td>\n",
       "      <td>303.000000</td>\n",
       "      <td>6.000000</td>\n",
       "      <td>0.490128</td>\n",
       "      <td>0.135407</td>\n",
       "      <td>0.086154</td>\n",
       "      <td>2017.000000</td>\n",
       "      <td>50.000000</td>\n",
       "      <td>13.000000</td>\n",
       "      <td>6.000000</td>\n",
       "    </tr>\n",
       "    <tr>\n",
       "      <td>50%</td>\n",
       "      <td>10.000000</td>\n",
       "      <td>5.100000</td>\n",
       "      <td>53.000000</td>\n",
       "      <td>2.000000</td>\n",
       "      <td>2.650000</td>\n",
       "      <td>9.000000</td>\n",
       "      <td>30.000000</td>\n",
       "      <td>5.000000</td>\n",
       "      <td>9.000000</td>\n",
       "      <td>0.00000</td>\n",
       "      <td>...</td>\n",
       "      <td>0.000000</td>\n",
       "      <td>515.000000</td>\n",
       "      <td>10.000000</td>\n",
       "      <td>0.563452</td>\n",
       "      <td>0.175439</td>\n",
       "      <td>0.100000</td>\n",
       "      <td>2017.000000</td>\n",
       "      <td>56.000000</td>\n",
       "      <td>17.000000</td>\n",
       "      <td>12.000000</td>\n",
       "    </tr>\n",
       "    <tr>\n",
       "      <td>75%</td>\n",
       "      <td>14.000000</td>\n",
       "      <td>7.250000</td>\n",
       "      <td>70.000000</td>\n",
       "      <td>3.000000</td>\n",
       "      <td>2.700000</td>\n",
       "      <td>16.000000</td>\n",
       "      <td>42.000000</td>\n",
       "      <td>9.000000</td>\n",
       "      <td>12.000000</td>\n",
       "      <td>1.00000</td>\n",
       "      <td>...</td>\n",
       "      <td>1.000000</td>\n",
       "      <td>741.000000</td>\n",
       "      <td>14.000000</td>\n",
       "      <td>0.634048</td>\n",
       "      <td>0.236842</td>\n",
       "      <td>0.118750</td>\n",
       "      <td>2018.000000</td>\n",
       "      <td>62.000000</td>\n",
       "      <td>22.000000</td>\n",
       "      <td>15.000000</td>\n",
       "    </tr>\n",
       "    <tr>\n",
       "      <td>max</td>\n",
       "      <td>50.000000</td>\n",
       "      <td>27.420000</td>\n",
       "      <td>196.000000</td>\n",
       "      <td>11.000000</td>\n",
       "      <td>4.800000</td>\n",
       "      <td>52.000000</td>\n",
       "      <td>164.000000</td>\n",
       "      <td>33.000000</td>\n",
       "      <td>65.000000</td>\n",
       "      <td>5.00000</td>\n",
       "      <td>...</td>\n",
       "      <td>3.000000</td>\n",
       "      <td>1337.000000</td>\n",
       "      <td>50.000000</td>\n",
       "      <td>0.983447</td>\n",
       "      <td>0.787879</td>\n",
       "      <td>0.642445</td>\n",
       "      <td>2019.000000</td>\n",
       "      <td>100.000000</td>\n",
       "      <td>78.000000</td>\n",
       "      <td>37.000000</td>\n",
       "    </tr>\n",
       "  </tbody>\n",
       "</table>\n",
       "<p>8 rows × 24 columns</p>\n",
       "</div>"
      ],
      "text/plain": [
       "       total_images    last_price    total_area         rooms  ceiling_height  \\\n",
       "count  18330.000000  18330.000000  18330.000000  18330.000000    18330.000000   \n",
       "mean       9.946372      6.287890     58.892580      2.060993        2.702962   \n",
       "std        5.677073      3.806161     25.951868      0.991970        0.213821   \n",
       "min        0.000000      0.012190     12.000000      1.000000        2.300000   \n",
       "25%        6.000000      3.900000     40.000000      1.000000        2.600000   \n",
       "50%       10.000000      5.100000     53.000000      2.000000        2.650000   \n",
       "75%       14.000000      7.250000     70.000000      3.000000        2.700000   \n",
       "max       50.000000     27.420000    196.000000     11.000000        4.800000   \n",
       "\n",
       "       floors_total   living_area         floor  kitchen_area      balcony  \\\n",
       "count  18330.000000  18330.000000  18330.000000  18330.000000  18330.00000   \n",
       "mean      11.615712     33.425041      6.353628     10.345336      0.59509   \n",
       "std        6.658834     17.265706      5.102527      5.216812      0.96693   \n",
       "min        1.000000      2.000000      1.000000      1.000000      0.00000   \n",
       "25%        5.000000     19.000000      3.000000      7.000000      0.00000   \n",
       "50%        9.000000     30.000000      5.000000      9.000000      0.00000   \n",
       "75%       16.000000     42.000000      9.000000     12.000000      1.00000   \n",
       "max       52.000000    164.000000     33.000000     65.000000      5.00000   \n",
       "\n",
       "       ...  ponds_around3000  ponds_nearest  days_exposition   living_part  \\\n",
       "count  ...      16535.000000    8137.000000     18330.000000  16975.000000   \n",
       "mean   ...          0.734805     526.702470         9.946372      0.560339   \n",
       "std    ...          0.908414     278.177368         5.677073      0.104833   \n",
       "min    ...          0.000000      13.000000         0.000000      0.038462   \n",
       "25%    ...          0.000000     303.000000         6.000000      0.490128   \n",
       "50%    ...          0.000000     515.000000        10.000000      0.563452   \n",
       "75%    ...          1.000000     741.000000        14.000000      0.634048   \n",
       "max    ...          3.000000    1337.000000        50.000000      0.983447   \n",
       "\n",
       "       kitchen_part  square_meter_price_mln  year_exposition  living_ratio_%  \\\n",
       "count  16783.000000            18330.000000     18330.000000    18330.000000   \n",
       "mean       0.190528                0.105469      2017.350191       55.342717   \n",
       "std        0.073661                0.030951         1.038963       10.174218   \n",
       "min        0.026151                0.000112      2014.000000        3.000000   \n",
       "25%        0.135407                0.086154      2017.000000       50.000000   \n",
       "50%        0.175439                0.100000      2017.000000       56.000000   \n",
       "75%        0.236842                0.118750      2018.000000       62.000000   \n",
       "max        0.787879                0.642445      2019.000000      100.000000   \n",
       "\n",
       "       kitchen_ratio_%  city_centers_nearest_km  \n",
       "count     18330.000000             18330.000000  \n",
       "mean         18.125586                11.318385  \n",
       "std           7.069188                 7.086405  \n",
       "min           2.000000                 0.000000  \n",
       "25%          13.000000                 6.000000  \n",
       "50%          17.000000                12.000000  \n",
       "75%          22.000000                15.000000  \n",
       "max          78.000000                37.000000  \n",
       "\n",
       "[8 rows x 24 columns]"
      ]
     },
     "execution_count": 812,
     "metadata": {},
     "output_type": "execute_result"
    }
   ],
   "source": [
    "# Применим метод describe к переменной top10_data\n",
    "top10_data.describe()"
   ]
  },
  {
   "cell_type": "code",
   "execution_count": 813,
   "metadata": {},
   "outputs": [],
   "source": [
    "# Сформируем сводную таблицу отражающую зависимость от города в котором размещен объект недвижимости и его ценой для\n",
    "# 10 населнных пунктов с самым большим числом объявлений\n",
    "top10_price = top10_data.pivot_table(index='locality_name', values='square_meter_price_mln', aggfunc='mean')"
   ]
  },
  {
   "cell_type": "code",
   "execution_count": 814,
   "metadata": {},
   "outputs": [
    {
     "data": {
      "text/html": [
       "<div>\n",
       "<style scoped>\n",
       "    .dataframe tbody tr th:only-of-type {\n",
       "        vertical-align: middle;\n",
       "    }\n",
       "\n",
       "    .dataframe tbody tr th {\n",
       "        vertical-align: top;\n",
       "    }\n",
       "\n",
       "    .dataframe thead th {\n",
       "        text-align: right;\n",
       "    }\n",
       "</style>\n",
       "<table border=\"1\" class=\"dataframe\">\n",
       "  <thead>\n",
       "    <tr style=\"text-align: right;\">\n",
       "      <th></th>\n",
       "      <th>square_meter_price_mln</th>\n",
       "    </tr>\n",
       "    <tr>\n",
       "      <th>locality_name</th>\n",
       "      <th></th>\n",
       "    </tr>\n",
       "  </thead>\n",
       "  <tbody>\n",
       "    <tr>\n",
       "      <td>Санкт-Петербург</td>\n",
       "      <td>0.110603</td>\n",
       "    </tr>\n",
       "    <tr>\n",
       "      <td>Пушкин</td>\n",
       "      <td>0.103193</td>\n",
       "    </tr>\n",
       "    <tr>\n",
       "      <td>деревня Кудрово</td>\n",
       "      <td>0.092836</td>\n",
       "    </tr>\n",
       "    <tr>\n",
       "      <td>поселок Парголово</td>\n",
       "      <td>0.090952</td>\n",
       "    </tr>\n",
       "    <tr>\n",
       "      <td>поселок Мурино</td>\n",
       "      <td>0.085651</td>\n",
       "    </tr>\n",
       "    <tr>\n",
       "      <td>поселок Шушары</td>\n",
       "      <td>0.078801</td>\n",
       "    </tr>\n",
       "    <tr>\n",
       "      <td>Колпино</td>\n",
       "      <td>0.075645</td>\n",
       "    </tr>\n",
       "    <tr>\n",
       "      <td>Гатчина</td>\n",
       "      <td>0.069057</td>\n",
       "    </tr>\n",
       "    <tr>\n",
       "      <td>Всеволожск</td>\n",
       "      <td>0.069006</td>\n",
       "    </tr>\n",
       "    <tr>\n",
       "      <td>Выборг</td>\n",
       "      <td>0.058394</td>\n",
       "    </tr>\n",
       "  </tbody>\n",
       "</table>\n",
       "</div>"
      ],
      "text/plain": [
       "                   square_meter_price_mln\n",
       "locality_name                            \n",
       "Санкт-Петербург                  0.110603\n",
       "Пушкин                           0.103193\n",
       "деревня Кудрово                  0.092836\n",
       "поселок Парголово                0.090952\n",
       "поселок Мурино                   0.085651\n",
       "поселок Шушары                   0.078801\n",
       "Колпино                          0.075645\n",
       "Гатчина                          0.069057\n",
       "Всеволожск                       0.069006\n",
       "Выборг                           0.058394"
      ]
     },
     "execution_count": 814,
     "metadata": {},
     "output_type": "execute_result"
    }
   ],
   "source": [
    "# Отсортируем полученные значения по убванию\n",
    "top10_price.sort_values(by = 'square_meter_price_mln', ascending = False)"
   ]
  },
  {
   "cell_type": "markdown",
   "metadata": {},
   "source": [
    "На основании полученных данных можно сделать вывод о том что цена объекта недвижимости напрямую зависит от того в каком населенном пункте расположен объект недвижимости. В нашем случае максимальная стоимость квадртаного метра присуща недвижимости расположенной в городе Санкт-Петербурге, а именно средняя стоимость квадратного метра составила 110 тысч рублей. В остальных населенных пунктах наблюдается корреляция между стоимостью квадратного метра жилья и удаленностью от города Санкт-Петербурга. Например в городе Пушкин расположенном на расстоянии 25км от Санкт-Петербурга средняя стоимость  квадтраного метра составила 103 тысячи рублей, а в городе Гатчина расположеном в 46км от Санкт-Петербурга средняя стоимость квадтраного метра составиляет уже 69 тысяч рублей и для города Выборг находящегося от Санкт-Петербурга \n",
    "на удалении в 139км средняя стоимость квадтраного метра падает до 58 тысяч рублей."
   ]
  },
  {
   "cell_type": "markdown",
   "metadata": {},
   "source": [
    "#### Анализ изменения цены по степени удалённости от центра"
   ]
  },
  {
   "cell_type": "markdown",
   "metadata": {},
   "source": [
    "Решим поставленную задачу \"Изучите предложения квартир: для каждой квартиры есть информация о расстоянии до центра. Выделите квартиры в Санкт-Петербурге (*'locality_name'*). Ваша задача — выяснить, какая область входит в центр. Создайте столбец с расстоянием до центра в километрах: округлите до целых значений. После этого посчитайте среднюю цену для каждого километра. Постройте график: он должен показывать, как цена зависит от удалённости от центра. Определите границу, где график сильно меняется — это и будет центральная зона. \""
   ]
  },
  {
   "cell_type": "code",
   "execution_count": 815,
   "metadata": {},
   "outputs": [],
   "source": [
    "# Выделим объявления о продаже недвижимости расположеной городе Санкт-Петербурге и сохраним их в переменной data_spb\n",
    "data_spb = data.query('locality_name == \"Санкт-Петербург\"')"
   ]
  },
  {
   "cell_type": "code",
   "execution_count": 816,
   "metadata": {},
   "outputs": [
    {
     "name": "stdout",
     "output_type": "stream",
     "text": [
      "Санкт-Петербург    15129\n",
      "Name: locality_name, dtype: int64\n"
     ]
    }
   ],
   "source": [
    "# Подсчитаем количество таких объявлений\n",
    "print(data_spb['locality_name'].value_counts())"
   ]
  },
  {
   "cell_type": "code",
   "execution_count": 817,
   "metadata": {},
   "outputs": [
    {
     "data": {
      "text/plain": [
       "count    15129.000000\n",
       "mean        11.238681\n",
       "std          4.799105\n",
       "min          0.000000\n",
       "25%          8.000000\n",
       "50%         12.000000\n",
       "75%         14.000000\n",
       "max         29.000000\n",
       "Name: city_centers_nearest_km, dtype: float64"
      ]
     },
     "execution_count": 817,
     "metadata": {},
     "output_type": "execute_result"
    }
   ],
   "source": [
    "# Проанализурем разброс удаления от цетра таких объектов недвижимости с помощью метода describe\n",
    "data_spb['city_centers_nearest_km'].describe()"
   ]
  },
  {
   "cell_type": "code",
   "execution_count": 818,
   "metadata": {},
   "outputs": [],
   "source": [
    "def center_range(row): # Напишем функцию для категоризации объектов недвижмости в зависимости от их удаления от центра города\n",
    "     if 1 <= row <= 5:  \n",
    "       return 'very_low_range' # Расстояние до центра от 1 до 5 км very_low_range\n",
    "     elif 5 <  row <= 10:\n",
    "       return 'low_range' # Расстояние до центра от 5 до 10 км low_range\n",
    "     elif 10 < row <= 20:\n",
    "       return 'medium_range' # Расстояние до центра от 10 до 20 км medium_range\n",
    "     elif 20 < row <= 40:\n",
    "       return 'large_range' # Расстояние до центра от 20 до 40 км large_range\n",
    "     elif 40 < row <= 65:\n",
    "       return 'very_large_range' # Расстояние до центра от 40 до 65  very_large_range\n"
   ]
  },
  {
   "cell_type": "code",
   "execution_count": 819,
   "metadata": {},
   "outputs": [],
   "source": [
    "# Прмиеним полученную функцию к датафрейму и сохраним результат в столбце range_categories\n",
    "data['range_categories'] = data_spb['city_centers_nearest_km'].apply(center_range)"
   ]
  },
  {
   "cell_type": "code",
   "execution_count": 820,
   "metadata": {},
   "outputs": [
    {
     "data": {
      "text/plain": [
       "medium_range      9077\n",
       "low_range         3014\n",
       "very_low_range    2451\n",
       "large_range        473\n",
       "Name: range_categories, dtype: int64"
      ]
     },
     "execution_count": 820,
     "metadata": {},
     "output_type": "execute_result"
    }
   ],
   "source": [
    "# Выведем и подсчитаем полученные значения\n",
    "data['range_categories'].value_counts()"
   ]
  },
  {
   "cell_type": "code",
   "execution_count": 821,
   "metadata": {},
   "outputs": [],
   "source": [
    "data_good_range = data.query('city_centers_nearest_km > 0')"
   ]
  },
  {
   "cell_type": "code",
   "execution_count": 822,
   "metadata": {},
   "outputs": [
    {
     "data": {
      "text/plain": [
       "<matplotlib.axes._subplots.AxesSubplot at 0x7f8ee92d89d0>"
      ]
     },
     "execution_count": 822,
     "metadata": {},
     "output_type": "execute_result"
    },
    {
     "data": {
      "image/png": "[encoded data removed]",
      "text/plain": [
       "<Figure size 1440x504 with 1 Axes>"
      ]
     },
     "metadata": {
      "needs_background": "light"
     },
     "output_type": "display_data"
    }
   ],
   "source": [
    "# Построим график Зависимость цены от удаленности от центра СПБ и разместим на нем все объявления\n",
    "data_spb.plot(x='city_centers_nearest_km', y='last_price', style='o',\n",
    "              title='Зависимость цены от удаленности от центра СПБ',\n",
    "              xlim=(0, 30), ylim=(0, 40), figsize=(20, 7), grid=True)"
   ]
  },
  {
   "cell_type": "code",
   "execution_count": 823,
   "metadata": {},
   "outputs": [],
   "source": [
    "# Попробуем сделать график более информативным, сформируем сводную таблицу отражающую зависимсть средней цены недвижимости\n",
    "# от расстояния до центра Санкт-Петербурга\n",
    "data_price_by_range = data_spb.pivot_table(index='city_centers_nearest_km', values='last_price', aggfunc='mean')"
   ]
  },
  {
   "cell_type": "code",
   "execution_count": 824,
   "metadata": {},
   "outputs": [
    {
     "name": "stdout",
     "output_type": "stream",
     "text": [
      "                         last_price\n",
      "city_centers_nearest_km            \n",
      "0                         10.020092\n",
      "1                         10.878377\n",
      "2                         10.221990\n",
      "3                          9.663044\n",
      "4                         10.555292\n",
      "5                          9.643911\n",
      "6                          9.125529\n",
      "7                          8.656456\n",
      "8                          8.036717\n",
      "9                          6.225631\n",
      "10                         6.193867\n",
      "11                         5.868939\n"
     ]
    }
   ],
   "source": [
    "# Рассмотрим полученую таблицу\n",
    "print(data_price_by_range.head(12))"
   ]
  },
  {
   "cell_type": "code",
   "execution_count": 825,
   "metadata": {},
   "outputs": [
    {
     "data": {
      "text/plain": [
       "<matplotlib.axes._subplots.AxesSubplot at 0x7f8ee9b70d90>"
      ]
     },
     "execution_count": 825,
     "metadata": {},
     "output_type": "execute_result"
    },
    {
     "data": {
      "image/png": "[encoded data removed]",
      "text/plain": [
       "<Figure size 1440x504 with 1 Axes>"
      ]
     },
     "metadata": {
      "needs_background": "light"
     },
     "output_type": "display_data"
    }
   ],
   "source": [
    "# На основании полученной таблицы построим график Зависимость цены от удаленности от центра Санкт-Петербурга\n",
    "(data_spb\n",
    "     .pivot_table(index='city_centers_nearest_km', values='last_price', aggfunc='mean')\n",
    "     .plot(grid=True, xlim=(0, 30), ylim=(0, 15), figsize=(20, 7), title='Зависимость цены от удаленности от центра Санкт-Петербурга')\n",
    ")"
   ]
  },
  {
   "cell_type": "code",
   "execution_count": 826,
   "metadata": {},
   "outputs": [
    {
     "data": {
      "text/html": [
       "<div>\n",
       "<style scoped>\n",
       "    .dataframe tbody tr th:only-of-type {\n",
       "        vertical-align: middle;\n",
       "    }\n",
       "\n",
       "    .dataframe tbody tr th {\n",
       "        vertical-align: top;\n",
       "    }\n",
       "\n",
       "    .dataframe thead th {\n",
       "        text-align: right;\n",
       "    }\n",
       "</style>\n",
       "<table border=\"1\" class=\"dataframe\">\n",
       "  <thead>\n",
       "    <tr style=\"text-align: right;\">\n",
       "      <th></th>\n",
       "      <th>total_images</th>\n",
       "      <th>last_price</th>\n",
       "      <th>total_area</th>\n",
       "      <th>first_day_exposition</th>\n",
       "      <th>rooms</th>\n",
       "      <th>ceiling_height</th>\n",
       "      <th>floors_total</th>\n",
       "      <th>living_area</th>\n",
       "      <th>floor</th>\n",
       "      <th>is_apartment</th>\n",
       "      <th>...</th>\n",
       "      <th>living_part</th>\n",
       "      <th>kitchen_part</th>\n",
       "      <th>square_meter_price_mln</th>\n",
       "      <th>day_name_exposition</th>\n",
       "      <th>month_name_exposition</th>\n",
       "      <th>year_exposition</th>\n",
       "      <th>floor_type</th>\n",
       "      <th>living_ratio_%</th>\n",
       "      <th>kitchen_ratio_%</th>\n",
       "      <th>city_centers_nearest_km</th>\n",
       "    </tr>\n",
       "  </thead>\n",
       "  <tbody>\n",
       "    <tr>\n",
       "      <td>748</td>\n",
       "      <td>13</td>\n",
       "      <td>14.35</td>\n",
       "      <td>74</td>\n",
       "      <td>2017-11-28</td>\n",
       "      <td>2</td>\n",
       "      <td>3.13</td>\n",
       "      <td>5</td>\n",
       "      <td>30</td>\n",
       "      <td>3</td>\n",
       "      <td>False</td>\n",
       "      <td>...</td>\n",
       "      <td>0.405405</td>\n",
       "      <td>0.337838</td>\n",
       "      <td>0.193919</td>\n",
       "      <td>Tuesday</td>\n",
       "      <td>November</td>\n",
       "      <td>2017</td>\n",
       "      <td>Другой</td>\n",
       "      <td>40</td>\n",
       "      <td>33</td>\n",
       "      <td>27</td>\n",
       "    </tr>\n",
       "    <tr>\n",
       "      <td>5961</td>\n",
       "      <td>6</td>\n",
       "      <td>2.25</td>\n",
       "      <td>32</td>\n",
       "      <td>2018-02-27</td>\n",
       "      <td>1</td>\n",
       "      <td>2.65</td>\n",
       "      <td>2</td>\n",
       "      <td>16</td>\n",
       "      <td>2</td>\n",
       "      <td>False</td>\n",
       "      <td>...</td>\n",
       "      <td>0.515625</td>\n",
       "      <td>0.218750</td>\n",
       "      <td>0.070312</td>\n",
       "      <td>Tuesday</td>\n",
       "      <td>February</td>\n",
       "      <td>2018</td>\n",
       "      <td>Последний</td>\n",
       "      <td>50</td>\n",
       "      <td>21</td>\n",
       "      <td>27</td>\n",
       "    </tr>\n",
       "  </tbody>\n",
       "</table>\n",
       "<p>2 rows × 32 columns</p>\n",
       "</div>"
      ],
      "text/plain": [
       "      total_images  last_price  total_area first_day_exposition  rooms  \\\n",
       "748             13       14.35          74           2017-11-28      2   \n",
       "5961             6        2.25          32           2018-02-27      1   \n",
       "\n",
       "      ceiling_height  floors_total  living_area  floor  is_apartment  ...  \\\n",
       "748             3.13             5           30      3         False  ...   \n",
       "5961            2.65             2           16      2         False  ...   \n",
       "\n",
       "      living_part  kitchen_part  square_meter_price_mln  day_name_exposition  \\\n",
       "748      0.405405      0.337838                0.193919              Tuesday   \n",
       "5961     0.515625      0.218750                0.070312              Tuesday   \n",
       "\n",
       "     month_name_exposition  year_exposition  floor_type  living_ratio_%  \\\n",
       "748               November             2017      Другой              40   \n",
       "5961              February             2018   Последний              50   \n",
       "\n",
       "      kitchen_ratio_%  city_centers_nearest_km  \n",
       "748                33                       27  \n",
       "5961               21                       27  \n",
       "\n",
       "[2 rows x 32 columns]"
      ]
     },
     "execution_count": 826,
     "metadata": {},
     "output_type": "execute_result"
    }
   ],
   "source": [
    "# На получившемся графике прослеживается всплеск выбивающийся их общей картины на расстоянии 27 от центра, изучим чем он вызван\n",
    "data_spb.query('city_centers_nearest_km == 27')"
   ]
  },
  {
   "cell_type": "code",
   "execution_count": 827,
   "metadata": {},
   "outputs": [],
   "source": [
    "# Всплеск на расстоянии 27 от центра вызван присутствием аномально дорого объекта недвижимости стоимостью 14 млн рублей и \n",
    "# усугублен крайне узкой статистической выборкой, в данной категории всего 2 объявления"
   ]
  },
  {
   "cell_type": "code",
   "execution_count": 828,
   "metadata": {},
   "outputs": [
    {
     "data": {
      "text/plain": [
       "count    15129.000000\n",
       "mean         6.740623\n",
       "std          3.946121\n",
       "min          0.012190\n",
       "25%          4.200000\n",
       "50%          5.480000\n",
       "75%          7.800000\n",
       "max         27.420000\n",
       "Name: last_price, dtype: float64"
      ]
     },
     "execution_count": 828,
     "metadata": {},
     "output_type": "execute_result"
    }
   ],
   "source": [
    "data_spb['last_price'].describe()"
   ]
  },
  {
   "cell_type": "code",
   "execution_count": 829,
   "metadata": {},
   "outputs": [
    {
     "data": {
      "text/plain": [
       "<matplotlib.axes._subplots.AxesSubplot at 0x7f8ee89e7250>"
      ]
     },
     "execution_count": 829,
     "metadata": {},
     "output_type": "execute_result"
    },
    {
     "data": {
      "image/png": "[encoded data removed]",
      "text/plain": [
       "<Figure size 432x288 with 1 Axes>"
      ]
     },
     "metadata": {
      "needs_background": "light"
     },
     "output_type": "display_data"
    }
   ],
   "source": [
    "# Изучим расределение значений\n",
    "data_price_by_range.boxplot(column='last_price')"
   ]
  },
  {
   "cell_type": "markdown",
   "metadata": {},
   "source": [
    "На основнии полученных данных видно что график зависимости цены недвижимости от удаленности от центра Санкт-Петербурга сильно в значительной степени меняется на расстоянии 8 километров от центра, соответственно центром города, оказывающим сщуественный эффект на цену недвижимости, можем считать все что расположено внутри радиуса 8 км от географического центра города Санкт-Петербурга.\n",
    "Среднняя цена недвижимости в Санкт-Петербурге существенно выше чем в остальных населенных пунктах, присутствующих в наших данных, основная масса недвижимости обладет стоимостью в диапазоне от 5 млн до 8,5 млн рублей. Среднняя цена объекта недвижимости в Санкт-Петербурга составила 6.7 млн рублей."
   ]
  },
  {
   "cell_type": "markdown",
   "metadata": {},
   "source": [
    "#### Сравнение выводов по квартирам в центре и общих выводов по всему городу"
   ]
  },
  {
   "cell_type": "markdown",
   "metadata": {},
   "source": [
    "Выполним поставленную задачу \"Выделите сегмент квартир в центре. Проанализируйте эту территорию и изучите следующие параметры: площадь, цена, число комнат, высота потолков. Также выделите факторы, которые влияют на стоимость квартиры (число комнат, этаж, удалённость от центра, дата размещения объявления). Сделайте выводы. Отличаются ли они от общих выводов по всему городу?\""
   ]
  },
  {
   "cell_type": "code",
   "execution_count": 830,
   "metadata": {},
   "outputs": [],
   "source": [
    "# Сделаем выборку данных, оставим только объявления расположенные не дальше чем 8км от центра Санкт-Петербурга\n",
    "# Результат сохраним в переменную data_center_flats\n",
    "data_center_flats = data_spb.query('city_centers_nearest_km <= 8')"
   ]
  },
  {
   "cell_type": "code",
   "execution_count": 831,
   "metadata": {},
   "outputs": [
    {
     "data": {
      "text/html": [
       "<div>\n",
       "<style scoped>\n",
       "    .dataframe tbody tr th:only-of-type {\n",
       "        vertical-align: middle;\n",
       "    }\n",
       "\n",
       "    .dataframe tbody tr th {\n",
       "        vertical-align: top;\n",
       "    }\n",
       "\n",
       "    .dataframe thead th {\n",
       "        text-align: right;\n",
       "    }\n",
       "</style>\n",
       "<table border=\"1\" class=\"dataframe\">\n",
       "  <thead>\n",
       "    <tr style=\"text-align: right;\">\n",
       "      <th></th>\n",
       "      <th>total_images</th>\n",
       "      <th>last_price</th>\n",
       "      <th>total_area</th>\n",
       "      <th>rooms</th>\n",
       "      <th>ceiling_height</th>\n",
       "      <th>floors_total</th>\n",
       "      <th>living_area</th>\n",
       "      <th>floor</th>\n",
       "      <th>kitchen_area</th>\n",
       "      <th>balcony</th>\n",
       "      <th>...</th>\n",
       "      <th>ponds_around3000</th>\n",
       "      <th>ponds_nearest</th>\n",
       "      <th>days_exposition</th>\n",
       "      <th>living_part</th>\n",
       "      <th>kitchen_part</th>\n",
       "      <th>square_meter_price_mln</th>\n",
       "      <th>year_exposition</th>\n",
       "      <th>living_ratio_%</th>\n",
       "      <th>kitchen_ratio_%</th>\n",
       "      <th>city_centers_nearest_km</th>\n",
       "    </tr>\n",
       "  </thead>\n",
       "  <tbody>\n",
       "    <tr>\n",
       "      <td>count</td>\n",
       "      <td>3997.000000</td>\n",
       "      <td>3997.000000</td>\n",
       "      <td>3997.000000</td>\n",
       "      <td>3997.000000</td>\n",
       "      <td>3997.000000</td>\n",
       "      <td>3997.000000</td>\n",
       "      <td>3997.000000</td>\n",
       "      <td>3997.000000</td>\n",
       "      <td>3997.000000</td>\n",
       "      <td>3997.000000</td>\n",
       "      <td>...</td>\n",
       "      <td>3947.000000</td>\n",
       "      <td>2737.000000</td>\n",
       "      <td>3997.000000</td>\n",
       "      <td>3681.000000</td>\n",
       "      <td>3646.000000</td>\n",
       "      <td>3997.000000</td>\n",
       "      <td>3997.000000</td>\n",
       "      <td>3997.000000</td>\n",
       "      <td>3997.000000</td>\n",
       "      <td>3997.000000</td>\n",
       "    </tr>\n",
       "    <tr>\n",
       "      <td>mean</td>\n",
       "      <td>9.872154</td>\n",
       "      <td>9.541083</td>\n",
       "      <td>76.410808</td>\n",
       "      <td>2.544408</td>\n",
       "      <td>2.883610</td>\n",
       "      <td>7.788091</td>\n",
       "      <td>44.715036</td>\n",
       "      <td>4.443833</td>\n",
       "      <td>12.593945</td>\n",
       "      <td>0.340005</td>\n",
       "      <td>...</td>\n",
       "      <td>1.215860</td>\n",
       "      <td>477.487030</td>\n",
       "      <td>9.872154</td>\n",
       "      <td>0.578557</td>\n",
       "      <td>0.177927</td>\n",
       "      <td>0.126563</td>\n",
       "      <td>2017.234176</td>\n",
       "      <td>57.061046</td>\n",
       "      <td>17.048536</td>\n",
       "      <td>4.773830</td>\n",
       "    </tr>\n",
       "    <tr>\n",
       "      <td>std</td>\n",
       "      <td>5.839308</td>\n",
       "      <td>4.978427</td>\n",
       "      <td>32.976056</td>\n",
       "      <td>1.154415</td>\n",
       "      <td>0.323246</td>\n",
       "      <td>4.595704</td>\n",
       "      <td>22.820756</td>\n",
       "      <td>3.296745</td>\n",
       "      <td>6.753340</td>\n",
       "      <td>0.780604</td>\n",
       "      <td>...</td>\n",
       "      <td>1.070274</td>\n",
       "      <td>266.677496</td>\n",
       "      <td>5.839308</td>\n",
       "      <td>0.112834</td>\n",
       "      <td>0.081325</td>\n",
       "      <td>0.039956</td>\n",
       "      <td>1.113752</td>\n",
       "      <td>10.918837</td>\n",
       "      <td>7.781690</td>\n",
       "      <td>2.176263</td>\n",
       "    </tr>\n",
       "    <tr>\n",
       "      <td>min</td>\n",
       "      <td>0.000000</td>\n",
       "      <td>1.600000</td>\n",
       "      <td>12.000000</td>\n",
       "      <td>1.000000</td>\n",
       "      <td>2.400000</td>\n",
       "      <td>2.000000</td>\n",
       "      <td>2.000000</td>\n",
       "      <td>1.000000</td>\n",
       "      <td>2.000000</td>\n",
       "      <td>0.000000</td>\n",
       "      <td>...</td>\n",
       "      <td>0.000000</td>\n",
       "      <td>22.000000</td>\n",
       "      <td>0.000000</td>\n",
       "      <td>0.038462</td>\n",
       "      <td>0.026151</td>\n",
       "      <td>0.015385</td>\n",
       "      <td>2014.000000</td>\n",
       "      <td>3.000000</td>\n",
       "      <td>2.000000</td>\n",
       "      <td>0.000000</td>\n",
       "    </tr>\n",
       "    <tr>\n",
       "      <td>25%</td>\n",
       "      <td>6.000000</td>\n",
       "      <td>6.000000</td>\n",
       "      <td>51.000000</td>\n",
       "      <td>2.000000</td>\n",
       "      <td>2.650000</td>\n",
       "      <td>5.000000</td>\n",
       "      <td>28.000000</td>\n",
       "      <td>2.000000</td>\n",
       "      <td>8.000000</td>\n",
       "      <td>0.000000</td>\n",
       "      <td>...</td>\n",
       "      <td>0.000000</td>\n",
       "      <td>252.000000</td>\n",
       "      <td>6.000000</td>\n",
       "      <td>0.512821</td>\n",
       "      <td>0.121622</td>\n",
       "      <td>0.098551</td>\n",
       "      <td>2017.000000</td>\n",
       "      <td>51.000000</td>\n",
       "      <td>12.000000</td>\n",
       "      <td>3.000000</td>\n",
       "    </tr>\n",
       "    <tr>\n",
       "      <td>50%</td>\n",
       "      <td>9.000000</td>\n",
       "      <td>8.260000</td>\n",
       "      <td>70.000000</td>\n",
       "      <td>2.000000</td>\n",
       "      <td>2.750000</td>\n",
       "      <td>6.000000</td>\n",
       "      <td>41.000000</td>\n",
       "      <td>4.000000</td>\n",
       "      <td>11.000000</td>\n",
       "      <td>0.000000</td>\n",
       "      <td>...</td>\n",
       "      <td>1.000000</td>\n",
       "      <td>454.000000</td>\n",
       "      <td>9.000000</td>\n",
       "      <td>0.593220</td>\n",
       "      <td>0.155556</td>\n",
       "      <td>0.119412</td>\n",
       "      <td>2017.000000</td>\n",
       "      <td>57.000000</td>\n",
       "      <td>16.000000</td>\n",
       "      <td>5.000000</td>\n",
       "    </tr>\n",
       "    <tr>\n",
       "      <td>75%</td>\n",
       "      <td>14.000000</td>\n",
       "      <td>11.800000</td>\n",
       "      <td>95.000000</td>\n",
       "      <td>3.000000</td>\n",
       "      <td>3.050000</td>\n",
       "      <td>10.000000</td>\n",
       "      <td>56.000000</td>\n",
       "      <td>5.000000</td>\n",
       "      <td>15.000000</td>\n",
       "      <td>0.000000</td>\n",
       "      <td>...</td>\n",
       "      <td>2.000000</td>\n",
       "      <td>675.000000</td>\n",
       "      <td>14.000000</td>\n",
       "      <td>0.658740</td>\n",
       "      <td>0.212134</td>\n",
       "      <td>0.144792</td>\n",
       "      <td>2018.000000</td>\n",
       "      <td>65.000000</td>\n",
       "      <td>20.000000</td>\n",
       "      <td>7.000000</td>\n",
       "    </tr>\n",
       "    <tr>\n",
       "      <td>max</td>\n",
       "      <td>50.000000</td>\n",
       "      <td>27.420000</td>\n",
       "      <td>196.000000</td>\n",
       "      <td>11.000000</td>\n",
       "      <td>4.800000</td>\n",
       "      <td>28.000000</td>\n",
       "      <td>164.000000</td>\n",
       "      <td>24.000000</td>\n",
       "      <td>56.000000</td>\n",
       "      <td>5.000000</td>\n",
       "      <td>...</td>\n",
       "      <td>3.000000</td>\n",
       "      <td>1293.000000</td>\n",
       "      <td>50.000000</td>\n",
       "      <td>0.983447</td>\n",
       "      <td>0.625000</td>\n",
       "      <td>0.397959</td>\n",
       "      <td>2019.000000</td>\n",
       "      <td>99.000000</td>\n",
       "      <td>62.000000</td>\n",
       "      <td>8.000000</td>\n",
       "    </tr>\n",
       "  </tbody>\n",
       "</table>\n",
       "<p>8 rows × 24 columns</p>\n",
       "</div>"
      ],
      "text/plain": [
       "       total_images   last_price   total_area        rooms  ceiling_height  \\\n",
       "count   3997.000000  3997.000000  3997.000000  3997.000000     3997.000000   \n",
       "mean       9.872154     9.541083    76.410808     2.544408        2.883610   \n",
       "std        5.839308     4.978427    32.976056     1.154415        0.323246   \n",
       "min        0.000000     1.600000    12.000000     1.000000        2.400000   \n",
       "25%        6.000000     6.000000    51.000000     2.000000        2.650000   \n",
       "50%        9.000000     8.260000    70.000000     2.000000        2.750000   \n",
       "75%       14.000000    11.800000    95.000000     3.000000        3.050000   \n",
       "max       50.000000    27.420000   196.000000    11.000000        4.800000   \n",
       "\n",
       "       floors_total  living_area        floor  kitchen_area      balcony  ...  \\\n",
       "count   3997.000000  3997.000000  3997.000000   3997.000000  3997.000000  ...   \n",
       "mean       7.788091    44.715036     4.443833     12.593945     0.340005  ...   \n",
       "std        4.595704    22.820756     3.296745      6.753340     0.780604  ...   \n",
       "min        2.000000     2.000000     1.000000      2.000000     0.000000  ...   \n",
       "25%        5.000000    28.000000     2.000000      8.000000     0.000000  ...   \n",
       "50%        6.000000    41.000000     4.000000     11.000000     0.000000  ...   \n",
       "75%       10.000000    56.000000     5.000000     15.000000     0.000000  ...   \n",
       "max       28.000000   164.000000    24.000000     56.000000     5.000000  ...   \n",
       "\n",
       "       ponds_around3000  ponds_nearest  days_exposition  living_part  \\\n",
       "count       3947.000000    2737.000000      3997.000000  3681.000000   \n",
       "mean           1.215860     477.487030         9.872154     0.578557   \n",
       "std            1.070274     266.677496         5.839308     0.112834   \n",
       "min            0.000000      22.000000         0.000000     0.038462   \n",
       "25%            0.000000     252.000000         6.000000     0.512821   \n",
       "50%            1.000000     454.000000         9.000000     0.593220   \n",
       "75%            2.000000     675.000000        14.000000     0.658740   \n",
       "max            3.000000    1293.000000        50.000000     0.983447   \n",
       "\n",
       "       kitchen_part  square_meter_price_mln  year_exposition  living_ratio_%  \\\n",
       "count   3646.000000             3997.000000      3997.000000     3997.000000   \n",
       "mean       0.177927                0.126563      2017.234176       57.061046   \n",
       "std        0.081325                0.039956         1.113752       10.918837   \n",
       "min        0.026151                0.015385      2014.000000        3.000000   \n",
       "25%        0.121622                0.098551      2017.000000       51.000000   \n",
       "50%        0.155556                0.119412      2017.000000       57.000000   \n",
       "75%        0.212134                0.144792      2018.000000       65.000000   \n",
       "max        0.625000                0.397959      2019.000000       99.000000   \n",
       "\n",
       "       kitchen_ratio_%  city_centers_nearest_km  \n",
       "count      3997.000000              3997.000000  \n",
       "mean         17.048536                 4.773830  \n",
       "std           7.781690                 2.176263  \n",
       "min           2.000000                 0.000000  \n",
       "25%          12.000000                 3.000000  \n",
       "50%          16.000000                 5.000000  \n",
       "75%          20.000000                 7.000000  \n",
       "max          62.000000                 8.000000  \n",
       "\n",
       "[8 rows x 24 columns]"
      ]
     },
     "execution_count": 831,
     "metadata": {},
     "output_type": "execute_result"
    }
   ],
   "source": [
    "# Изучим данные полученные в data_center_flats методом describe\n",
    "data_center_flats.describe()"
   ]
  },
  {
   "cell_type": "code",
   "execution_count": 832,
   "metadata": {},
   "outputs": [],
   "source": [
    "# Сформируем сводную таблицу с необходимыми параметрами\n",
    "data_center_flats_multi = data_center_flats.pivot_table(index='city_centers_nearest_km', \n",
    "                        values = ['last_price', 'rooms','ceiling_height', 'total_area'], aggfunc='mean')"
   ]
  },
  {
   "cell_type": "code",
   "execution_count": 833,
   "metadata": {},
   "outputs": [
    {
     "name": "stdout",
     "output_type": "stream",
     "text": [
      "                ceiling_height  last_price     rooms  total_area\n",
      "ceiling_height        1.000000    0.860059  0.942963    0.971489\n",
      "last_price            0.860059    1.000000  0.852628    0.910517\n",
      "rooms                 0.942963    0.852628  1.000000    0.980583\n",
      "total_area            0.971489    0.910517  0.980583    1.000000\n"
     ]
    }
   ],
   "source": [
    "# Попробуем выявить корреляцию данных в сформированном датафрейме\n",
    "print(data_center_flats_multi.corr())"
   ]
  },
  {
   "cell_type": "code",
   "execution_count": 834,
   "metadata": {},
   "outputs": [
    {
     "data": {
      "text/plain": [
       "array([[<matplotlib.axes._subplots.AxesSubplot object at 0x7f8ee89f53d0>,\n",
       "        <matplotlib.axes._subplots.AxesSubplot object at 0x7f8ee98b4e10>,\n",
       "        <matplotlib.axes._subplots.AxesSubplot object at 0x7f8ee5de1e10>,\n",
       "        <matplotlib.axes._subplots.AxesSubplot object at 0x7f8ee9c764d0>],\n",
       "       [<matplotlib.axes._subplots.AxesSubplot object at 0x7f8eede14c50>,\n",
       "        <matplotlib.axes._subplots.AxesSubplot object at 0x7f8ee988e5d0>,\n",
       "        <matplotlib.axes._subplots.AxesSubplot object at 0x7f8ee92ee690>,\n",
       "        <matplotlib.axes._subplots.AxesSubplot object at 0x7f8ee9c71b10>],\n",
       "       [<matplotlib.axes._subplots.AxesSubplot object at 0x7f8ee89cf750>,\n",
       "        <matplotlib.axes._subplots.AxesSubplot object at 0x7f8eeab69a90>,\n",
       "        <matplotlib.axes._subplots.AxesSubplot object at 0x7f8eec1ce890>,\n",
       "        <matplotlib.axes._subplots.AxesSubplot object at 0x7f8eec1bb810>],\n",
       "       [<matplotlib.axes._subplots.AxesSubplot object at 0x7f8eed1b0f10>,\n",
       "        <matplotlib.axes._subplots.AxesSubplot object at 0x7f8eef8a1950>,\n",
       "        <matplotlib.axes._subplots.AxesSubplot object at 0x7f8ee92e0b50>,\n",
       "        <matplotlib.axes._subplots.AxesSubplot object at 0x7f8ee7a89810>]],\n",
       "      dtype=object)"
      ]
     },
     "execution_count": 834,
     "metadata": {},
     "output_type": "execute_result"
    },
    {
     "data": {
      "image/png": "[encoded data removed]",
      "text/plain": [
       "<Figure size 864x864 with 16 Axes>"
      ]
     },
     "metadata": {
      "needs_background": "light"
     },
     "output_type": "display_data"
    }
   ],
   "source": [
    "# Построим попарные точечные диаграммы для столбцов сформированного датафрейма\n",
    "pd.plotting.scatter_matrix(data_center_flats_multi, figsize=(12, 12))"
   ]
  },
  {
   "cell_type": "code",
   "execution_count": 835,
   "metadata": {},
   "outputs": [],
   "source": [
    "# Сформируем сводную таблицу  с необходимыми параметрами\n",
    "data_center_flats_multi_2 = data_center_flats.pivot_table(index='total_area', \n",
    "                        values = ['floor', 'rooms','city_centers_nearest_km', 'last_price'], aggfunc='mean')"
   ]
  },
  {
   "cell_type": "code",
   "execution_count": 836,
   "metadata": {},
   "outputs": [
    {
     "name": "stdout",
     "output_type": "stream",
     "text": [
      "                         city_centers_nearest_km     floor  last_price  \\\n",
      "city_centers_nearest_km                 1.000000  0.282621   -0.340631   \n",
      "floor                                   0.282621  1.000000    0.277551   \n",
      "last_price                             -0.340631  0.277551    1.000000   \n",
      "rooms                                  -0.439582  0.105883    0.875173   \n",
      "\n",
      "                            rooms  \n",
      "city_centers_nearest_km -0.439582  \n",
      "floor                    0.105883  \n",
      "last_price               0.875173  \n",
      "rooms                    1.000000  \n"
     ]
    }
   ],
   "source": [
    "print(data_center_flats_multi_2.corr())"
   ]
  },
  {
   "cell_type": "code",
   "execution_count": 837,
   "metadata": {},
   "outputs": [
    {
     "data": {
      "text/plain": [
       "array([[<matplotlib.axes._subplots.AxesSubplot object at 0x7f8ee51fe950>,\n",
       "        <matplotlib.axes._subplots.AxesSubplot object at 0x7f8ee9fa7c10>,\n",
       "        <matplotlib.axes._subplots.AxesSubplot object at 0x7f8eed1df890>,\n",
       "        <matplotlib.axes._subplots.AxesSubplot object at 0x7f8ef0e06c10>],\n",
       "       [<matplotlib.axes._subplots.AxesSubplot object at 0x7f8eef3808d0>,\n",
       "        <matplotlib.axes._subplots.AxesSubplot object at 0x7f8ee4631c50>,\n",
       "        <matplotlib.axes._subplots.AxesSubplot object at 0x7f8ef01e8910>,\n",
       "        <matplotlib.axes._subplots.AxesSubplot object at 0x7f8ef2fd3150>],\n",
       "       [<matplotlib.axes._subplots.AxesSubplot object at 0x7f8ef2fd3c90>,\n",
       "        <matplotlib.axes._subplots.AxesSubplot object at 0x7f8eebba8650>,\n",
       "        <matplotlib.axes._subplots.AxesSubplot object at 0x7f8ee9ea3990>,\n",
       "        <matplotlib.axes._subplots.AxesSubplot object at 0x7f8eec952d10>],\n",
       "       [<matplotlib.axes._subplots.AxesSubplot object at 0x7f8ee41cd9d0>,\n",
       "        <matplotlib.axes._subplots.AxesSubplot object at 0x7f8ef19afd50>,\n",
       "        <matplotlib.axes._subplots.AxesSubplot object at 0x7f8ef19dfa10>,\n",
       "        <matplotlib.axes._subplots.AxesSubplot object at 0x7f8eeae32d50>]],\n",
       "      dtype=object)"
      ]
     },
     "execution_count": 837,
     "metadata": {},
     "output_type": "execute_result"
    },
    {
     "data": {
      "image/png": "[encoded data removed]",
      "text/plain": [
       "<Figure size 648x648 with 16 Axes>"
      ]
     },
     "metadata": {
      "needs_background": "light"
     },
     "output_type": "display_data"
    }
   ],
   "source": [
    "pd.plotting.scatter_matrix(data_center_flats_multi_2, figsize=(9, 9))"
   ]
  },
  {
   "cell_type": "code",
   "execution_count": 838,
   "metadata": {},
   "outputs": [
    {
     "data": {
      "text/html": [
       "<div>\n",
       "<style scoped>\n",
       "    .dataframe tbody tr th:only-of-type {\n",
       "        vertical-align: middle;\n",
       "    }\n",
       "\n",
       "    .dataframe tbody tr th {\n",
       "        vertical-align: top;\n",
       "    }\n",
       "\n",
       "    .dataframe thead th {\n",
       "        text-align: right;\n",
       "    }\n",
       "</style>\n",
       "<table border=\"1\" class=\"dataframe\">\n",
       "  <thead>\n",
       "    <tr style=\"text-align: right;\">\n",
       "      <th></th>\n",
       "      <th>last_price</th>\n",
       "    </tr>\n",
       "    <tr>\n",
       "      <th>year_exposition</th>\n",
       "      <th></th>\n",
       "    </tr>\n",
       "  </thead>\n",
       "  <tbody>\n",
       "    <tr>\n",
       "      <td>2014</td>\n",
       "      <td>13.100915</td>\n",
       "    </tr>\n",
       "    <tr>\n",
       "      <td>2015</td>\n",
       "      <td>10.029122</td>\n",
       "    </tr>\n",
       "    <tr>\n",
       "      <td>2016</td>\n",
       "      <td>9.648776</td>\n",
       "    </tr>\n",
       "    <tr>\n",
       "      <td>2017</td>\n",
       "      <td>9.477264</td>\n",
       "    </tr>\n",
       "    <tr>\n",
       "      <td>2018</td>\n",
       "      <td>9.296179</td>\n",
       "    </tr>\n",
       "    <tr>\n",
       "      <td>2019</td>\n",
       "      <td>9.722997</td>\n",
       "    </tr>\n",
       "  </tbody>\n",
       "</table>\n",
       "</div>"
      ],
      "text/plain": [
       "                 last_price\n",
       "year_exposition            \n",
       "2014              13.100915\n",
       "2015              10.029122\n",
       "2016               9.648776\n",
       "2017               9.477264\n",
       "2018               9.296179\n",
       "2019               9.722997"
      ]
     },
     "execution_count": 838,
     "metadata": {},
     "output_type": "execute_result"
    }
   ],
   "source": [
    "# Для опреденлия зависимости стоимости недвижимости от года размещения объявления построим сводную таблицу\n",
    "data_center_flats.pivot_table(index='year_exposition',values='last_price',aggfunc='mean')"
   ]
  },
  {
   "cell_type": "markdown",
   "metadata": {},
   "source": [
    "На оснвании полученных данных можно сделать следующие воводы:\n",
    "- Средняя стоимость недвижимости в центре Санк-Петербурга составила составила 9.5 рублей,что значительно выше чем во всех остальных локациях среди представленных данных.\n",
    "- Средняя стоимость квадратного метра в центре Санк-Петербурга составила 126 тысяч рублей за квадратные метр, что так же существенно выше всех остальных представленнных данных\n",
    "- Все корреляции и зависимости между ценой и остальными параметрами недвижимости сохраняют свою актуальность для центра Санкт-Петербурга\n",
    "- От остального города отличается лишь зависимость цены недвижмости от ее удаленности от центра, внутри обозначенных центральных 8 километрах от центра Санкт-Петербурга, цена изменяется неравномерно и недвижимость расположенная в трех киломтерах от центра может быть дешевле недвижмости расположенной в четырех километрах от центра.\n",
    "- Зависимость цены недвижимости от даты размещения объявления, для центра Санкт-Петербурга сохраняется та же, что и для всего остального датафрейма."
   ]
  },
  {
   "cell_type": "markdown",
   "metadata": {},
   "source": [
    "### Шаг 5. Общий вывод"
   ]
  },
  {
   "cell_type": "markdown",
   "metadata": {},
   "source": [
    "Резюмируя проделаную работу еще раз обозначим основные выводы:\n",
    "- На цену недвижимости оказывают сущесвтенное вляиение такие факторы как: количество комнат, общая площадь объекта недвижимости, а так же то на каком этаже расположен продаваемый объект.\n",
    "- На цену недвижимости вляют общие рыночные тенденции, средняя цена различается в зависимости от года размещения объявления.\n",
    "- Цена квадратного метра недвижимости в Санкт-Петербурге существенно выше чем в Санкт-Петербургской области, и чем дальше от Санкт-Петербурга, тем ниже цена квадратного метра недвижимости.\n",
    "- Недвижимость расположенная ближе 8км от географического центра Санкт-Петербурга существенно дороже всей остальной недвижимости. \n",
    "- Расположение недвижимости в центре Санкт-Петербурга не отменяет влияния на цену факторов актуальных для остальной части города, кроме самой близости к центру города."
   ]
  }
 ],
 "metadata": {
  "kernelspec": {
   "display_name": "Python 3",
   "language": "python",
   "name": "python3"
  },
  "language_info": {
   "codemirror_mode": {
    "name": "ipython",
    "version": 3
   },
   "file_extension": ".py",
   "mimetype": "text/x-python",
   "name": "python",
   "nbconvert_exporter": "python",
   "pygments_lexer": "ipython3",
   "version": "3.7.6"
  }
 },
 "nbformat": 4,
 "nbformat_minor": 2
}
