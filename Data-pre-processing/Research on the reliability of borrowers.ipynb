{
 "cells": [
  {
   "cell_type": "markdown",
   "metadata": {},
   "source": [
    "## Исследование надёжности заёмщиков\n",
    "\n",
    "Заказчик — кредитный отдел банка. Требуется оценить влияние семейного положения и количества детей клиента на качество исполнения кредитных обязательств - погашения кредита в срок. Входные данные от банка — статистика о платёжеспособности клиентов.\n",
    "\n",
    "Результаты исследования необходимы для построения модели кредитного скоринга — специальной системы, которая оценивает способность потенциального заёмщика вернуть кредит банку.\n",
    "\n",
    "Перед выполнением задачи необходимо выявить некорректные данные и пропуски, описать возможные причины появления таких данных и обработать их.\n",
    "Также нужно найти зависимость между семейным положением, уровнем дохода и возвратом кредита в срок, а так же проанализировать как разные цели кредита влияют на его возврат в срок."
   ]
  },
  {
   "cell_type": "markdown",
   "metadata": {},
   "source": [
    "### Шаг 1. Откройте файл с данными и изучите общую информацию. "
   ]
  },
  {
   "cell_type": "code",
   "execution_count": 1,
   "metadata": {},
   "outputs": [
    {
     "name": "stdout",
     "output_type": "stream",
     "text": [
      "<class 'pandas.core.frame.DataFrame'>\n",
      "RangeIndex: 21525 entries, 0 to 21524\n",
      "Data columns (total 12 columns):\n",
      "children            21525 non-null int64\n",
      "days_employed       19351 non-null float64\n",
      "dob_years           21525 non-null int64\n",
      "education           21525 non-null object\n",
      "education_id        21525 non-null int64\n",
      "family_status       21525 non-null object\n",
      "family_status_id    21525 non-null int64\n",
      "gender              21525 non-null object\n",
      "income_type         21525 non-null object\n",
      "debt                21525 non-null int64\n",
      "total_income        19351 non-null float64\n",
      "purpose             21525 non-null object\n",
      "dtypes: float64(2), int64(5), object(5)\n",
      "memory usage: 2.0+ MB\n"
     ]
    },
    {
     "data": {
      "text/html": [
       "<div>\n",
       "<style scoped>\n",
       "    .dataframe tbody tr th:only-of-type {\n",
       "        vertical-align: middle;\n",
       "    }\n",
       "\n",
       "    .dataframe tbody tr th {\n",
       "        vertical-align: top;\n",
       "    }\n",
       "\n",
       "    .dataframe thead th {\n",
       "        text-align: right;\n",
       "    }\n",
       "</style>\n",
       "<table border=\"1\" class=\"dataframe\">\n",
       "  <thead>\n",
       "    <tr style=\"text-align: right;\">\n",
       "      <th></th>\n",
       "      <th>children</th>\n",
       "      <th>days_employed</th>\n",
       "      <th>dob_years</th>\n",
       "      <th>education</th>\n",
       "      <th>education_id</th>\n",
       "      <th>family_status</th>\n",
       "      <th>family_status_id</th>\n",
       "      <th>gender</th>\n",
       "      <th>income_type</th>\n",
       "      <th>debt</th>\n",
       "      <th>total_income</th>\n",
       "      <th>purpose</th>\n",
       "    </tr>\n",
       "  </thead>\n",
       "  <tbody>\n",
       "    <tr>\n",
       "      <td>0</td>\n",
       "      <td>1</td>\n",
       "      <td>-8437.673028</td>\n",
       "      <td>42</td>\n",
       "      <td>высшее</td>\n",
       "      <td>0</td>\n",
       "      <td>женат / замужем</td>\n",
       "      <td>0</td>\n",
       "      <td>F</td>\n",
       "      <td>сотрудник</td>\n",
       "      <td>0</td>\n",
       "      <td>253875.639453</td>\n",
       "      <td>покупка жилья</td>\n",
       "    </tr>\n",
       "    <tr>\n",
       "      <td>1</td>\n",
       "      <td>1</td>\n",
       "      <td>-4024.803754</td>\n",
       "      <td>36</td>\n",
       "      <td>среднее</td>\n",
       "      <td>1</td>\n",
       "      <td>женат / замужем</td>\n",
       "      <td>0</td>\n",
       "      <td>F</td>\n",
       "      <td>сотрудник</td>\n",
       "      <td>0</td>\n",
       "      <td>112080.014102</td>\n",
       "      <td>приобретение автомобиля</td>\n",
       "    </tr>\n",
       "    <tr>\n",
       "      <td>2</td>\n",
       "      <td>0</td>\n",
       "      <td>-5623.422610</td>\n",
       "      <td>33</td>\n",
       "      <td>Среднее</td>\n",
       "      <td>1</td>\n",
       "      <td>женат / замужем</td>\n",
       "      <td>0</td>\n",
       "      <td>M</td>\n",
       "      <td>сотрудник</td>\n",
       "      <td>0</td>\n",
       "      <td>145885.952297</td>\n",
       "      <td>покупка жилья</td>\n",
       "    </tr>\n",
       "    <tr>\n",
       "      <td>3</td>\n",
       "      <td>3</td>\n",
       "      <td>-4124.747207</td>\n",
       "      <td>32</td>\n",
       "      <td>среднее</td>\n",
       "      <td>1</td>\n",
       "      <td>женат / замужем</td>\n",
       "      <td>0</td>\n",
       "      <td>M</td>\n",
       "      <td>сотрудник</td>\n",
       "      <td>0</td>\n",
       "      <td>267628.550329</td>\n",
       "      <td>дополнительное образование</td>\n",
       "    </tr>\n",
       "    <tr>\n",
       "      <td>4</td>\n",
       "      <td>0</td>\n",
       "      <td>340266.072047</td>\n",
       "      <td>53</td>\n",
       "      <td>среднее</td>\n",
       "      <td>1</td>\n",
       "      <td>гражданский брак</td>\n",
       "      <td>1</td>\n",
       "      <td>F</td>\n",
       "      <td>пенсионер</td>\n",
       "      <td>0</td>\n",
       "      <td>158616.077870</td>\n",
       "      <td>сыграть свадьбу</td>\n",
       "    </tr>\n",
       "    <tr>\n",
       "      <td>5</td>\n",
       "      <td>0</td>\n",
       "      <td>-926.185831</td>\n",
       "      <td>27</td>\n",
       "      <td>высшее</td>\n",
       "      <td>0</td>\n",
       "      <td>гражданский брак</td>\n",
       "      <td>1</td>\n",
       "      <td>M</td>\n",
       "      <td>компаньон</td>\n",
       "      <td>0</td>\n",
       "      <td>255763.565419</td>\n",
       "      <td>покупка жилья</td>\n",
       "    </tr>\n",
       "    <tr>\n",
       "      <td>6</td>\n",
       "      <td>0</td>\n",
       "      <td>-2879.202052</td>\n",
       "      <td>43</td>\n",
       "      <td>высшее</td>\n",
       "      <td>0</td>\n",
       "      <td>женат / замужем</td>\n",
       "      <td>0</td>\n",
       "      <td>F</td>\n",
       "      <td>компаньон</td>\n",
       "      <td>0</td>\n",
       "      <td>240525.971920</td>\n",
       "      <td>операции с жильем</td>\n",
       "    </tr>\n",
       "    <tr>\n",
       "      <td>7</td>\n",
       "      <td>0</td>\n",
       "      <td>-152.779569</td>\n",
       "      <td>50</td>\n",
       "      <td>СРЕДНЕЕ</td>\n",
       "      <td>1</td>\n",
       "      <td>женат / замужем</td>\n",
       "      <td>0</td>\n",
       "      <td>M</td>\n",
       "      <td>сотрудник</td>\n",
       "      <td>0</td>\n",
       "      <td>135823.934197</td>\n",
       "      <td>образование</td>\n",
       "    </tr>\n",
       "    <tr>\n",
       "      <td>8</td>\n",
       "      <td>2</td>\n",
       "      <td>-6929.865299</td>\n",
       "      <td>35</td>\n",
       "      <td>ВЫСШЕЕ</td>\n",
       "      <td>0</td>\n",
       "      <td>гражданский брак</td>\n",
       "      <td>1</td>\n",
       "      <td>F</td>\n",
       "      <td>сотрудник</td>\n",
       "      <td>0</td>\n",
       "      <td>95856.832424</td>\n",
       "      <td>на проведение свадьбы</td>\n",
       "    </tr>\n",
       "    <tr>\n",
       "      <td>9</td>\n",
       "      <td>0</td>\n",
       "      <td>-2188.756445</td>\n",
       "      <td>41</td>\n",
       "      <td>среднее</td>\n",
       "      <td>1</td>\n",
       "      <td>женат / замужем</td>\n",
       "      <td>0</td>\n",
       "      <td>M</td>\n",
       "      <td>сотрудник</td>\n",
       "      <td>0</td>\n",
       "      <td>144425.938277</td>\n",
       "      <td>покупка жилья для семьи</td>\n",
       "    </tr>\n",
       "  </tbody>\n",
       "</table>\n",
       "</div>"
      ],
      "text/plain": [
       "   children  days_employed  dob_years education  education_id  \\\n",
       "0         1   -8437.673028         42    высшее             0   \n",
       "1         1   -4024.803754         36   среднее             1   \n",
       "2         0   -5623.422610         33   Среднее             1   \n",
       "3         3   -4124.747207         32   среднее             1   \n",
       "4         0  340266.072047         53   среднее             1   \n",
       "5         0    -926.185831         27    высшее             0   \n",
       "6         0   -2879.202052         43    высшее             0   \n",
       "7         0    -152.779569         50   СРЕДНЕЕ             1   \n",
       "8         2   -6929.865299         35    ВЫСШЕЕ             0   \n",
       "9         0   -2188.756445         41   среднее             1   \n",
       "\n",
       "      family_status  family_status_id gender income_type  debt   total_income  \\\n",
       "0   женат / замужем                 0      F   сотрудник     0  253875.639453   \n",
       "1   женат / замужем                 0      F   сотрудник     0  112080.014102   \n",
       "2   женат / замужем                 0      M   сотрудник     0  145885.952297   \n",
       "3   женат / замужем                 0      M   сотрудник     0  267628.550329   \n",
       "4  гражданский брак                 1      F   пенсионер     0  158616.077870   \n",
       "5  гражданский брак                 1      M   компаньон     0  255763.565419   \n",
       "6   женат / замужем                 0      F   компаньон     0  240525.971920   \n",
       "7   женат / замужем                 0      M   сотрудник     0  135823.934197   \n",
       "8  гражданский брак                 1      F   сотрудник     0   95856.832424   \n",
       "9   женат / замужем                 0      M   сотрудник     0  144425.938277   \n",
       "\n",
       "                      purpose  \n",
       "0               покупка жилья  \n",
       "1     приобретение автомобиля  \n",
       "2               покупка жилья  \n",
       "3  дополнительное образование  \n",
       "4             сыграть свадьбу  \n",
       "5               покупка жилья  \n",
       "6           операции с жильем  \n",
       "7                 образование  \n",
       "8       на проведение свадьбы  \n",
       "9     покупка жилья для семьи  "
      ]
     },
     "metadata": {},
     "output_type": "display_data"
    }
   ],
   "source": [
    "import pandas as pd # импортируем библиотеку pandas\n",
    "data = pd.read_csv('/datasets/data.csv') # открываем датафрейм с данными о заемщиках\n",
    "data.info() # просматриваем общие сведения об имеющихся данных\n",
    "display(data.head(10)) # выводим первые 10 строк таблицы для изучения"
   ]
  },
  {
   "cell_type": "code",
   "execution_count": 87,
   "metadata": {},
   "outputs": [
    {
     "data": {
      "text/plain": [
       "children               0\n",
       "days_employed       2174\n",
       "dob_years              0\n",
       "education              0\n",
       "education_id           0\n",
       "family_status          0\n",
       "family_status_id       0\n",
       "gender                 0\n",
       "income_type            0\n",
       "debt                   0\n",
       "total_income        2174\n",
       "purpose                0\n",
       "dtype: int64"
      ]
     },
     "execution_count": 87,
     "metadata": {},
     "output_type": "execute_result"
    }
   ],
   "source": [
    "data.isnull().sum() # проверим на наличие пропусков"
   ]
  },
  {
   "cell_type": "code",
   "execution_count": 88,
   "metadata": {},
   "outputs": [
    {
     "data": {
      "text/html": [
       "<div>\n",
       "<style scoped>\n",
       "    .dataframe tbody tr th:only-of-type {\n",
       "        vertical-align: middle;\n",
       "    }\n",
       "\n",
       "    .dataframe tbody tr th {\n",
       "        vertical-align: top;\n",
       "    }\n",
       "\n",
       "    .dataframe thead th {\n",
       "        text-align: right;\n",
       "    }\n",
       "</style>\n",
       "<table border=\"1\" class=\"dataframe\">\n",
       "  <thead>\n",
       "    <tr style=\"text-align: right;\">\n",
       "      <th></th>\n",
       "      <th>children</th>\n",
       "      <th>days_employed</th>\n",
       "      <th>dob_years</th>\n",
       "      <th>education_id</th>\n",
       "      <th>family_status_id</th>\n",
       "      <th>debt</th>\n",
       "      <th>total_income</th>\n",
       "    </tr>\n",
       "  </thead>\n",
       "  <tbody>\n",
       "    <tr>\n",
       "      <td>count</td>\n",
       "      <td>21525.000000</td>\n",
       "      <td>19351.000000</td>\n",
       "      <td>21525.000000</td>\n",
       "      <td>21525.000000</td>\n",
       "      <td>21525.000000</td>\n",
       "      <td>21525.000000</td>\n",
       "      <td>1.935100e+04</td>\n",
       "    </tr>\n",
       "    <tr>\n",
       "      <td>mean</td>\n",
       "      <td>0.538908</td>\n",
       "      <td>63046.497661</td>\n",
       "      <td>43.293380</td>\n",
       "      <td>0.817236</td>\n",
       "      <td>0.972544</td>\n",
       "      <td>0.080883</td>\n",
       "      <td>1.674223e+05</td>\n",
       "    </tr>\n",
       "    <tr>\n",
       "      <td>std</td>\n",
       "      <td>1.381587</td>\n",
       "      <td>140827.311974</td>\n",
       "      <td>12.574584</td>\n",
       "      <td>0.548138</td>\n",
       "      <td>1.420324</td>\n",
       "      <td>0.272661</td>\n",
       "      <td>1.029716e+05</td>\n",
       "    </tr>\n",
       "    <tr>\n",
       "      <td>min</td>\n",
       "      <td>-1.000000</td>\n",
       "      <td>-18388.949901</td>\n",
       "      <td>0.000000</td>\n",
       "      <td>0.000000</td>\n",
       "      <td>0.000000</td>\n",
       "      <td>0.000000</td>\n",
       "      <td>2.066726e+04</td>\n",
       "    </tr>\n",
       "    <tr>\n",
       "      <td>25%</td>\n",
       "      <td>0.000000</td>\n",
       "      <td>-2747.423625</td>\n",
       "      <td>33.000000</td>\n",
       "      <td>1.000000</td>\n",
       "      <td>0.000000</td>\n",
       "      <td>0.000000</td>\n",
       "      <td>1.030532e+05</td>\n",
       "    </tr>\n",
       "    <tr>\n",
       "      <td>50%</td>\n",
       "      <td>0.000000</td>\n",
       "      <td>-1203.369529</td>\n",
       "      <td>42.000000</td>\n",
       "      <td>1.000000</td>\n",
       "      <td>0.000000</td>\n",
       "      <td>0.000000</td>\n",
       "      <td>1.450179e+05</td>\n",
       "    </tr>\n",
       "    <tr>\n",
       "      <td>75%</td>\n",
       "      <td>1.000000</td>\n",
       "      <td>-291.095954</td>\n",
       "      <td>53.000000</td>\n",
       "      <td>1.000000</td>\n",
       "      <td>1.000000</td>\n",
       "      <td>0.000000</td>\n",
       "      <td>2.034351e+05</td>\n",
       "    </tr>\n",
       "    <tr>\n",
       "      <td>max</td>\n",
       "      <td>20.000000</td>\n",
       "      <td>401755.400475</td>\n",
       "      <td>75.000000</td>\n",
       "      <td>4.000000</td>\n",
       "      <td>4.000000</td>\n",
       "      <td>1.000000</td>\n",
       "      <td>2.265604e+06</td>\n",
       "    </tr>\n",
       "  </tbody>\n",
       "</table>\n",
       "</div>"
      ],
      "text/plain": [
       "           children  days_employed     dob_years  education_id  \\\n",
       "count  21525.000000   19351.000000  21525.000000  21525.000000   \n",
       "mean       0.538908   63046.497661     43.293380      0.817236   \n",
       "std        1.381587  140827.311974     12.574584      0.548138   \n",
       "min       -1.000000  -18388.949901      0.000000      0.000000   \n",
       "25%        0.000000   -2747.423625     33.000000      1.000000   \n",
       "50%        0.000000   -1203.369529     42.000000      1.000000   \n",
       "75%        1.000000    -291.095954     53.000000      1.000000   \n",
       "max       20.000000  401755.400475     75.000000      4.000000   \n",
       "\n",
       "       family_status_id          debt  total_income  \n",
       "count      21525.000000  21525.000000  1.935100e+04  \n",
       "mean           0.972544      0.080883  1.674223e+05  \n",
       "std            1.420324      0.272661  1.029716e+05  \n",
       "min            0.000000      0.000000  2.066726e+04  \n",
       "25%            0.000000      0.000000  1.030532e+05  \n",
       "50%            0.000000      0.000000  1.450179e+05  \n",
       "75%            1.000000      0.000000  2.034351e+05  \n",
       "max            4.000000      1.000000  2.265604e+06  "
      ]
     },
     "execution_count": 88,
     "metadata": {},
     "output_type": "execute_result"
    }
   ],
   "source": [
    "data.describe() # проанализируем имеющиеся данные методом describe"
   ]
  },
  {
   "cell_type": "code",
   "execution_count": 89,
   "metadata": {},
   "outputs": [
    {
     "name": "stdout",
     "output_type": "stream",
     "text": [
      " 0     14149\n",
      " 1      4818\n",
      " 2      2055\n",
      " 3       330\n",
      " 20       76\n",
      "-1        47\n",
      " 4        41\n",
      " 5         9\n",
      "Name: children, dtype: int64\n"
     ]
    }
   ],
   "source": [
    "print(data['children'].value_counts()) # обнаружены артефакты в виде -1 и 20 детей"
   ]
  },
  {
   "cell_type": "code",
   "execution_count": 90,
   "metadata": {},
   "outputs": [
    {
     "name": "stdout",
     "output_type": "stream",
     "text": [
      "0     101\n",
      "68     99\n",
      "69     85\n",
      "70     65\n",
      "71     58\n",
      "20     51\n",
      "72     33\n",
      "19     14\n",
      "73      8\n",
      "74      6\n",
      "75      1\n",
      "Name: dob_years, dtype: int64\n"
     ]
    }
   ],
   "source": [
    "print(data['dob_years'].value_counts().tail(11)) # обнаружены артефакты в виде 101 заемщика с 0 возрастом"
   ]
  },
  {
   "cell_type": "markdown",
   "metadata": {},
   "source": [
    "### Вывод"
   ]
  },
  {
   "cell_type": "markdown",
   "metadata": {},
   "source": [
    "В результате анализа общей информации о данных удалось сформировать следующие выводы:\n",
    "1. В столбцах 'days_employed' и 'total_income' присутствуют по 2174 пустых ячеек, принимая во внимание специфику банковской деятельности, представляется крайне маловероятным что 10% кредитной массы выдано заемщикам без дохода или трудового стажа. Возможно произошла ошибка при выгрузке данных, заполним пустые значения в данных необходимых для предмета текущего исследования.\n",
    "2. Столбцы 'total_income' и 'days_employed' имеют тип данных float64, можно 'облегчить' данные преобразовав их в int64.\n",
    "3. Данные в столбце education обладают разным регистром.\n",
    "4. В столбцах 'children', 'dob_years' - присутствуют аномально высокие и низкие значения, которые могут быть следствием ошибки при выгрузке данных или ошибки при их вводе. Учитывая что число аномальных данных в общей массе не превышает 1% можно убрать все строки с 'артефактами', чтобы не искажать результаты исследования.\n",
    "5. В столбце 'days_employed' присутствуют отрицательные значения, которых там быть не должно, а также значения, которые превышают продолжительность человеческой жизни, что ни как не может быть соотнесено с количеством дней трудового стажа. Можно предположить, что у заказчика при вводе данных присутствует некий алгоритм для расчета или обработки трудвого стажа, что при выгрузке и привело к массовому появлению анмальных значений. Поскольку в рамках текущего исследования, для ответа на поставленные вопросы, данные столбца 'days_employed' не требуются, принято решение отказаться от его дальнейшего анализа.\n",
    "\n",
    "\n"
   ]
  },
  {
   "cell_type": "markdown",
   "metadata": {},
   "source": [
    "### Шаг 2. Предобработка данных"
   ]
  },
  {
   "cell_type": "markdown",
   "metadata": {},
   "source": [
    "### Обработка пропусков"
   ]
  },
  {
   "cell_type": "code",
   "execution_count": 91,
   "metadata": {},
   "outputs": [
    {
     "data": {
      "text/plain": [
       "2174"
      ]
     },
     "execution_count": 91,
     "metadata": {},
     "output_type": "execute_result"
    }
   ],
   "source": [
    "data['total_income'].isnull().sum()# В столбце 'total_income' обнаружено 2174 пустых ячеек"
   ]
  },
  {
   "cell_type": "code",
   "execution_count": 92,
   "metadata": {},
   "outputs": [
    {
     "name": "stdout",
     "output_type": "stream",
     "text": [
      "145017.93753253992\n"
     ]
    }
   ],
   "source": [
    "income_median = data['total_income'].median() # Находим медианное значение в столбце 'total_income'\n",
    "print(income_median) "
   ]
  },
  {
   "cell_type": "code",
   "execution_count": 93,
   "metadata": {},
   "outputs": [
    {
     "name": "stdout",
     "output_type": "stream",
     "text": [
      "167422.30220817294\n"
     ]
    }
   ],
   "source": [
    "income_mean = data['total_income'].mean() # Находим среднее арифметическое значение в столбце 'total_income'\n",
    "print(income_mean) "
   ]
  },
  {
   "cell_type": "code",
   "execution_count": 94,
   "metadata": {},
   "outputs": [
    {
     "data": {
      "text/plain": [
       "0"
      ]
     },
     "execution_count": 94,
     "metadata": {},
     "output_type": "execute_result"
    }
   ],
   "source": [
    "data['total_income'] = data['total_income'].fillna(income_median) # Заменим все нулевые значения в столбце 'total_income' на среднее медианное \n",
    "data['total_income'].isnull().sum() # проверяем, пропуски устранены"
   ]
  },
  {
   "cell_type": "markdown",
   "metadata": {},
   "source": [
    "### Вывод"
   ]
  },
  {
   "cell_type": "markdown",
   "metadata": {},
   "source": [
    "Для столбца total_income было найдено медианное (156105.0) и среднее арифметическое (167421.8) значение всего стобца total_income. В результате, для заполнения пропусков было выбрано медианное значение, как наименее подверженное влиянию \"больших\" чисел и как следствие менее искажающие результаты анализа."
   ]
  },
  {
   "cell_type": "markdown",
   "metadata": {},
   "source": [
    "### Замена типа данных"
   ]
  },
  {
   "cell_type": "code",
   "execution_count": 95,
   "metadata": {},
   "outputs": [
    {
     "name": "stdout",
     "output_type": "stream",
     "text": [
      "<class 'pandas.core.frame.DataFrame'>\n",
      "RangeIndex: 21525 entries, 0 to 21524\n",
      "Data columns (total 12 columns):\n",
      "children            21525 non-null int64\n",
      "days_employed       19351 non-null float64\n",
      "dob_years           21525 non-null int64\n",
      "education           21525 non-null object\n",
      "education_id        21525 non-null int64\n",
      "family_status       21525 non-null object\n",
      "family_status_id    21525 non-null int64\n",
      "gender              21525 non-null object\n",
      "income_type         21525 non-null object\n",
      "debt                21525 non-null int64\n",
      "total_income        21525 non-null int64\n",
      "purpose             21525 non-null object\n",
      "dtypes: float64(1), int64(6), object(5)\n",
      "memory usage: 2.0+ MB\n"
     ]
    }
   ],
   "source": [
    "data['total_income'] = data['total_income'].astype('int') # Заменим тип данных в столбце 'total_income' с float64 на int64\n",
    "data.info() # Проверяем, тип данных изменен"
   ]
  },
  {
   "cell_type": "code",
   "execution_count": 96,
   "metadata": {},
   "outputs": [
    {
     "name": "stdout",
     "output_type": "stream",
     "text": [
      " 0     14149\n",
      " 1      4818\n",
      " 2      2055\n",
      " 3       330\n",
      " 20       76\n",
      "-1        47\n",
      " 4        41\n",
      " 5         9\n",
      "Name: children, dtype: int64\n"
     ]
    }
   ],
   "source": [
    "print(data['children'].value_counts()) # В столбце'children' пристуствуют аномальные данные, в том числе отрицательное количество детей"
   ]
  },
  {
   "cell_type": "code",
   "execution_count": 97,
   "metadata": {},
   "outputs": [
    {
     "name": "stdout",
     "output_type": "stream",
     "text": [
      "0.0    14149\n",
      "1.0     4818\n",
      "2.0     2055\n",
      "3.0      330\n",
      "4.0       41\n",
      "5.0        9\n",
      "Name: children, dtype: int64\n"
     ]
    }
   ],
   "source": [
    "def children_anomaly(row): # Создадим функцию, чтобы убрать аномальные значения в столбце 'children'\n",
    "    children=row['children'] \n",
    "    if children <= 5: \n",
    "        if children >= 0: \n",
    "            return children\n",
    "data['children']=data.apply(children_anomaly, axis=1)\n",
    "print(data['children'].value_counts())"
   ]
  },
  {
   "cell_type": "markdown",
   "metadata": {},
   "source": [
    "### Вывод"
   ]
  },
  {
   "cell_type": "markdown",
   "metadata": {},
   "source": [
    "1. Для столбца 'total_income' мы изменили тип данных, что помимо снижения размера файла позволит нам в дальнейшем работать именно с целыми числами, что всегда удобнее.\n",
    "2. Для удаления из столбца 'children' аномальных значений была написана функция 'children_anomaly'. Аномальными было решено считать данные с количесвтом детей, превышающих 5 и меньше 0. Так как количество данных признаных аномальными в столбце 'children' меньше 1% от общего числа детей, их удаление не повлияет на качество последующего анализа.  "
   ]
  },
  {
   "cell_type": "markdown",
   "metadata": {},
   "source": [
    "### Обработка дубликатов"
   ]
  },
  {
   "cell_type": "code",
   "execution_count": 98,
   "metadata": {},
   "outputs": [
    {
     "name": "stdout",
     "output_type": "stream",
     "text": [
      "среднее                13750\n",
      "высшее                  4718\n",
      "СРЕДНЕЕ                  772\n",
      "Среднее                  711\n",
      "неоконченное высшее      668\n",
      "ВЫСШЕЕ                   274\n",
      "Высшее                   268\n",
      "начальное                250\n",
      "Неоконченное высшее       47\n",
      "НЕОКОНЧЕННОЕ ВЫСШЕЕ       29\n",
      "НАЧАЛЬНОЕ                 17\n",
      "Начальное                 15\n",
      "ученая степень             4\n",
      "Ученая степень             1\n",
      "УЧЕНАЯ СТЕПЕНЬ             1\n",
      "Name: education, dtype: int64\n"
     ]
    }
   ],
   "source": [
    "print(data['education'].value_counts()) # В столбце 'education' обнаружены данные в разном регистре"
   ]
  },
  {
   "cell_type": "code",
   "execution_count": 99,
   "metadata": {},
   "outputs": [],
   "source": [
    "data['education'] = data['education'].str.lower() # Приведем данные в столбце 'education' к нижнему регистру"
   ]
  },
  {
   "cell_type": "code",
   "execution_count": 100,
   "metadata": {},
   "outputs": [
    {
     "name": "stdout",
     "output_type": "stream",
     "text": [
      "среднее                15233\n",
      "высшее                  5260\n",
      "неоконченное высшее      744\n",
      "начальное                282\n",
      "ученая степень             6\n",
      "Name: education, dtype: int64\n"
     ]
    }
   ],
   "source": [
    "print(data['education'].value_counts()) # Проверяем, все данные теперь в одном регистре и группируются вместе"
   ]
  },
  {
   "cell_type": "code",
   "execution_count": 101,
   "metadata": {},
   "outputs": [
    {
     "data": {
      "text/plain": [
       "71"
      ]
     },
     "execution_count": 101,
     "metadata": {},
     "output_type": "execute_result"
    }
   ],
   "source": [
    "data.duplicated().sum() # проверим данные на наличие дубликатов"
   ]
  },
  {
   "cell_type": "code",
   "execution_count": 102,
   "metadata": {},
   "outputs": [
    {
     "data": {
      "text/plain": [
       "0"
      ]
     },
     "execution_count": 102,
     "metadata": {},
     "output_type": "execute_result"
    }
   ],
   "source": [
    "data = data.drop_duplicates().reset_index(drop = True) # удалим все найденные дубликаты\n",
    "data.duplicated().sum() # проверяем, дубликаты удалены"
   ]
  },
  {
   "cell_type": "markdown",
   "metadata": {},
   "source": [
    "### Вывод"
   ]
  },
  {
   "cell_type": "markdown",
   "metadata": {},
   "source": [
    "1. В имеющихся данных был обнаружен 71 строка полностью дублирующие друг друга. Учитывая внушительное количество разнообразных и непересекающихся данных в каждой строке, представляется крайне маловероятным случайное совпадение данных в строках, даже при более чем двадцатитысячной выборке. Причины возникновения дубликатов кажутся скорее техническими и могли возникнуть в следствие ошибки операторов вносивших данные. С определенной долей вероятности можно  допустить, что 71 дубликат возникли в следствие повторных обращений клиентов банка за дополнительным кредитованием, но подтвердить данную теорию на основе имеющихся данных не представляется возможным. В любом случае, дублирующие друг друга строки представляют собой ничтожный процент от общего пула данных и их удаление ни как не отразится на результатах последующего исследования.  "
   ]
  },
  {
   "cell_type": "markdown",
   "metadata": {},
   "source": [
    "### Лемматизация"
   ]
  },
  {
   "cell_type": "code",
   "execution_count": 2,
   "metadata": {},
   "outputs": [
    {
     "data": {
      "text/html": [
       "<div>\n",
       "<style scoped>\n",
       "    .dataframe tbody tr th:only-of-type {\n",
       "        vertical-align: middle;\n",
       "    }\n",
       "\n",
       "    .dataframe tbody tr th {\n",
       "        vertical-align: top;\n",
       "    }\n",
       "\n",
       "    .dataframe thead th {\n",
       "        text-align: right;\n",
       "    }\n",
       "</style>\n",
       "<table border=\"1\" class=\"dataframe\">\n",
       "  <thead>\n",
       "    <tr style=\"text-align: right;\">\n",
       "      <th></th>\n",
       "      <th>children</th>\n",
       "      <th>family_status</th>\n",
       "      <th>family_status_id</th>\n",
       "      <th>debt</th>\n",
       "      <th>total_income</th>\n",
       "      <th>purpose</th>\n",
       "    </tr>\n",
       "  </thead>\n",
       "  <tbody>\n",
       "    <tr>\n",
       "      <td>0</td>\n",
       "      <td>1</td>\n",
       "      <td>женат / замужем</td>\n",
       "      <td>0</td>\n",
       "      <td>0</td>\n",
       "      <td>253875.639453</td>\n",
       "      <td>покупка жилья</td>\n",
       "    </tr>\n",
       "    <tr>\n",
       "      <td>1</td>\n",
       "      <td>1</td>\n",
       "      <td>женат / замужем</td>\n",
       "      <td>0</td>\n",
       "      <td>0</td>\n",
       "      <td>112080.014102</td>\n",
       "      <td>приобретение автомобиля</td>\n",
       "    </tr>\n",
       "    <tr>\n",
       "      <td>2</td>\n",
       "      <td>0</td>\n",
       "      <td>женат / замужем</td>\n",
       "      <td>0</td>\n",
       "      <td>0</td>\n",
       "      <td>145885.952297</td>\n",
       "      <td>покупка жилья</td>\n",
       "    </tr>\n",
       "    <tr>\n",
       "      <td>3</td>\n",
       "      <td>3</td>\n",
       "      <td>женат / замужем</td>\n",
       "      <td>0</td>\n",
       "      <td>0</td>\n",
       "      <td>267628.550329</td>\n",
       "      <td>дополнительное образование</td>\n",
       "    </tr>\n",
       "    <tr>\n",
       "      <td>4</td>\n",
       "      <td>0</td>\n",
       "      <td>гражданский брак</td>\n",
       "      <td>1</td>\n",
       "      <td>0</td>\n",
       "      <td>158616.077870</td>\n",
       "      <td>сыграть свадьбу</td>\n",
       "    </tr>\n",
       "    <tr>\n",
       "      <td>5</td>\n",
       "      <td>0</td>\n",
       "      <td>гражданский брак</td>\n",
       "      <td>1</td>\n",
       "      <td>0</td>\n",
       "      <td>255763.565419</td>\n",
       "      <td>покупка жилья</td>\n",
       "    </tr>\n",
       "    <tr>\n",
       "      <td>6</td>\n",
       "      <td>0</td>\n",
       "      <td>женат / замужем</td>\n",
       "      <td>0</td>\n",
       "      <td>0</td>\n",
       "      <td>240525.971920</td>\n",
       "      <td>операции с жильем</td>\n",
       "    </tr>\n",
       "    <tr>\n",
       "      <td>7</td>\n",
       "      <td>0</td>\n",
       "      <td>женат / замужем</td>\n",
       "      <td>0</td>\n",
       "      <td>0</td>\n",
       "      <td>135823.934197</td>\n",
       "      <td>образование</td>\n",
       "    </tr>\n",
       "    <tr>\n",
       "      <td>8</td>\n",
       "      <td>2</td>\n",
       "      <td>гражданский брак</td>\n",
       "      <td>1</td>\n",
       "      <td>0</td>\n",
       "      <td>95856.832424</td>\n",
       "      <td>на проведение свадьбы</td>\n",
       "    </tr>\n",
       "    <tr>\n",
       "      <td>9</td>\n",
       "      <td>0</td>\n",
       "      <td>женат / замужем</td>\n",
       "      <td>0</td>\n",
       "      <td>0</td>\n",
       "      <td>144425.938277</td>\n",
       "      <td>покупка жилья для семьи</td>\n",
       "    </tr>\n",
       "  </tbody>\n",
       "</table>\n",
       "</div>"
      ],
      "text/plain": [
       "   children     family_status  family_status_id  debt   total_income  \\\n",
       "0         1   женат / замужем                 0     0  253875.639453   \n",
       "1         1   женат / замужем                 0     0  112080.014102   \n",
       "2         0   женат / замужем                 0     0  145885.952297   \n",
       "3         3   женат / замужем                 0     0  267628.550329   \n",
       "4         0  гражданский брак                 1     0  158616.077870   \n",
       "5         0  гражданский брак                 1     0  255763.565419   \n",
       "6         0   женат / замужем                 0     0  240525.971920   \n",
       "7         0   женат / замужем                 0     0  135823.934197   \n",
       "8         2  гражданский брак                 1     0   95856.832424   \n",
       "9         0   женат / замужем                 0     0  144425.938277   \n",
       "\n",
       "                      purpose  \n",
       "0               покупка жилья  \n",
       "1     приобретение автомобиля  \n",
       "2               покупка жилья  \n",
       "3  дополнительное образование  \n",
       "4             сыграть свадьбу  \n",
       "5               покупка жилья  \n",
       "6           операции с жильем  \n",
       "7                 образование  \n",
       "8       на проведение свадьбы  \n",
       "9     покупка жилья для семьи  "
      ]
     },
     "metadata": {},
     "output_type": "display_data"
    }
   ],
   "source": [
    "df = data.loc[:, ['children', 'family_status', 'family_status_id', 'debt', 'total_income', 'purpose']]\n",
    "display(df.head(10)) # сформируем отдельную таблицу, включающую в себя лишь данные необходимые дле дальнейшего исследования"
   ]
  },
  {
   "cell_type": "code",
   "execution_count": 104,
   "metadata": {},
   "outputs": [
    {
     "name": "stdout",
     "output_type": "stream",
     "text": [
      "[автомобиль, \\n]                                          972\n",
      "[свадьба, \\n]                                             791\n",
      "[на,  , проведение,  , свадьба, \\n]                       768\n",
      "[сыграть,  , свадьба, \\n]                                 765\n",
      "[операция,  , с,  , недвижимость, \\n]                     675\n",
      "[покупка,  , коммерческий,  , недвижимость, \\n]           661\n",
      "[операция,  , с,  , жилье, \\n]                            652\n",
      "[покупка,  , жилье,  , для,  , сдача, \\n]                 651\n",
      "[операция,  , с,  , коммерческий,  , недвижимость, \\n]    650\n",
      "[покупка,  , жилье, \\n]                                   646\n",
      "Name: purpose_lemmas, dtype: int64\n"
     ]
    }
   ],
   "source": [
    "from pymystem3 import Mystem\n",
    "m = Mystem()\n",
    "def lemmas_data(row): # Напишем функцию для лемматизации данных в столбце 'lemmas_data'\n",
    "    purpose = row['purpose']\n",
    "    lemmas = m.lemmatize(purpose) \n",
    "    return lemmas\n",
    "df['purpose_lemmas'] = df.apply(lemmas_data, axis = 1) # Добавим лемматизированные данные к существующей таблице в столбец 'purpose_lemmas'\n",
    "print(df['purpose_lemmas'].value_counts().head(10))\n"
   ]
  },
  {
   "cell_type": "markdown",
   "metadata": {},
   "source": [
    "### Вывод"
   ]
  },
  {
   "cell_type": "markdown",
   "metadata": {},
   "source": [
    "В результате лемматизации имеющихся в столбце 'purpose' данных мы видим, что чаще всего в целях, указваемых для получения кредита, фигурируют такие слова как: автомобиль, свадьба, недвижимость, жилье."
   ]
  },
  {
   "cell_type": "markdown",
   "metadata": {},
   "source": [
    "### Категоризация данных"
   ]
  },
  {
   "cell_type": "code",
   "execution_count": 105,
   "metadata": {},
   "outputs": [
    {
     "name": "stdout",
     "output_type": "stream",
     "text": [
      "Деньги для покупки жилья    10811\n",
      "Покупка aвтомобиля           4306\n",
      "Получение образование        4013\n",
      "Деньги для свадьбы           2324\n",
      "Name: purpose_group, dtype: int64\n"
     ]
    }
   ],
   "source": [
    "def category_purpose(row): # Напишем функцию для объединения лемматизированых данных в группы\n",
    "    category_purpose_word=row['purpose_lemmas'] \n",
    "    if 'автомобиль' in category_purpose_word:\n",
    "        return 'Покупка aвтомобиля'\n",
    "    if 'образование' in category_purpose_word:\n",
    "        return 'Получение образование'\n",
    "    if 'свадьба' in category_purpose_word:\n",
    "        return 'Деньги для свадьбы'\n",
    "    return 'Деньги для покупки жилья'\n",
    "df['purpose_group']=df.apply(category_purpose, axis=1) # Добавим результат группировки в таблицу в новый столбец 'purpose_group'\n",
    "print(df['purpose_group'].value_counts())\n"
   ]
  },
  {
   "cell_type": "code",
   "execution_count": 106,
   "metadata": {},
   "outputs": [
    {
     "name": "stdout",
     "output_type": "stream",
     "text": [
      "0    19713\n",
      "1     1741\n",
      "Name: debt, dtype: int64\n"
     ]
    }
   ],
   "source": [
    "print(df['debt'].value_counts()) # Подсчитаем число просроченных кредитов\n"
   ]
  },
  {
   "cell_type": "markdown",
   "metadata": {},
   "source": [
    "### Вывод"
   ]
  },
  {
   "cell_type": "markdown",
   "metadata": {},
   "source": [
    "В результате категоризации лемматизированных данных удалось сформировать \"топ\" целей указываемых при оформлении кредита, среди которых с большим отрывом лидирует именно приобретение жилья."
   ]
  },
  {
   "cell_type": "markdown",
   "metadata": {},
   "source": [
    "### Шаг 3. Ответьте на вопросы"
   ]
  },
  {
   "cell_type": "markdown",
   "metadata": {},
   "source": [
    "- Есть ли зависимость между наличием детей и возвратом кредита в срок?"
   ]
  },
  {
   "cell_type": "code",
   "execution_count": 107,
   "metadata": {},
   "outputs": [
    {
     "name": "stdout",
     "output_type": "stream",
     "text": [
      "0.0    14091\n",
      "1.0     4808\n",
      "2.0     2052\n",
      "3.0      330\n",
      "4.0       41\n",
      "5.0        9\n",
      "Name: children, dtype: int64\n",
      "               children\n",
      "debt children          \n",
      "0    0.0          13028\n",
      "     1.0           4364\n",
      "     2.0           1858\n",
      "     3.0            303\n",
      "     4.0             37\n",
      "     5.0              9\n",
      "1    0.0           1063\n",
      "     1.0            444\n",
      "     2.0            194\n",
      "     3.0             27\n",
      "     4.0              4\n",
      "0    19713\n",
      "1     1741\n",
      "Name: debt, dtype: int64\n"
     ]
    }
   ],
   "source": [
    "print(df['children'].value_counts()) # Выведем количество детей в столбце 'children'\n",
    "# Сгруппируем данные столбцов 'debt', 'children' в таблицу 'debt_children'\n",
    "debt_children = df.groupby(['debt', 'children']).agg({'children':'count'}) \n",
    "print(debt_children)\n",
    "print(df['debt'].value_counts())\n"
   ]
  },
  {
   "cell_type": "code",
   "execution_count": 108,
   "metadata": {},
   "outputs": [
    {
     "name": "stdout",
     "output_type": "stream",
     "text": [
      "               children  percentage %\n",
      "debt children                        \n",
      "0    0.0          13028            65\n",
      "     1.0           4364            22\n",
      "     2.0           1858             9\n",
      "     3.0            303             1\n",
      "     4.0             37             0\n",
      "     5.0              9             0\n",
      "1    0.0           1063            61\n",
      "     1.0            444            25\n",
      "     2.0            194            11\n",
      "     3.0             27             1\n",
      "     4.0              4             0\n"
     ]
    }
   ],
   "source": [
    "# Добавим в таблицу 'debt_children' столбец 'percentage %' отражающий процентное соотнощение между количеством детей у заемщиков\n",
    "# от кредитной массы без просроченых платежей - 'debt = 0' (19730 кредитов) и кредитной массы с просроченными платежами -\n",
    "# - 'debt = 1' (1741 кредитов)\n",
    "\n",
    "debt_children['percentage %'] = (13044/19784*100, 4365/19784*100, 1858/19784*100, 303/19784*100, 37/19784*100, 9/19784*100, 1063/1741*100, 444/1741*100, 194/1741*100, 27/1741*100, 4/1741*100)\n",
    "debt_children['percentage %'] = debt_children['percentage %'].astype('int')# округлим до целого числа, приведем к типу данных int\n",
    "print(debt_children)"
   ]
  },
  {
   "cell_type": "markdown",
   "metadata": {},
   "source": [
    "### Вывод"
   ]
  },
  {
   "cell_type": "markdown",
   "metadata": {},
   "source": [
    "На основе полученных данных можно сделать вывод о том, что заемщики у которых нет детей чаще возвращают кредиты в срок (65% от займов выплачиваемых в срок при 61% от просроченых займов), чем заемщики с детьми (32% от займов выплачиваемых в срок при 38% от просроченых займов). Чтобы объяснить данное явление можно предположить, что у заемщиков с детьми чаще возникают срочные незапланированые расходы, что увеличивает риск несвоевременного платежа по кредиту. "
   ]
  },
  {
   "cell_type": "code",
   "execution_count": 109,
   "metadata": {},
   "outputs": [
    {
     "data": {
      "text/html": [
       "<div>\n",
       "<style scoped>\n",
       "    .dataframe tbody tr th:only-of-type {\n",
       "        vertical-align: middle;\n",
       "    }\n",
       "\n",
       "    .dataframe tbody tr th {\n",
       "        vertical-align: top;\n",
       "    }\n",
       "\n",
       "    .dataframe thead th {\n",
       "        text-align: right;\n",
       "    }\n",
       "</style>\n",
       "<table border=\"1\" class=\"dataframe\">\n",
       "  <thead>\n",
       "    <tr style=\"text-align: right;\">\n",
       "      <th></th>\n",
       "      <th>children</th>\n",
       "      <th>total</th>\n",
       "      <th>debt</th>\n",
       "      <th>debt_ratio</th>\n",
       "    </tr>\n",
       "  </thead>\n",
       "  <tbody>\n",
       "    <tr>\n",
       "      <td>5</td>\n",
       "      <td>5.0</td>\n",
       "      <td>9</td>\n",
       "      <td>0</td>\n",
       "      <td>0.00</td>\n",
       "    </tr>\n",
       "    <tr>\n",
       "      <td>0</td>\n",
       "      <td>0.0</td>\n",
       "      <td>14091</td>\n",
       "      <td>1063</td>\n",
       "      <td>7.54</td>\n",
       "    </tr>\n",
       "    <tr>\n",
       "      <td>3</td>\n",
       "      <td>3.0</td>\n",
       "      <td>330</td>\n",
       "      <td>27</td>\n",
       "      <td>8.18</td>\n",
       "    </tr>\n",
       "    <tr>\n",
       "      <td>1</td>\n",
       "      <td>1.0</td>\n",
       "      <td>4808</td>\n",
       "      <td>444</td>\n",
       "      <td>9.23</td>\n",
       "    </tr>\n",
       "    <tr>\n",
       "      <td>2</td>\n",
       "      <td>2.0</td>\n",
       "      <td>2052</td>\n",
       "      <td>194</td>\n",
       "      <td>9.45</td>\n",
       "    </tr>\n",
       "    <tr>\n",
       "      <td>4</td>\n",
       "      <td>4.0</td>\n",
       "      <td>41</td>\n",
       "      <td>4</td>\n",
       "      <td>9.76</td>\n",
       "    </tr>\n",
       "  </tbody>\n",
       "</table>\n",
       "</div>"
      ],
      "text/plain": [
       "   children  total  debt  debt_ratio\n",
       "5       5.0      9     0        0.00\n",
       "0       0.0  14091  1063        7.54\n",
       "3       3.0    330    27        8.18\n",
       "1       1.0   4808   444        9.23\n",
       "2       2.0   2052   194        9.45\n",
       "4       4.0     41     4        9.76"
      ]
     },
     "execution_count": 109,
     "metadata": {},
     "output_type": "execute_result"
    }
   ],
   "source": [
    "### Код ревьювера ### \n",
    "\n",
    "# немного дополнив твой код, можно было сразу добавить количество клиентов допустивших просрочку:\n",
    "\n",
    "debt_children_new = (df.groupby(['children'])\n",
    "                       .agg({'children':'count', 'debt':'sum'})\n",
    "                       .rename(columns={'children':'total'})\n",
    "                       .reset_index())\n",
    "\n",
    "debt_children_new['debt_ratio'] = debt_children_new['debt'] / debt_children_new['total'] * 100\n",
    "debt_children_new.round(2).sort_values('debt_ratio')\n",
    "\n",
    "\n",
    "### Код ревьювера ###"
   ]
  },
  {
   "cell_type": "code",
   "execution_count": 110,
   "metadata": {},
   "outputs": [],
   "source": [
    "children_stat=data.pivot_table(index = ['children'], columns = 'debt', values = 'family_status_id', aggfunc='count')"
   ]
  },
  {
   "cell_type": "code",
   "execution_count": 111,
   "metadata": {},
   "outputs": [],
   "source": [
    "new_columns = ['платежи в срок','просроченные платежи']\n",
    "children_stat.set_axis(new_columns, axis='columns',inplace = True)"
   ]
  },
  {
   "cell_type": "code",
   "execution_count": 126,
   "metadata": {},
   "outputs": [],
   "source": [
    "children_stat['debt_ratio'] = children_stat['просроченные платежи'] / (children_stat['просроченные платежи'] + children_stat['платежи в срок']) * 100"
   ]
  },
  {
   "cell_type": "code",
   "execution_count": 127,
   "metadata": {},
   "outputs": [
    {
     "name": "stdout",
     "output_type": "stream",
     "text": [
      "          платежи в срок  просроченные платежи  deb_ratio  debt_ratio\n",
      "children                                                             \n",
      "0.0              13028.0                1063.0       7.54        7.54\n",
      "3.0                303.0                  27.0       8.18        8.18\n",
      "1.0               4364.0                 444.0       9.23        9.23\n",
      "2.0               1858.0                 194.0       9.45        9.45\n",
      "4.0                 37.0                   4.0       9.76        9.76\n",
      "5.0                  9.0                   NaN        NaN         NaN\n"
     ]
    }
   ],
   "source": [
    "print(children_stat.round(2).sort_values('debt_ratio')) #  воот имхо это прям самый наглядный вариант при котором видно\n",
    "# количесво платаежей при обоих вариантах debt и все красиво сгруппировалось по количеству детей"
   ]
  },
  {
   "cell_type": "markdown",
   "metadata": {},
   "source": [
    "- Есть ли зависимость между семейным положением и возвратом кредита в срок?"
   ]
  },
  {
   "cell_type": "code",
   "execution_count": 114,
   "metadata": {},
   "outputs": [
    {
     "name": "stdout",
     "output_type": "stream",
     "text": [
      "family_status\n",
      "Не женат / не замужем     2810\n",
      "в разводе                 1195\n",
      "вдовец / вдова             959\n",
      "гражданский брак          4151\n",
      "женат / замужем          12339\n",
      "Name: family_status_id, dtype: int64\n",
      "family_status_id\n",
      "0    женат / замужемженат / замужемженат / замужемж...\n",
      "1    гражданский бракгражданский бракгражданский бр...\n",
      "2    вдовец / вдовавдовец / вдовавдовец / вдовавдов...\n",
      "3    в разводев разводев разводев разводев разводев...\n",
      "4    Не женат / не замужемНе женат / не замужемНе ж...\n",
      "Name: family_status, dtype: object\n",
      "                       family_status\n",
      "debt family_status_id               \n",
      "0    0                         11408\n",
      "     1                          3763\n",
      "     2                           896\n",
      "     3                          1110\n",
      "     4                          2536\n",
      "1    0                           931\n",
      "     1                           388\n",
      "     2                            63\n",
      "     3                            85\n",
      "     4                           274\n",
      "0    19713\n",
      "1     1741\n",
      "Name: debt, dtype: int64\n"
     ]
    }
   ],
   "source": [
    "print(df.groupby('family_status')['family_status_id'].count()) # Сгруппируем сеймейные статусы заемщиков \n",
    "print(df.groupby('family_status_id')['family_status'].sum()) # Соотнесем семейные статусы из столбца 'family_status' и ID семейного статуса\n",
    "# Сгруппируем данные столбцов 'family_status_id', 'family_status', 'debt' в таблицу 'df_family'\n",
    "df_family = df.loc[:, ['family_status_id', 'debt', 'family_status']]\n",
    "debt_family = df_family.groupby(['debt', 'family_status_id']).count()\n",
    "print(debt_family)\n",
    "print(df['debt'].value_counts())"
   ]
  },
  {
   "cell_type": "code",
   "execution_count": 115,
   "metadata": {},
   "outputs": [
    {
     "name": "stdout",
     "output_type": "stream",
     "text": [
      "                       family_status  percentage %\n",
      "debt family_status_id                             \n",
      "0    0                         11408            57\n",
      "     1                          3763            19\n",
      "     2                           896             4\n",
      "     3                          1110             5\n",
      "     4                          2536            12\n",
      "1    0                           931            53\n",
      "     1                           388            22\n",
      "     2                            63             3\n",
      "     3                            85             4\n",
      "     4                           274            15\n"
     ]
    }
   ],
   "source": [
    "# Добавим в таблицу 'debt_family' столбец 'percentage %' отражающий процентное соотношение между количеством детей у заемщиков\n",
    "# от кредитной массы без просроченных платежей - 'debt = 0' (19730 кредитов) и кредитной массы с просроченными платежами -\n",
    "# - 'debt = 1' (1741 кредитов)\n",
    "debt_family['percentage %'] = (11413/19784*100, 3775/19784*100, 896/19784*100, 1110/19784*100, 2536/19784*100, 931/1741*100, 388/1741*100, 63/1741*100, 85/1741*100, 274/1741*100)\n",
    "debt_family['percentage %'] = debt_family['percentage %'].astype('int')# округлим до целого числа\n",
    "print(debt_family)\n"
   ]
  },
  {
   "cell_type": "code",
   "execution_count": 116,
   "metadata": {},
   "outputs": [],
   "source": [
    "family_stat=data.pivot_table(index = ['family_status'], columns = 'debt', values = 'family_status_id', aggfunc='count')"
   ]
  },
  {
   "cell_type": "code",
   "execution_count": 117,
   "metadata": {},
   "outputs": [],
   "source": [
    "new_columns = ['платежи в срок','просроченные платежи']\n",
    "family_stat.set_axis(new_columns, axis='columns',inplace = True)"
   ]
  },
  {
   "cell_type": "code",
   "execution_count": 118,
   "metadata": {},
   "outputs": [],
   "source": [
    "family_stat['debt_ratio'] = family_stat['просроченные платежи'] / (family_stat['просроченные платежи'] + family_stat['платежи в срок']) * 100\n"
   ]
  },
  {
   "cell_type": "code",
   "execution_count": 119,
   "metadata": {},
   "outputs": [
    {
     "name": "stdout",
     "output_type": "stream",
     "text": [
      "                       платежи в срок  просроченные платежи  debt_ratio\n",
      "family_status                                                          \n",
      "Не женат / не замужем            2536                   274    9.750890\n",
      "в разводе                        1110                    85    7.112971\n",
      "вдовец / вдова                    896                    63    6.569343\n",
      "гражданский брак                 3763                   388    9.347145\n",
      "женат / замужем                 11408                   931    7.545182\n"
     ]
    }
   ],
   "source": [
    "print(family_stat)"
   ]
  },
  {
   "cell_type": "code",
   "execution_count": 120,
   "metadata": {},
   "outputs": [
    {
     "data": {
      "text/html": [
       "<div>\n",
       "<style scoped>\n",
       "    .dataframe tbody tr th:only-of-type {\n",
       "        vertical-align: middle;\n",
       "    }\n",
       "\n",
       "    .dataframe tbody tr th {\n",
       "        vertical-align: top;\n",
       "    }\n",
       "\n",
       "    .dataframe thead th {\n",
       "        text-align: right;\n",
       "    }\n",
       "</style>\n",
       "<table border=\"1\" class=\"dataframe\">\n",
       "  <thead>\n",
       "    <tr style=\"text-align: right;\">\n",
       "      <th></th>\n",
       "      <th>платежи в срок</th>\n",
       "      <th>просроченные платежи</th>\n",
       "      <th>debt_ratio</th>\n",
       "    </tr>\n",
       "    <tr>\n",
       "      <th>family_status</th>\n",
       "      <th></th>\n",
       "      <th></th>\n",
       "      <th></th>\n",
       "    </tr>\n",
       "  </thead>\n",
       "  <tbody>\n",
       "    <tr>\n",
       "      <td>вдовец / вдова</td>\n",
       "      <td>896</td>\n",
       "      <td>63</td>\n",
       "      <td>6.57</td>\n",
       "    </tr>\n",
       "    <tr>\n",
       "      <td>в разводе</td>\n",
       "      <td>1110</td>\n",
       "      <td>85</td>\n",
       "      <td>7.11</td>\n",
       "    </tr>\n",
       "    <tr>\n",
       "      <td>женат / замужем</td>\n",
       "      <td>11408</td>\n",
       "      <td>931</td>\n",
       "      <td>7.55</td>\n",
       "    </tr>\n",
       "    <tr>\n",
       "      <td>гражданский брак</td>\n",
       "      <td>3763</td>\n",
       "      <td>388</td>\n",
       "      <td>9.35</td>\n",
       "    </tr>\n",
       "    <tr>\n",
       "      <td>Не женат / не замужем</td>\n",
       "      <td>2536</td>\n",
       "      <td>274</td>\n",
       "      <td>9.75</td>\n",
       "    </tr>\n",
       "  </tbody>\n",
       "</table>\n",
       "</div>"
      ],
      "text/plain": [
       "                       платежи в срок  просроченные платежи  debt_ratio\n",
       "family_status                                                          \n",
       "вдовец / вдова                    896                    63        6.57\n",
       "в разводе                        1110                    85        7.11\n",
       "женат / замужем                 11408                   931        7.55\n",
       "гражданский брак                 3763                   388        9.35\n",
       "Не женат / не замужем            2536                   274        9.75"
      ]
     },
     "execution_count": 120,
     "metadata": {},
     "output_type": "execute_result"
    }
   ],
   "source": [
    "family_stat.round(2).sort_values('debt_ratio')"
   ]
  },
  {
   "cell_type": "markdown",
   "metadata": {},
   "source": [
    "### Вывод"
   ]
  },
  {
   "cell_type": "markdown",
   "metadata": {},
   "source": [
    "На основе полученных данных можно сделать вывод, о том что женатые/замужние заемщики чаще возвращают кредиты в срок (57% от займов выплачиваемых в срок при 53% от просроченых займов), чем холостые (12% от займов выплачиваемых в срок при 15% от просроченых займов).\n",
    "Данный вывод подтверждает наблюдение о том что наличие семьи увеличивает социальную ответственность человека в целом."
   ]
  },
  {
   "cell_type": "markdown",
   "metadata": {},
   "source": [
    "- Есть ли зависимость между уровнем дохода и возвратом кредита в срок?"
   ]
  },
  {
   "cell_type": "code",
   "execution_count": 121,
   "metadata": {},
   "outputs": [
    {
     "name": "stdout",
     "output_type": "stream",
     "text": [
      "                        income_categories\n",
      "debt income_categories                   \n",
      "0    high_inc                        4211\n",
      "     low_inc                         3760\n",
      "     medium_inc                     10896\n",
      "     very_high_inc                    497\n",
      "     very_low_inc                     349\n",
      "1    high_inc                         327\n",
      "     low_inc                          331\n",
      "     medium_inc                      1029\n",
      "     very_high_inc                     31\n",
      "     very_low_inc                      23\n",
      "0    19713\n",
      "1     1741\n",
      "Name: debt, dtype: int64\n"
     ]
    }
   ],
   "source": [
    "def income_category(row): # Напишем функцию для категоризации заемщиков в зависимости от уровня доходов\n",
    "     if row <= 50000:  # Доход меньше 50тысяч - очень низкий\n",
    "       return 'very_low_inc'\n",
    "     elif 50000 < row <= 100000:\n",
    "       return 'low_inc' # Доход от 50 до 100 тысяч - низкий\n",
    "     elif 100000 < row <= 200000:\n",
    "       return 'medium_inc' # Доход от 100 до 200 тысяч - средний\n",
    "     elif 200000 < row <= 400000:\n",
    "       return 'high_inc' # Доход от 200 до 400 тысяч - высокий\n",
    "     else:\n",
    "       return 'very_high_inc' # Доход свыше 400 тысяч - очень высокий\n",
    "df['income_categories'] = df['total_income'].apply(income_category)\n",
    "# Применим функцию получившуюся 'income_category' к столбцам 'debt' и 'income_categories', результат сохраним в \"debt_income\"\n",
    "debt_income = df.groupby(['debt', 'income_categories']).agg({'income_categories':'count'}) \n",
    "print(debt_income)\n",
    "print(df['debt'].value_counts())"
   ]
  },
  {
   "cell_type": "code",
   "execution_count": 122,
   "metadata": {},
   "outputs": [
    {
     "name": "stdout",
     "output_type": "stream",
     "text": [
      "                        income_categories  percentage %\n",
      "debt income_categories                                 \n",
      "0    high_inc                        4211            21\n",
      "     low_inc                         3760            19\n",
      "     medium_inc                     10896            55\n",
      "     very_high_inc                    497             2\n",
      "     very_low_inc                     349             1\n",
      "1    high_inc                         327            18\n",
      "     low_inc                          331            19\n",
      "     medium_inc                      1029            59\n",
      "     very_high_inc                     31             1\n",
      "     very_low_inc                      23             1\n"
     ]
    }
   ],
   "source": [
    "# Добавим в таблицу 'debt_income' столбец 'percentage %' отражающий процентное соотношение между количеством детей у заемщиков\n",
    "# от кредитной массы без просроченных платежей - 'debt = 0' (19730 кредитов) и кредитной массы с просроченными платежами -\n",
    "# - 'debt = 1' (1741 кредитов)\n",
    "debt_income['percentage %'] = (4211/19784*100, 3760/19784*100, 10913/19784*100, 497/19784*100, 349/19784*100, 327/1741*100, 331/1741*100, 1029/1741*100, 31/1741*100, 23/1741*100)\n",
    "debt_income['percentage %'] = debt_income['percentage %'].astype('int')# округлим до целого числа\n",
    "print(debt_income)\n"
   ]
  },
  {
   "cell_type": "code",
   "execution_count": 123,
   "metadata": {},
   "outputs": [
    {
     "data": {
      "text/html": [
       "<div>\n",
       "<style scoped>\n",
       "    .dataframe tbody tr th:only-of-type {\n",
       "        vertical-align: middle;\n",
       "    }\n",
       "\n",
       "    .dataframe tbody tr th {\n",
       "        vertical-align: top;\n",
       "    }\n",
       "\n",
       "    .dataframe thead th {\n",
       "        text-align: right;\n",
       "    }\n",
       "</style>\n",
       "<table border=\"1\" class=\"dataframe\">\n",
       "  <thead>\n",
       "    <tr style=\"text-align: right;\">\n",
       "      <th></th>\n",
       "      <th>платежи в срок</th>\n",
       "      <th>просроченные платежи</th>\n",
       "      <th>debt_ratio</th>\n",
       "    </tr>\n",
       "    <tr>\n",
       "      <th>income_categories</th>\n",
       "      <th></th>\n",
       "      <th></th>\n",
       "      <th></th>\n",
       "    </tr>\n",
       "  </thead>\n",
       "  <tbody>\n",
       "    <tr>\n",
       "      <td>very_high_inc</td>\n",
       "      <td>497</td>\n",
       "      <td>31</td>\n",
       "      <td>5.87</td>\n",
       "    </tr>\n",
       "    <tr>\n",
       "      <td>very_low_inc</td>\n",
       "      <td>349</td>\n",
       "      <td>23</td>\n",
       "      <td>6.18</td>\n",
       "    </tr>\n",
       "    <tr>\n",
       "      <td>high_inc</td>\n",
       "      <td>4211</td>\n",
       "      <td>327</td>\n",
       "      <td>7.21</td>\n",
       "    </tr>\n",
       "    <tr>\n",
       "      <td>low_inc</td>\n",
       "      <td>3760</td>\n",
       "      <td>331</td>\n",
       "      <td>8.09</td>\n",
       "    </tr>\n",
       "    <tr>\n",
       "      <td>medium_inc</td>\n",
       "      <td>10896</td>\n",
       "      <td>1029</td>\n",
       "      <td>8.63</td>\n",
       "    </tr>\n",
       "  </tbody>\n",
       "</table>\n",
       "</div>"
      ],
      "text/plain": [
       "                   платежи в срок  просроченные платежи  debt_ratio\n",
       "income_categories                                                  \n",
       "very_high_inc                 497                    31        5.87\n",
       "very_low_inc                  349                    23        6.18\n",
       "high_inc                     4211                   327        7.21\n",
       "low_inc                      3760                   331        8.09\n",
       "medium_inc                  10896                  1029        8.63"
      ]
     },
     "execution_count": 123,
     "metadata": {},
     "output_type": "execute_result"
    }
   ],
   "source": [
    "# Оформим полученые данные более наглядню, сформировав сводную таблицу\n",
    "\n",
    "income_stat=df.pivot_table(index = ['income_categories'], columns = 'debt', values = 'family_status_id', aggfunc='count')\n",
    "new_columns = ['платежи в срок','просроченные платежи']\n",
    "income_stat.set_axis(new_columns, axis='columns',inplace = True)\n",
    "income_stat['debt_ratio'] = income_stat['просроченные платежи'] / (income_stat['просроченные платежи'] + income_stat['платежи в срок']) * 100\n",
    "income_stat.round(2).sort_values('debt_ratio')\n"
   ]
  },
  {
   "cell_type": "code",
   "execution_count": null,
   "metadata": {},
   "outputs": [],
   "source": [
    "income1_stat=df.pivot_table(index = ['income_categories'], columns = 'debt', values = 'family_status_id', aggfunc='count')\n",
    "new_columns = ['платежи в срок','просроченные платежи']\n",
    "income1_stat.set_axis(new_columns, axis='columns',inplace = True)\n",
    "income1_stat['debt_ratio'] = income_stat['просроченные платежи'] / (income_stat['просроченные платежи'] + income_stat['платежи в срок']) * 100\n",
    "income1_stat.round(2).sort_values('debt_ratio')"
   ]
  },
  {
   "cell_type": "markdown",
   "metadata": {},
   "source": [
    "### Вывод"
   ]
  },
  {
   "cell_type": "markdown",
   "metadata": {},
   "source": [
    "Из полученных данных следует, что заемщики с высоким доходом чаще возвращают кредиты в срок (21% от займов выплачиваемых в срок при 18% от просроченых займов), чем заемщики со средним уровнем дохода (55% от займов выплачиваемых в срок при 59% от просроченых займов).\n"
   ]
  },
  {
   "cell_type": "markdown",
   "metadata": {},
   "source": [
    "- Как разные цели кредита влияют на его возврат в срок?"
   ]
  },
  {
   "cell_type": "code",
   "execution_count": 124,
   "metadata": {},
   "outputs": [
    {
     "name": "stdout",
     "output_type": "stream",
     "text": [
      "Деньги для покупки жилья    10811\n",
      "Покупка aвтомобиля           4306\n",
      "Получение образование        4013\n",
      "Деньги для свадьбы           2324\n",
      "Name: purpose_group, dtype: int64\n",
      "                               purpose_group\n",
      "debt purpose_group                          \n",
      "0    Деньги для покупки жилья          10029\n",
      "     Деньги для свадьбы                 2138\n",
      "     Покупка aвтомобиля                 3903\n",
      "     Получение образование              3643\n",
      "1    Деньги для покупки жилья            782\n",
      "     Деньги для свадьбы                  186\n",
      "     Покупка aвтомобиля                  403\n",
      "     Получение образование               370\n",
      "0    19713\n",
      "1     1741\n",
      "Name: debt, dtype: int64\n"
     ]
    }
   ],
   "source": [
    "print(df['purpose_group'].value_counts())\n",
    "# Сгруппируем данные столбцов 'purpose_group'  и 'debt' в таблицу 'debt_purpose_group'\n",
    "debt_purpose_group = df.groupby(['debt', 'purpose_group']).agg({'purpose_group':'count'})\n",
    "print(debt_purpose_group)\n",
    "print(df['debt'].value_counts())"
   ]
  },
  {
   "cell_type": "code",
   "execution_count": 125,
   "metadata": {},
   "outputs": [
    {
     "name": "stdout",
     "output_type": "stream",
     "text": [
      "                               purpose_group  percentage %\n",
      "debt purpose_group                                        \n",
      "0    Деньги для покупки жилья          10029            50\n",
      "     Деньги для свадьбы                 2138            10\n",
      "     Покупка aвтомобиля                 3903            19\n",
      "     Получение образование              3643            18\n",
      "1    Деньги для покупки жилья            782            44\n",
      "     Деньги для свадьбы                  186            10\n",
      "     Покупка aвтомобиля                  403            23\n",
      "     Получение образование               370            21\n"
     ]
    }
   ],
   "source": [
    "# Добавим в таблицу 'debt_purpose_group' столбец 'percentage %' отражающий процентное соотношение между количеством детей у заемщиков\n",
    "# от кредитной массы без просроченных платежей - 'debt = 0' (19730 кредитов) и кредитной массы с просроченными платежами -\n",
    "# - 'debt = 1' (1741 кредитов)\n",
    "debt_purpose_group['percentage %'] = (10032/19784*100, 2149/19784*100, 3905/19784*100, 3644/19784*100, 782/1741*100, 186/1741*100, 403/1741*100, 370/1741*100)\n",
    "debt_purpose_group['percentage %'] = debt_purpose_group['percentage %'].astype('int')\n",
    "print(debt_purpose_group)"
   ]
  },
  {
   "cell_type": "code",
   "execution_count": 130,
   "metadata": {},
   "outputs": [
    {
     "data": {
      "text/html": [
       "<div>\n",
       "<style scoped>\n",
       "    .dataframe tbody tr th:only-of-type {\n",
       "        vertical-align: middle;\n",
       "    }\n",
       "\n",
       "    .dataframe tbody tr th {\n",
       "        vertical-align: top;\n",
       "    }\n",
       "\n",
       "    .dataframe thead th {\n",
       "        text-align: right;\n",
       "    }\n",
       "</style>\n",
       "<table border=\"1\" class=\"dataframe\">\n",
       "  <thead>\n",
       "    <tr style=\"text-align: right;\">\n",
       "      <th></th>\n",
       "      <th>платежи в срок</th>\n",
       "      <th>просроченные платежи</th>\n",
       "      <th>debt_ratio</th>\n",
       "    </tr>\n",
       "    <tr>\n",
       "      <th>purpose_group</th>\n",
       "      <th></th>\n",
       "      <th></th>\n",
       "      <th></th>\n",
       "    </tr>\n",
       "  </thead>\n",
       "  <tbody>\n",
       "    <tr>\n",
       "      <td>Деньги для покупки жилья</td>\n",
       "      <td>10029</td>\n",
       "      <td>782</td>\n",
       "      <td>7.23</td>\n",
       "    </tr>\n",
       "    <tr>\n",
       "      <td>Деньги для свадьбы</td>\n",
       "      <td>2138</td>\n",
       "      <td>186</td>\n",
       "      <td>8.00</td>\n",
       "    </tr>\n",
       "    <tr>\n",
       "      <td>Получение образование</td>\n",
       "      <td>3643</td>\n",
       "      <td>370</td>\n",
       "      <td>9.22</td>\n",
       "    </tr>\n",
       "    <tr>\n",
       "      <td>Покупка aвтомобиля</td>\n",
       "      <td>3903</td>\n",
       "      <td>403</td>\n",
       "      <td>9.36</td>\n",
       "    </tr>\n",
       "  </tbody>\n",
       "</table>\n",
       "</div>"
      ],
      "text/plain": [
       "                          платежи в срок  просроченные платежи  debt_ratio\n",
       "purpose_group                                                             \n",
       "Деньги для покупки жилья           10029                   782        7.23\n",
       "Деньги для свадьбы                  2138                   186        8.00\n",
       "Получение образование               3643                   370        9.22\n",
       "Покупка aвтомобиля                  3903                   403        9.36"
      ]
     },
     "execution_count": 130,
     "metadata": {},
     "output_type": "execute_result"
    }
   ],
   "source": [
    "# Оформим полученые данные более наглядню, сформировав сводную таблицу\n",
    "\n",
    "purpose_stat=df.pivot_table(index = ['purpose_group'], columns = 'debt', values = 'family_status_id', aggfunc='count')\n",
    "new_columns = ['платежи в срок','просроченные платежи']\n",
    "purpose_stat.set_axis(new_columns, axis='columns',inplace = True)\n",
    "purpose_stat['debt_ratio'] = purpose_stat['просроченные платежи'] / (purpose_stat['просроченные платежи'] + purpose_stat['платежи в срок']) * 100\n",
    "purpose_stat.round(2).sort_values('debt_ratio')\n"
   ]
  },
  {
   "cell_type": "markdown",
   "metadata": {},
   "source": [
    "### Вывод"
   ]
  },
  {
   "cell_type": "markdown",
   "metadata": {},
   "source": [
    "На основе полученных данных можно сделать вывод что просроченых платежей по кредитам взятым на прибритение жилья (50% от займов выплачиваемых в срок при 44% от просроченых займов) меньше чем по другим категориям. Причиной наблюдаемого явления может являться тот факт, что в большинстве случаев, залогом по кредиту на покупку жилья становится само приобретаемое жилье, что несомненно является существенной мотивацией для заемщика к исполнению взятых на себя обязательств."
   ]
  },
  {
   "cell_type": "markdown",
   "metadata": {},
   "source": [
    "### Шаг 4. Общий вывод"
   ]
  },
  {
   "cell_type": "markdown",
   "metadata": {},
   "source": [
    "В результате анализа представленных данных удалось найти ответы на поставленные вопросы, а именно:\n",
    "- Заемщики у которых нет детей чаще возвращают кредиты в срок, чем заемщики с детьми.\n",
    "- \"Семейные\" заемщики чаще возвращают кредиты в срок, чем холостые.\n",
    "- Заемщики с выскоим и низкими доходами чаще возвращают кредиты в срок, чем заемщики со средним уровнем доходов.\n",
    "- Кредиты взятые на приобретение недвижимости чаще возвращают в срок, чем кредиты на свадьбы, автомобили, образование."
   ]
  }
 ],
 "metadata": {
  "kernelspec": {
   "display_name": "Python 3",
   "language": "python",
   "name": "python3"
  },
  "language_info": {
   "codemirror_mode": {
    "name": "ipython",
    "version": 3
   },
   "file_extension": ".py",
   "mimetype": "text/x-python",
   "name": "python",
   "nbconvert_exporter": "python",
   "pygments_lexer": "ipython3",
   "version": "3.7.6"
  }
 },
 "nbformat": 4,
 "nbformat_minor": 2
}
